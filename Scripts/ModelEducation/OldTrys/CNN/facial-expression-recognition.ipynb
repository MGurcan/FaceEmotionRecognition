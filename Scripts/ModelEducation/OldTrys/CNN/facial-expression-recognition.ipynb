{
 "cells": [
  {
   "cell_type": "markdown",
   "id": "7d22fdc4",
   "metadata": {
    "papermill": {
     "duration": 0.014012,
     "end_time": "2023-12-18T03:00:41.661089",
     "exception": false,
     "start_time": "2023-12-18T03:00:41.647077",
     "status": "completed"
    },
    "tags": []
   },
   "source": [
    "# Overview \n",
    "\n",
    "### 1) Understand the dataset and describe the challenge (Loading the data, getting its shape, checking for missing values, objectives, etc.)\n",
    "\n",
    "### 2) Feature Engineering/Data Preprocessing for Model Data Exploration\n",
    "\n",
    "### 3) Data Exploration (Exploring numerical, categorical data, and plotting)\n",
    "\n",
    "### 4) Basic Model Building/Model Tuning \n",
    "\n",
    "### 5) Results"
   ]
  },
  {
   "cell_type": "markdown",
   "id": "8f164d40",
   "metadata": {
    "papermill": {
     "duration": 0.01306,
     "end_time": "2023-12-18T03:00:41.687551",
     "exception": false,
     "start_time": "2023-12-18T03:00:41.674491",
     "status": "completed"
    },
    "tags": []
   },
   "source": [
    "# 1)  Understand the dataset and describe the challenge"
   ]
  },
  {
   "cell_type": "markdown",
   "id": "42b2911b",
   "metadata": {
    "papermill": {
     "duration": 0.013011,
     "end_time": "2023-12-18T03:00:41.713822",
     "exception": false,
     "start_time": "2023-12-18T03:00:41.700811",
     "status": "completed"
    },
    "tags": []
   },
   "source": [
    "In this notebook we will build an image classification model to identify the emotion being expressed in images of human faces. \n",
    "\n",
    "Some important characteristics of the dataset:\n",
    "\n",
    "- The target variable, emotion, is integer encoded with 7 possible label values. You can find descriptions of the label values in the Data tab of the competition.\n",
    "- The metric used for the contest is classification accuracy.\n",
    "- There are 28,709 training images.\n",
    "- The images are grayscale with a resolution of 48x48.\n",
    "- Since the images are relatively small and in grayscale, the pixel values for images in the training are stored in a single text file rather than as individual images. The test data is provided in a similar way."
   ]
  },
  {
   "cell_type": "code",
   "execution_count": 1,
   "id": "143ed255",
   "metadata": {
    "execution": {
     "iopub.execute_input": "2023-12-18T03:00:41.742197Z",
     "iopub.status.busy": "2023-12-18T03:00:41.741865Z",
     "iopub.status.idle": "2023-12-18T03:00:56.228512Z",
     "shell.execute_reply": "2023-12-18T03:00:56.227576Z"
    },
    "papermill": {
     "duration": 14.503801,
     "end_time": "2023-12-18T03:00:56.230876",
     "exception": false,
     "start_time": "2023-12-18T03:00:41.727075",
     "status": "completed"
    },
    "tags": []
   },
   "outputs": [
    {
     "name": "stderr",
     "output_type": "stream",
     "text": [
      "/opt/conda/lib/python3.10/site-packages/scipy/__init__.py:146: UserWarning: A NumPy version >=1.16.5 and <1.23.0 is required for this version of SciPy (detected version 1.24.3\n",
      "  warnings.warn(f\"A NumPy version >={np_minversion} and <{np_maxversion}\"\n"
     ]
    }
   ],
   "source": [
    "# Importing helpful packages \n",
    "\n",
    "import tensorflow as tf\n",
    "import pandas as pd\n",
    "import numpy as np\n",
    "import os\n",
    "import matplotlib.pyplot as plt\n",
    "from tensorflow.keras.models import Sequential\n",
    "from tensorflow.keras.layers import *\n",
    "from sklearn.metrics import confusion_matrix\n",
    "from mlxtend.plotting import plot_confusion_matrix\n",
    "import scikitplot\n",
    "import seaborn as sns\n",
    "import keras\n",
    "from keras import models\n",
    "from keras.layers import Dense, Dropout, Flatten, Conv2D, MaxPooling2D\n",
    "from keras.optimizers import RMSprop,Adam\n",
    "from keras.utils import to_categorical\n",
    "from keras.preprocessing.image import ImageDataGenerator"
   ]
  },
  {
   "cell_type": "code",
   "execution_count": 2,
   "id": "d02e403a",
   "metadata": {
    "execution": {
     "iopub.execute_input": "2023-12-18T03:00:56.260001Z",
     "iopub.status.busy": "2023-12-18T03:00:56.259274Z",
     "iopub.status.idle": "2023-12-18T03:01:02.089564Z",
     "shell.execute_reply": "2023-12-18T03:01:02.088530Z"
    },
    "papermill": {
     "duration": 5.847061,
     "end_time": "2023-12-18T03:01:02.091878",
     "exception": false,
     "start_time": "2023-12-18T03:00:56.244817",
     "status": "completed"
    },
    "tags": []
   },
   "outputs": [],
   "source": [
    "# Load the dataset\n",
    "\n",
    "path = '/kaggle/input/challenges-in-representation-learning-facial-expression-recognition-challenge/'\n",
    "\n",
    "data = pd.read_csv(path+'icml_face_data.csv')\n"
   ]
  },
  {
   "cell_type": "code",
   "execution_count": 3,
   "id": "1166a8a1",
   "metadata": {
    "execution": {
     "iopub.execute_input": "2023-12-18T03:01:02.122084Z",
     "iopub.status.busy": "2023-12-18T03:01:02.121730Z",
     "iopub.status.idle": "2023-12-18T03:01:02.327705Z",
     "shell.execute_reply": "2023-12-18T03:01:02.326661Z"
    },
    "papermill": {
     "duration": 0.223939,
     "end_time": "2023-12-18T03:01:02.329962",
     "exception": false,
     "start_time": "2023-12-18T03:01:02.106023",
     "status": "completed"
    },
    "tags": []
   },
   "outputs": [],
   "source": [
    "# Creating a few useful functions\n",
    "\n",
    "def plot_all_emotions():\n",
    "    fig, axs = plt.subplots(1, 7, figsize=(30, 12))\n",
    "    fig.subplots_adjust(hspace = .2, wspace=.2)\n",
    "    axs = axs.ravel()\n",
    "    for i in range(7):\n",
    "        idx = data[data['emotion']==i].index[i]\n",
    "        axs[i].imshow(train_images[idx][:,:,0], cmap='gray')\n",
    "        axs[i].set_title(emotions[train_labels[idx].argmax()])\n",
    "        axs[i].set_xticklabels([])\n",
    "        axs[i].set_yticklabels([])\n",
    "\n",
    "def prepare_data(data):\n",
    "    \"\"\" Prepare data for modeling \n",
    "        input: data frame with labels und pixel data\n",
    "        output: image and label array \"\"\"\n",
    "    \n",
    "    image_array = np.zeros(shape=(len(data), 48, 48))\n",
    "    image_label = np.array(list(map(int, data['emotion'])))\n",
    "    \n",
    "    for i, row in enumerate(data.index):\n",
    "        image = np.fromstring(data.loc[row, ' pixels'], dtype=int, sep=' ')\n",
    "        image = np.reshape(image, (48, 48))\n",
    "        image_array[i] = image\n",
    "        \n",
    "    return image_array, image_label\n",
    "\n",
    "def plot_compare_distributions(array1, array2, title1='', title2=''):\n",
    "    df_array1 = pd.DataFrame()\n",
    "    df_array2 = pd.DataFrame()\n",
    "    df_array1['emotion'] = array1.argmax(axis=1)\n",
    "    df_array2['emotion'] = array2.argmax(axis=1)\n",
    "    \n",
    "    fig, axs = plt.subplots(1, 2, figsize=(12, 6), sharey=False)\n",
    "    x = emotions.values()\n",
    "    \n",
    "    y = df_array1['emotion'].value_counts()\n",
    "    keys_missed = list(set(emotions.keys()).difference(set(y.keys())))\n",
    "    for key_missed in keys_missed:\n",
    "        y[key_missed] = 0\n",
    "    axs[0].bar(x, y.sort_index(), color='orange')\n",
    "    axs[0].set_title(title1)\n",
    "    axs[0].grid()\n",
    "    \n",
    "    y = df_array2['emotion'].value_counts()\n",
    "    keys_missed = list(set(emotions.keys()).difference(set(y.keys())))\n",
    "    for key_missed in keys_missed:\n",
    "        y[key_missed] = 0\n",
    "    axs[1].bar(x, y.sort_index())\n",
    "    axs[1].set_title(title2)\n",
    "    axs[1].grid()\n",
    "    \n",
    "    plt.show()"
   ]
  },
  {
   "cell_type": "code",
   "execution_count": 4,
   "id": "c822c9d0",
   "metadata": {
    "execution": {
     "iopub.execute_input": "2023-12-18T03:01:02.359440Z",
     "iopub.status.busy": "2023-12-18T03:01:02.359131Z",
     "iopub.status.idle": "2023-12-18T03:01:02.363689Z",
     "shell.execute_reply": "2023-12-18T03:01:02.362805Z"
    },
    "papermill": {
     "duration": 0.021082,
     "end_time": "2023-12-18T03:01:02.365859",
     "exception": false,
     "start_time": "2023-12-18T03:01:02.344777",
     "status": "completed"
    },
    "tags": []
   },
   "outputs": [
    {
     "name": "stdout",
     "output_type": "stream",
     "text": [
      "(35887, 3)\n"
     ]
    }
   ],
   "source": [
    "### Getting the shape of the dataset\n",
    "\n",
    "print(data.shape)"
   ]
  },
  {
   "cell_type": "code",
   "execution_count": 5,
   "id": "576b589b",
   "metadata": {
    "execution": {
     "iopub.execute_input": "2023-12-18T03:01:02.394561Z",
     "iopub.status.busy": "2023-12-18T03:01:02.394025Z",
     "iopub.status.idle": "2023-12-18T03:01:02.398443Z",
     "shell.execute_reply": "2023-12-18T03:01:02.397627Z"
    },
    "papermill": {
     "duration": 0.020801,
     "end_time": "2023-12-18T03:01:02.400406",
     "exception": false,
     "start_time": "2023-12-18T03:01:02.379605",
     "status": "completed"
    },
    "tags": []
   },
   "outputs": [],
   "source": [
    "emotion_label_to_text = {0:'anger', 1:'disgust', 2:'fear', 3:'happiness', 4: 'sadness', 5: 'surprise', 6: 'neutral'}"
   ]
  },
  {
   "cell_type": "code",
   "execution_count": 6,
   "id": "bad0614c",
   "metadata": {
    "execution": {
     "iopub.execute_input": "2023-12-18T03:01:02.429690Z",
     "iopub.status.busy": "2023-12-18T03:01:02.428969Z",
     "iopub.status.idle": "2023-12-18T03:01:02.450352Z",
     "shell.execute_reply": "2023-12-18T03:01:02.449537Z"
    },
    "papermill": {
     "duration": 0.037975,
     "end_time": "2023-12-18T03:01:02.452354",
     "exception": false,
     "start_time": "2023-12-18T03:01:02.414379",
     "status": "completed"
    },
    "tags": []
   },
   "outputs": [
    {
     "data": {
      "text/plain": [
       "emotion\n",
       "3    8989\n",
       "6    6198\n",
       "4    6077\n",
       "2    5121\n",
       "0    4953\n",
       "5    4002\n",
       "1     547\n",
       "Name: count, dtype: int64"
      ]
     },
     "execution_count": 6,
     "metadata": {},
     "output_type": "execute_result"
    }
   ],
   "source": [
    "# Exploring the count of emotion \n",
    "\n",
    "data.emotion.value_counts()"
   ]
  },
  {
   "cell_type": "code",
   "execution_count": 7,
   "id": "0193d0d1",
   "metadata": {
    "execution": {
     "iopub.execute_input": "2023-12-18T03:01:02.480993Z",
     "iopub.status.busy": "2023-12-18T03:01:02.480715Z",
     "iopub.status.idle": "2023-12-18T03:01:02.511675Z",
     "shell.execute_reply": "2023-12-18T03:01:02.510791Z"
    },
    "papermill": {
     "duration": 0.04742,
     "end_time": "2023-12-18T03:01:02.513701",
     "exception": false,
     "start_time": "2023-12-18T03:01:02.466281",
     "status": "completed"
    },
    "tags": []
   },
   "outputs": [
    {
     "data": {
      "text/plain": [
       "{0: 0.1391549688251071,\n",
       " 1: 0.01518687519593159,\n",
       " 2: 0.14270786164617366,\n",
       " 3: 0.2513149186666202,\n",
       " 4: 0.16823992476226968,\n",
       " 5: 0.11045316799609878,\n",
       " 6: 0.17294228290779895}"
      ]
     },
     "execution_count": 7,
     "metadata": {},
     "output_type": "execute_result"
    }
   ],
   "source": [
    "#  Breaking down each class of emotion \n",
    "\n",
    "class_weight = dict(zip(range(0, 7), (((data[data[' Usage']=='Training']['emotion'].value_counts()).sort_index())/len(data[data[' Usage']=='Training']['emotion'])).tolist()))\n",
    "class_weight"
   ]
  },
  {
   "cell_type": "markdown",
   "id": "29096cfb",
   "metadata": {
    "papermill": {
     "duration": 0.01386,
     "end_time": "2023-12-18T03:01:02.584187",
     "exception": false,
     "start_time": "2023-12-18T03:01:02.570327",
     "status": "completed"
    },
    "tags": []
   },
   "source": [
    "# 2) Feature Engineering/Data Preprocessing for Model Data Exploration"
   ]
  },
  {
   "cell_type": "code",
   "execution_count": 8,
   "id": "e6a82bf4",
   "metadata": {
    "execution": {
     "iopub.execute_input": "2023-12-18T03:01:02.615007Z",
     "iopub.status.busy": "2023-12-18T03:01:02.614622Z",
     "iopub.status.idle": "2023-12-18T03:01:50.091910Z",
     "shell.execute_reply": "2023-12-18T03:01:50.090952Z"
    },
    "papermill": {
     "duration": 47.509439,
     "end_time": "2023-12-18T03:01:50.107477",
     "exception": false,
     "start_time": "2023-12-18T03:01:02.598038",
     "status": "completed"
    },
    "tags": []
   },
   "outputs": [
    {
     "name": "stdout",
     "output_type": "stream",
     "text": [
      "Counter({0: 7026, 4: 7026, 6: 7026, 2: 7026, 3: 7026, 5: 7026, 1: 7026})\n"
     ]
    }
   ],
   "source": [
    "from imblearn.under_sampling import RandomUnderSampler, TomekLinks\n",
    "from imblearn.over_sampling import RandomOverSampler, SMOTE\n",
    "from imblearn.pipeline import Pipeline\n",
    "\n",
    "from collections import Counter\n",
    "emotions = {0: 'Angry', 1: 'Disgust', 2: 'Fear', 3: 'Happy', 4: 'Sad', 5: 'Surprise', 6: 'Neutral'}\n",
    "\n",
    "train_image_array, train_image_label = prepare_data(data[data[' Usage']=='Training'])\n",
    "val_image_array, val_image_label = prepare_data(data[data[' Usage']=='PrivateTest'])\n",
    "test_image_array, test_image_label = prepare_data(data[data[' Usage']=='PublicTest'])\n",
    "pp = Pipeline([('tk',TomekLinks()),('ros',RandomOverSampler(random_state=0))])\n",
    "train_image_array, train_image_label = pp.fit_resample(train_image_array.reshape(train_image_array.shape[0],48*48), train_image_label)\n",
    "print(Counter(train_image_label))\n",
    "train_image_array = train_image_array.reshape(train_image_array.shape[0], 48, 48)"
   ]
  },
  {
   "cell_type": "code",
   "execution_count": 9,
   "id": "1fadd553",
   "metadata": {
    "execution": {
     "iopub.execute_input": "2023-12-18T03:01:50.138531Z",
     "iopub.status.busy": "2023-12-18T03:01:50.137881Z",
     "iopub.status.idle": "2023-12-18T03:01:50.350651Z",
     "shell.execute_reply": "2023-12-18T03:01:50.349543Z"
    },
    "papermill": {
     "duration": 0.230913,
     "end_time": "2023-12-18T03:01:50.353112",
     "exception": false,
     "start_time": "2023-12-18T03:01:50.122199",
     "status": "completed"
    },
    "tags": []
   },
   "outputs": [],
   "source": [
    "train_images = train_image_array.reshape((train_image_array.shape[0], 48, 48, 1))\n",
    "train_images = train_images.astype('float32')\n",
    "val_images = val_image_array.reshape((val_image_array.shape[0], 48, 48, 1))\n",
    "val_images = val_images.astype('float32')\n",
    "test_images = test_image_array.reshape((test_image_array.shape[0], 48, 48, 1))\n",
    "test_images = test_images.astype('float32')\n",
    "\n",
    "train_labels = tf.keras.utils.to_categorical(train_image_label)\n",
    "val_labels = tf.keras.utils.to_categorical(val_image_label)\n",
    "test_labels = tf.keras.utils.to_categorical(test_image_label)"
   ]
  },
  {
   "cell_type": "code",
   "execution_count": 10,
   "id": "1efba514",
   "metadata": {
    "execution": {
     "iopub.execute_input": "2023-12-18T03:01:50.383820Z",
     "iopub.status.busy": "2023-12-18T03:01:50.383086Z",
     "iopub.status.idle": "2023-12-18T03:01:50.389360Z",
     "shell.execute_reply": "2023-12-18T03:01:50.388463Z"
    },
    "papermill": {
     "duration": 0.023883,
     "end_time": "2023-12-18T03:01:50.391393",
     "exception": false,
     "start_time": "2023-12-18T03:01:50.367510",
     "status": "completed"
    },
    "tags": []
   },
   "outputs": [
    {
     "data": {
      "text/plain": [
       "(49182, 48, 48, 1)"
      ]
     },
     "execution_count": 10,
     "metadata": {},
     "output_type": "execute_result"
    }
   ],
   "source": [
    "train_images.shape"
   ]
  },
  {
   "cell_type": "code",
   "execution_count": 11,
   "id": "860864a8",
   "metadata": {
    "execution": {
     "iopub.execute_input": "2023-12-18T03:01:50.421971Z",
     "iopub.status.busy": "2023-12-18T03:01:50.421648Z",
     "iopub.status.idle": "2023-12-18T03:01:50.427417Z",
     "shell.execute_reply": "2023-12-18T03:01:50.426580Z"
    },
    "papermill": {
     "duration": 0.023303,
     "end_time": "2023-12-18T03:01:50.429428",
     "exception": false,
     "start_time": "2023-12-18T03:01:50.406125",
     "status": "completed"
    },
    "tags": []
   },
   "outputs": [
    {
     "data": {
      "text/plain": [
       "(3589, 48, 48, 1)"
      ]
     },
     "execution_count": 11,
     "metadata": {},
     "output_type": "execute_result"
    }
   ],
   "source": [
    "val_images.shape"
   ]
  },
  {
   "cell_type": "code",
   "execution_count": 12,
   "id": "cffe3a69",
   "metadata": {
    "execution": {
     "iopub.execute_input": "2023-12-18T03:01:50.460100Z",
     "iopub.status.busy": "2023-12-18T03:01:50.459758Z",
     "iopub.status.idle": "2023-12-18T03:01:50.465686Z",
     "shell.execute_reply": "2023-12-18T03:01:50.464878Z"
    },
    "papermill": {
     "duration": 0.023835,
     "end_time": "2023-12-18T03:01:50.467714",
     "exception": false,
     "start_time": "2023-12-18T03:01:50.443879",
     "status": "completed"
    },
    "tags": []
   },
   "outputs": [
    {
     "data": {
      "text/plain": [
       "(3589, 48, 48, 1)"
      ]
     },
     "execution_count": 12,
     "metadata": {},
     "output_type": "execute_result"
    }
   ],
   "source": [
    "test_images.shape"
   ]
  },
  {
   "cell_type": "markdown",
   "id": "f15d76c0",
   "metadata": {
    "execution": {
     "iopub.execute_input": "2023-11-13T04:36:28.867747Z",
     "iopub.status.busy": "2023-11-13T04:36:28.866767Z",
     "iopub.status.idle": "2023-11-13T04:36:28.871568Z",
     "shell.execute_reply": "2023-11-13T04:36:28.870619Z",
     "shell.execute_reply.started": "2023-11-13T04:36:28.867709Z"
    },
    "papermill": {
     "duration": 0.014546,
     "end_time": "2023-12-18T03:01:50.497066",
     "exception": false,
     "start_time": "2023-12-18T03:01:50.482520",
     "status": "completed"
    },
    "tags": []
   },
   "source": [
    "# 3) Data Exploration (Exploring numerical, categorical data, and plotting)"
   ]
  },
  {
   "cell_type": "code",
   "execution_count": 13,
   "id": "139bf72b",
   "metadata": {
    "execution": {
     "iopub.execute_input": "2023-12-18T03:01:50.528106Z",
     "iopub.status.busy": "2023-12-18T03:01:50.527724Z",
     "iopub.status.idle": "2023-12-18T03:01:51.004989Z",
     "shell.execute_reply": "2023-12-18T03:01:51.003975Z"
    },
    "papermill": {
     "duration": 0.495283,
     "end_time": "2023-12-18T03:01:51.007175",
     "exception": false,
     "start_time": "2023-12-18T03:01:50.511892",
     "status": "completed"
    },
    "tags": []
   },
   "outputs": [
    {
     "data": {
      "image/png": "[encoded data removed]",
      "text/plain": [
       "<Figure size 1200x600 with 2 Axes>"
      ]
     },
     "metadata": {},
     "output_type": "display_data"
    }
   ],
   "source": [
    "# Visualizing emotion count \n",
    "\n",
    "plot_compare_distributions(train_labels, val_labels, title1='train labels', title2='val labels')"
   ]
  },
  {
   "cell_type": "code",
   "execution_count": 14,
   "id": "5c1509f7",
   "metadata": {
    "execution": {
     "iopub.execute_input": "2023-12-18T03:01:51.039009Z",
     "iopub.status.busy": "2023-12-18T03:01:51.038704Z",
     "iopub.status.idle": "2023-12-18T03:01:52.167748Z",
     "shell.execute_reply": "2023-12-18T03:01:52.166824Z"
    },
    "papermill": {
     "duration": 1.147438,
     "end_time": "2023-12-18T03:01:52.170002",
     "exception": false,
     "start_time": "2023-12-18T03:01:51.022564",
     "status": "completed"
    },
    "tags": []
   },
   "outputs": [
    {
     "data": {
      "image/png": "[encoded data removed]",
      "text/plain": [
       "<Figure size 3000x1200 with 7 Axes>"
      ]
     },
     "metadata": {},
     "output_type": "display_data"
    }
   ],
   "source": [
    "# Visualize the data \n",
    "\n",
    "plot_all_emotions()"
   ]
  },
  {
   "cell_type": "markdown",
   "id": "03bb9a44",
   "metadata": {
    "papermill": {
     "duration": 0.015505,
     "end_time": "2023-12-18T03:01:52.201371",
     "exception": false,
     "start_time": "2023-12-18T03:01:52.185866",
     "status": "completed"
    },
    "tags": []
   },
   "source": [
    "# 4) Building the model"
   ]
  },
  {
   "cell_type": "markdown",
   "id": "29030e73",
   "metadata": {
    "papermill": {
     "duration": 0.015441,
     "end_time": "2023-12-18T03:01:52.233320",
     "exception": false,
     "start_time": "2023-12-18T03:01:52.217879",
     "status": "completed"
    },
    "tags": []
   },
   "source": [
    "### Model 1 - CNN"
   ]
  },
  {
   "cell_type": "code",
   "execution_count": 15,
   "id": "e64f6ee8",
   "metadata": {
    "execution": {
     "iopub.execute_input": "2023-12-18T03:01:52.266645Z",
     "iopub.status.busy": "2023-12-18T03:01:52.265868Z",
     "iopub.status.idle": "2023-12-18T03:01:56.463538Z",
     "shell.execute_reply": "2023-12-18T03:01:56.462538Z"
    },
    "papermill": {
     "duration": 4.234233,
     "end_time": "2023-12-18T03:01:56.483202",
     "exception": false,
     "start_time": "2023-12-18T03:01:52.248969",
     "status": "completed"
    },
    "tags": []
   },
   "outputs": [
    {
     "name": "stdout",
     "output_type": "stream",
     "text": [
      "Model: \"sequential\"\n",
      "_________________________________________________________________\n",
      " Layer (type)                Output Shape              Param #   \n",
      "=================================================================\n",
      " conv2d (Conv2D)             (None, 48, 48, 32)        320       \n",
      "                                                                 \n",
      " conv2d_1 (Conv2D)           (None, 48, 48, 32)        9248      \n",
      "                                                                 \n",
      " max_pooling2d (MaxPooling2  (None, 24, 24, 32)        0         \n",
      " D)                                                              \n",
      "                                                                 \n",
      " dropout (Dropout)           (None, 24, 24, 32)        0         \n",
      "                                                                 \n",
      " batch_normalization (Batch  (None, 24, 24, 32)        128       \n",
      " Normalization)                                                  \n",
      "                                                                 \n",
      " conv2d_2 (Conv2D)           (None, 24, 24, 64)        18496     \n",
      "                                                                 \n",
      " conv2d_3 (Conv2D)           (None, 24, 24, 64)        36928     \n",
      "                                                                 \n",
      " max_pooling2d_1 (MaxPoolin  (None, 12, 12, 64)        0         \n",
      " g2D)                                                            \n",
      "                                                                 \n",
      " dropout_1 (Dropout)         (None, 12, 12, 64)        0         \n",
      "                                                                 \n",
      " batch_normalization_1 (Bat  (None, 12, 12, 64)        256       \n",
      " chNormalization)                                                \n",
      "                                                                 \n",
      " conv2d_4 (Conv2D)           (None, 12, 12, 128)       73856     \n",
      "                                                                 \n",
      " conv2d_5 (Conv2D)           (None, 12, 12, 128)       147584    \n",
      "                                                                 \n",
      " max_pooling2d_2 (MaxPoolin  (None, 6, 6, 128)         0         \n",
      " g2D)                                                            \n",
      "                                                                 \n",
      " dropout_2 (Dropout)         (None, 6, 6, 128)         0         \n",
      "                                                                 \n",
      " batch_normalization_2 (Bat  (None, 6, 6, 128)         512       \n",
      " chNormalization)                                                \n",
      "                                                                 \n",
      " flatten (Flatten)           (None, 4608)              0         \n",
      "                                                                 \n",
      " dense (Dense)               (None, 64)                294976    \n",
      "                                                                 \n",
      " dropout_3 (Dropout)         (None, 64)                0         \n",
      "                                                                 \n",
      " dense_1 (Dense)             (None, 32)                2080      \n",
      "                                                                 \n",
      " dropout_4 (Dropout)         (None, 32)                0         \n",
      "                                                                 \n",
      " batch_normalization_3 (Bat  (None, 32)                128       \n",
      " chNormalization)                                                \n",
      "                                                                 \n",
      " dense_2 (Dense)             (None, 7)                 231       \n",
      "                                                                 \n",
      "=================================================================\n",
      "Total params: 584743 (2.23 MB)\n",
      "Trainable params: 584231 (2.23 MB)\n",
      "Non-trainable params: 512 (2.00 KB)\n",
      "_________________________________________________________________\n"
     ]
    }
   ],
   "source": [
    "model = Sequential([\n",
    "    Conv2D(32, (3,3), activation = 'relu', padding = 'same', input_shape = (48,48,1)),\n",
    "    Conv2D(32, (3,3), activation = 'relu', padding = 'same'),\n",
    "    MaxPooling2D(2,2),\n",
    "    Dropout(0.25),\n",
    "    BatchNormalization(),\n",
    "\n",
    "    Conv2D(64, (3,3), activation = 'relu', padding = 'same'),\n",
    "    Conv2D(64, (3,3), activation = 'relu', padding = 'same'),\n",
    "    MaxPooling2D(2,2),\n",
    "    Dropout(0.25),\n",
    "    BatchNormalization(),\n",
    "    \n",
    "    Conv2D(128, (3,3), activation = 'relu', padding = 'same'),\n",
    "    Conv2D(128, (3,3), activation = 'relu', padding = 'same'),\n",
    "    MaxPooling2D(2,2),\n",
    "    Dropout(0.25),\n",
    "    BatchNormalization(),\n",
    "\n",
    "    Flatten(),\n",
    "    \n",
    "    Dense(64, activation='relu'),\n",
    "    Dropout(0.25),\n",
    "    Dense(32, activation='relu'),\n",
    "    Dropout(0.25),\n",
    "    BatchNormalization(),\n",
    "    Dense(7, activation='softmax')\n",
    "])\n",
    "\n",
    "model.summary()"
   ]
  },
  {
   "cell_type": "code",
   "execution_count": 16,
   "id": "1a88c1ac",
   "metadata": {
    "execution": {
     "iopub.execute_input": "2023-12-18T03:01:56.527379Z",
     "iopub.status.busy": "2023-12-18T03:01:56.527089Z",
     "iopub.status.idle": "2023-12-18T03:01:56.545623Z",
     "shell.execute_reply": "2023-12-18T03:01:56.544730Z"
    },
    "papermill": {
     "duration": 0.04316,
     "end_time": "2023-12-18T03:01:56.547598",
     "exception": false,
     "start_time": "2023-12-18T03:01:56.504438",
     "status": "completed"
    },
    "tags": []
   },
   "outputs": [],
   "source": [
    "model.compile(optimizer=Adam(lr=1e-3), loss='categorical_crossentropy', metrics=['accuracy'])"
   ]
  },
  {
   "cell_type": "code",
   "execution_count": 17,
   "id": "2802b0fe",
   "metadata": {
    "execution": {
     "iopub.execute_input": "2023-12-18T03:01:56.590828Z",
     "iopub.status.busy": "2023-12-18T03:01:56.590548Z",
     "iopub.status.idle": "2023-12-18T03:13:34.511671Z",
     "shell.execute_reply": "2023-12-18T03:13:34.510823Z"
    },
    "papermill": {
     "duration": 697.945127,
     "end_time": "2023-12-18T03:13:34.513874",
     "exception": false,
     "start_time": "2023-12-18T03:01:56.568747",
     "status": "completed"
    },
    "tags": []
   },
   "outputs": [
    {
     "name": "stdout",
     "output_type": "stream",
     "text": [
      "CPU times: user 4 µs, sys: 1 µs, total: 5 µs\n",
      "Wall time: 8.11 µs\n",
      "Epoch 1/50\n"
     ]
    },
    {
     "name": "stderr",
     "output_type": "stream",
     "text": [
      "2023-12-18 03:01:59.653691: E tensorflow/core/grappler/optimizers/meta_optimizer.cc:954] layout failed: INVALID_ARGUMENT: Size of values 0 does not match size of permutation 4 @ fanin shape insequential/dropout/dropout/SelectV2-2-TransposeNHWCToNCHW-LayoutOptimizer\n"
     ]
    },
    {
     "name": "stdout",
     "output_type": "stream",
     "text": [
      "769/769 [==============================] - 28s 19ms/step - loss: 0.2638 - accuracy: 0.2108 - val_loss: 1.5306 - val_accuracy: 0.4071\n",
      "Epoch 2/50\n",
      "769/769 [==============================] - 13s 18ms/step - loss: 0.2105 - accuracy: 0.3468 - val_loss: 1.3121 - val_accuracy: 0.4915\n",
      "Epoch 3/50\n",
      "769/769 [==============================] - 13s 18ms/step - loss: 0.1858 - accuracy: 0.4188 - val_loss: 1.2033 - val_accuracy: 0.5442\n",
      "Epoch 4/50\n",
      "769/769 [==============================] - 14s 18ms/step - loss: 0.1724 - accuracy: 0.4620 - val_loss: 1.1598 - val_accuracy: 0.5553\n",
      "Epoch 5/50\n",
      "769/769 [==============================] - 14s 18ms/step - loss: 0.1621 - accuracy: 0.5017 - val_loss: 1.1158 - val_accuracy: 0.5768\n",
      "Epoch 6/50\n",
      "769/769 [==============================] - 14s 18ms/step - loss: 0.1531 - accuracy: 0.5356 - val_loss: 1.1026 - val_accuracy: 0.5829\n",
      "Epoch 7/50\n",
      "769/769 [==============================] - 13s 17ms/step - loss: 0.1437 - accuracy: 0.5676 - val_loss: 1.0627 - val_accuracy: 0.5954\n",
      "Epoch 8/50\n",
      "769/769 [==============================] - 13s 17ms/step - loss: 0.1368 - accuracy: 0.5956 - val_loss: 1.0719 - val_accuracy: 0.5993\n",
      "Epoch 9/50\n",
      "769/769 [==============================] - 13s 18ms/step - loss: 0.1297 - accuracy: 0.6271 - val_loss: 1.0425 - val_accuracy: 0.6155\n",
      "Epoch 10/50\n",
      "769/769 [==============================] - 14s 18ms/step - loss: 0.1223 - accuracy: 0.6528 - val_loss: 1.0984 - val_accuracy: 0.6077\n",
      "Epoch 11/50\n",
      "769/769 [==============================] - 13s 18ms/step - loss: 0.1177 - accuracy: 0.6644 - val_loss: 1.0765 - val_accuracy: 0.6080\n",
      "Epoch 12/50\n",
      "769/769 [==============================] - 13s 17ms/step - loss: 0.1119 - accuracy: 0.6865 - val_loss: 1.1013 - val_accuracy: 0.6085\n",
      "Epoch 13/50\n",
      "769/769 [==============================] - 14s 18ms/step - loss: 0.1074 - accuracy: 0.7003 - val_loss: 1.0809 - val_accuracy: 0.6289\n",
      "Epoch 14/50\n",
      "769/769 [==============================] - 13s 17ms/step - loss: 0.1032 - accuracy: 0.7126 - val_loss: 1.1072 - val_accuracy: 0.6158\n",
      "Epoch 15/50\n",
      "769/769 [==============================] - 14s 18ms/step - loss: 0.0982 - accuracy: 0.7302 - val_loss: 1.0720 - val_accuracy: 0.6344\n",
      "Epoch 16/50\n",
      "769/769 [==============================] - 13s 17ms/step - loss: 0.0954 - accuracy: 0.7365 - val_loss: 1.0983 - val_accuracy: 0.6289\n",
      "Epoch 17/50\n",
      "769/769 [==============================] - 14s 18ms/step - loss: 0.0912 - accuracy: 0.7492 - val_loss: 1.1139 - val_accuracy: 0.6303\n",
      "Epoch 18/50\n",
      "769/769 [==============================] - 13s 17ms/step - loss: 0.0884 - accuracy: 0.7592 - val_loss: 1.0750 - val_accuracy: 0.6333\n",
      "Epoch 19/50\n",
      "769/769 [==============================] - 13s 17ms/step - loss: 0.0860 - accuracy: 0.7632 - val_loss: 1.1096 - val_accuracy: 0.6319\n",
      "Epoch 20/50\n",
      "769/769 [==============================] - 13s 18ms/step - loss: 0.0822 - accuracy: 0.7781 - val_loss: 1.0868 - val_accuracy: 0.6317\n",
      "Epoch 21/50\n",
      "769/769 [==============================] - 13s 17ms/step - loss: 0.0794 - accuracy: 0.7871 - val_loss: 1.1444 - val_accuracy: 0.6300\n",
      "Epoch 22/50\n",
      "769/769 [==============================] - 14s 18ms/step - loss: 0.0786 - accuracy: 0.7894 - val_loss: 1.1257 - val_accuracy: 0.6319\n",
      "Epoch 23/50\n",
      "769/769 [==============================] - 13s 17ms/step - loss: 0.0764 - accuracy: 0.7919 - val_loss: 1.1020 - val_accuracy: 0.6314\n",
      "Epoch 24/50\n",
      "769/769 [==============================] - 14s 18ms/step - loss: 0.0742 - accuracy: 0.7993 - val_loss: 1.1441 - val_accuracy: 0.6375\n",
      "Epoch 25/50\n",
      "769/769 [==============================] - 14s 18ms/step - loss: 0.0727 - accuracy: 0.8065 - val_loss: 1.1119 - val_accuracy: 0.6486\n",
      "Epoch 26/50\n",
      "769/769 [==============================] - 14s 18ms/step - loss: 0.0713 - accuracy: 0.8076 - val_loss: 1.1608 - val_accuracy: 0.6278\n",
      "Epoch 27/50\n",
      "769/769 [==============================] - 14s 18ms/step - loss: 0.0689 - accuracy: 0.8139 - val_loss: 1.1526 - val_accuracy: 0.6400\n",
      "Epoch 28/50\n",
      "769/769 [==============================] - 14s 18ms/step - loss: 0.0678 - accuracy: 0.8181 - val_loss: 1.1515 - val_accuracy: 0.6367\n",
      "Epoch 29/50\n",
      "769/769 [==============================] - 14s 18ms/step - loss: 0.0664 - accuracy: 0.8240 - val_loss: 1.2105 - val_accuracy: 0.6333\n",
      "Epoch 30/50\n",
      "769/769 [==============================] - 14s 18ms/step - loss: 0.0645 - accuracy: 0.8256 - val_loss: 1.2052 - val_accuracy: 0.6420\n",
      "Epoch 31/50\n",
      "769/769 [==============================] - 14s 18ms/step - loss: 0.0636 - accuracy: 0.8291 - val_loss: 1.1697 - val_accuracy: 0.6473\n",
      "Epoch 32/50\n",
      "769/769 [==============================] - 14s 18ms/step - loss: 0.0610 - accuracy: 0.8371 - val_loss: 1.2002 - val_accuracy: 0.6464\n",
      "Epoch 33/50\n",
      "769/769 [==============================] - 14s 18ms/step - loss: 0.0610 - accuracy: 0.8368 - val_loss: 1.1956 - val_accuracy: 0.6333\n",
      "Epoch 34/50\n",
      "769/769 [==============================] - 14s 18ms/step - loss: 0.0602 - accuracy: 0.8396 - val_loss: 1.2628 - val_accuracy: 0.6356\n",
      "Epoch 35/50\n",
      "769/769 [==============================] - 14s 18ms/step - loss: 0.0589 - accuracy: 0.8424 - val_loss: 1.1841 - val_accuracy: 0.6500\n",
      "Epoch 36/50\n",
      "769/769 [==============================] - 14s 18ms/step - loss: 0.0578 - accuracy: 0.8447 - val_loss: 1.2416 - val_accuracy: 0.6389\n",
      "Epoch 37/50\n",
      "769/769 [==============================] - 14s 18ms/step - loss: 0.0564 - accuracy: 0.8481 - val_loss: 1.2387 - val_accuracy: 0.6328\n",
      "Epoch 38/50\n",
      "769/769 [==============================] - 14s 18ms/step - loss: 0.0552 - accuracy: 0.8527 - val_loss: 1.2474 - val_accuracy: 0.6358\n",
      "Epoch 39/50\n",
      "769/769 [==============================] - 14s 18ms/step - loss: 0.0552 - accuracy: 0.8542 - val_loss: 1.2586 - val_accuracy: 0.6450\n",
      "Epoch 40/50\n",
      "769/769 [==============================] - 14s 18ms/step - loss: 0.0537 - accuracy: 0.8557 - val_loss: 1.2277 - val_accuracy: 0.6473\n",
      "Epoch 41/50\n",
      "769/769 [==============================] - 14s 18ms/step - loss: 0.0534 - accuracy: 0.8592 - val_loss: 1.2246 - val_accuracy: 0.6528\n",
      "Epoch 42/50\n",
      "769/769 [==============================] - 14s 18ms/step - loss: 0.0522 - accuracy: 0.8638 - val_loss: 1.2872 - val_accuracy: 0.6436\n",
      "Epoch 43/50\n",
      "769/769 [==============================] - 14s 18ms/step - loss: 0.0519 - accuracy: 0.8623 - val_loss: 1.2586 - val_accuracy: 0.6509\n",
      "Epoch 44/50\n",
      "769/769 [==============================] - 14s 18ms/step - loss: 0.0512 - accuracy: 0.8650 - val_loss: 1.2182 - val_accuracy: 0.6500\n",
      "Epoch 45/50\n",
      "769/769 [==============================] - 14s 18ms/step - loss: 0.0507 - accuracy: 0.8626 - val_loss: 1.2425 - val_accuracy: 0.6461\n",
      "Epoch 46/50\n",
      "769/769 [==============================] - 14s 18ms/step - loss: 0.0494 - accuracy: 0.8679 - val_loss: 1.2795 - val_accuracy: 0.6475\n",
      "Epoch 47/50\n",
      "769/769 [==============================] - 14s 18ms/step - loss: 0.0485 - accuracy: 0.8704 - val_loss: 1.2948 - val_accuracy: 0.6498\n",
      "Epoch 48/50\n",
      "769/769 [==============================] - 14s 18ms/step - loss: 0.0487 - accuracy: 0.8708 - val_loss: 1.3120 - val_accuracy: 0.6383\n",
      "Epoch 49/50\n",
      "769/769 [==============================] - 14s 18ms/step - loss: 0.0476 - accuracy: 0.8743 - val_loss: 1.2914 - val_accuracy: 0.6484\n",
      "Epoch 50/50\n",
      "769/769 [==============================] - 14s 18ms/step - loss: 0.0465 - accuracy: 0.8777 - val_loss: 1.2756 - val_accuracy: 0.6453\n"
     ]
    }
   ],
   "source": [
    "%time \n",
    "\n",
    "history = model.fit(train_images, train_labels,\n",
    "                    validation_data=(val_images, val_labels),\n",
    "                    class_weight = class_weight,\n",
    "                    epochs=50,\n",
    "                    batch_size=64)"
   ]
  },
  {
   "cell_type": "code",
   "execution_count": 18,
   "id": "4c2e16c5",
   "metadata": {
    "execution": {
     "iopub.execute_input": "2023-12-18T03:13:36.780517Z",
     "iopub.status.busy": "2023-12-18T03:13:36.780140Z",
     "iopub.status.idle": "2023-12-18T03:13:37.591835Z",
     "shell.execute_reply": "2023-12-18T03:13:37.590995Z"
    },
    "papermill": {
     "duration": 1.92801,
     "end_time": "2023-12-18T03:13:37.593841",
     "exception": false,
     "start_time": "2023-12-18T03:13:35.665831",
     "status": "completed"
    },
    "tags": []
   },
   "outputs": [
    {
     "name": "stdout",
     "output_type": "stream",
     "text": [
      "113/113 [==============================] - 1s 4ms/step - loss: 1.3713 - accuracy: 0.6202\n",
      "test accuracy: 0.6202284693717957\n"
     ]
    }
   ],
   "source": [
    "test_loss, test_acc = model.evaluate(test_images, test_labels)\n",
    "print('test accuracy:', test_acc)"
   ]
  },
  {
   "cell_type": "markdown",
   "id": "65b72f42",
   "metadata": {
    "papermill": {
     "duration": 1.066004,
     "end_time": "2023-12-18T03:13:39.786235",
     "exception": false,
     "start_time": "2023-12-18T03:13:38.720231",
     "status": "completed"
    },
    "tags": []
   },
   "source": [
    "### Model 1 Results"
   ]
  },
  {
   "cell_type": "code",
   "execution_count": 19,
   "id": "115317c8",
   "metadata": {
    "execution": {
     "iopub.execute_input": "2023-12-18T03:13:42.003651Z",
     "iopub.status.busy": "2023-12-18T03:13:42.002771Z",
     "iopub.status.idle": "2023-12-18T03:13:42.333890Z",
     "shell.execute_reply": "2023-12-18T03:13:42.333043Z"
    },
    "papermill": {
     "duration": 1.407101,
     "end_time": "2023-12-18T03:13:42.336127",
     "exception": false,
     "start_time": "2023-12-18T03:13:40.929026",
     "status": "completed"
    },
    "tags": []
   },
   "outputs": [
    {
     "data": {
      "image/png": "[encoded data removed]",
      "text/plain": [
       "<Figure size 640x480 with 1 Axes>"
      ]
     },
     "metadata": {},
     "output_type": "display_data"
    }
   ],
   "source": [
    "loss = history.history['loss']\n",
    "loss_val = history.history['val_loss']\n",
    "epochs = range(1, len(loss)+1)\n",
    "plt.plot(epochs, loss, 'bo', label='loss_train')\n",
    "plt.plot(epochs, loss_val, 'b', label='loss_val')\n",
    "plt.title('value of the loss function')\n",
    "plt.xlabel('epochs')\n",
    "plt.ylabel('value of the loss function')\n",
    "plt.legend()\n",
    "plt.grid()\n",
    "plt.show()"
   ]
  },
  {
   "cell_type": "code",
   "execution_count": 20,
   "id": "7c272e87",
   "metadata": {
    "execution": {
     "iopub.execute_input": "2023-12-18T03:13:44.661301Z",
     "iopub.status.busy": "2023-12-18T03:13:44.660647Z",
     "iopub.status.idle": "2023-12-18T03:13:44.993815Z",
     "shell.execute_reply": "2023-12-18T03:13:44.992894Z"
    },
    "papermill": {
     "duration": 1.499106,
     "end_time": "2023-12-18T03:13:44.995888",
     "exception": false,
     "start_time": "2023-12-18T03:13:43.496782",
     "status": "completed"
    },
    "tags": []
   },
   "outputs": [
    {
     "data": {
      "image/png": "[encoded data removed]",
      "text/plain": [
       "<Figure size 640x480 with 1 Axes>"
      ]
     },
     "metadata": {},
     "output_type": "display_data"
    }
   ],
   "source": [
    "acc = history.history['accuracy']\n",
    "acc_val = history.history['val_accuracy']\n",
    "epochs = range(1, len(loss)+1)\n",
    "plt.plot(epochs, acc, 'bo', label='accuracy_train')\n",
    "plt.plot(epochs, acc_val, 'b', label='accuracy_val')\n",
    "plt.title('accuracy')\n",
    "plt.xlabel('epochs')\n",
    "plt.ylabel('value of accuracy')\n",
    "plt.legend()\n",
    "plt.grid()\n",
    "plt.show()"
   ]
  },
  {
   "cell_type": "markdown",
   "id": "6b4b891e",
   "metadata": {
    "papermill": {
     "duration": 1.084411,
     "end_time": "2023-12-18T03:13:47.161154",
     "exception": false,
     "start_time": "2023-12-18T03:13:46.076743",
     "status": "completed"
    },
    "tags": []
   },
   "source": [
    "### Model 2 - Image Augmentation"
   ]
  },
  {
   "cell_type": "code",
   "execution_count": 21,
   "id": "55cacc39",
   "metadata": {
    "execution": {
     "iopub.execute_input": "2023-12-18T03:13:49.375732Z",
     "iopub.status.busy": "2023-12-18T03:13:49.375334Z",
     "iopub.status.idle": "2023-12-18T03:13:50.036833Z",
     "shell.execute_reply": "2023-12-18T03:13:50.035977Z"
    },
    "papermill": {
     "duration": 1.739848,
     "end_time": "2023-12-18T03:13:50.039215",
     "exception": false,
     "start_time": "2023-12-18T03:13:48.299367",
     "status": "completed"
    },
    "tags": []
   },
   "outputs": [],
   "source": [
    "datagen = ImageDataGenerator(\n",
    "    rescale=1/255,\n",
    "    featurewise_center=True,\n",
    "    featurewise_std_normalization=True,\n",
    "    rotation_range=20,\n",
    "    width_shift_range=0.2,\n",
    "    height_shift_range=0.2,\n",
    "    horizontal_flip=True,\n",
    "    validation_split=0.2)\n",
    "\n",
    "datagen.fit(train_images)\n",
    "datagen.fit(val_images)\n",
    "datagen.fit(test_images)"
   ]
  },
  {
   "cell_type": "code",
   "execution_count": 22,
   "id": "b3d67359",
   "metadata": {
    "execution": {
     "iopub.execute_input": "2023-12-18T03:13:52.385974Z",
     "iopub.status.busy": "2023-12-18T03:13:52.385600Z",
     "iopub.status.idle": "2023-12-18T03:37:20.124430Z",
     "shell.execute_reply": "2023-12-18T03:37:20.123454Z"
    },
    "papermill": {
     "duration": 1411.758545,
     "end_time": "2023-12-18T03:37:23.009279",
     "exception": false,
     "start_time": "2023-12-18T03:13:51.250734",
     "status": "completed"
    },
    "tags": []
   },
   "outputs": [
    {
     "name": "stdout",
     "output_type": "stream",
     "text": [
      "CPU times: user 5 µs, sys: 0 ns, total: 5 µs\n",
      "Wall time: 9.78 µs\n",
      "Epoch 1/40\n"
     ]
    },
    {
     "name": "stderr",
     "output_type": "stream",
     "text": [
      "2023-12-18 03:13:53.171064: E tensorflow/core/grappler/optimizers/meta_optimizer.cc:954] layout failed: INVALID_ARGUMENT: Size of values 0 does not match size of permutation 4 @ fanin shape insequential/dropout/dropout/SelectV2-2-TransposeNHWCToNCHW-LayoutOptimizer\n"
     ]
    },
    {
     "name": "stdout",
     "output_type": "stream",
     "text": [
      "1537/1537 [==============================] - 37s 23ms/step - loss: 0.2311 - accuracy: 0.3323 - val_loss: 1.3229 - val_accuracy: 0.4996\n",
      "Epoch 2/40\n",
      "1537/1537 [==============================] - 35s 23ms/step - loss: 0.1937 - accuracy: 0.3981 - val_loss: 1.2367 - val_accuracy: 0.5274\n",
      "Epoch 3/40\n",
      "1537/1537 [==============================] - 35s 23ms/step - loss: 0.1836 - accuracy: 0.4322 - val_loss: 1.1876 - val_accuracy: 0.5500\n",
      "Epoch 4/40\n",
      "1537/1537 [==============================] - 35s 23ms/step - loss: 0.1782 - accuracy: 0.4454 - val_loss: 1.1594 - val_accuracy: 0.5600\n",
      "Epoch 5/40\n",
      "1537/1537 [==============================] - 35s 23ms/step - loss: 0.1750 - accuracy: 0.4533 - val_loss: 1.1509 - val_accuracy: 0.5709\n",
      "Epoch 6/40\n",
      "1537/1537 [==============================] - 35s 23ms/step - loss: 0.1715 - accuracy: 0.4651 - val_loss: 1.1161 - val_accuracy: 0.5779\n",
      "Epoch 7/40\n",
      "1537/1537 [==============================] - 35s 23ms/step - loss: 0.1684 - accuracy: 0.4722 - val_loss: 1.1129 - val_accuracy: 0.5759\n",
      "Epoch 8/40\n",
      "1537/1537 [==============================] - 35s 23ms/step - loss: 0.1670 - accuracy: 0.4773 - val_loss: 1.0781 - val_accuracy: 0.5938\n",
      "Epoch 9/40\n",
      "1537/1537 [==============================] - 35s 23ms/step - loss: 0.1651 - accuracy: 0.4851 - val_loss: 1.0782 - val_accuracy: 0.5868\n",
      "Epoch 10/40\n",
      "1537/1537 [==============================] - 35s 23ms/step - loss: 0.1634 - accuracy: 0.4868 - val_loss: 1.0666 - val_accuracy: 0.5918\n",
      "Epoch 11/40\n",
      "1537/1537 [==============================] - 35s 23ms/step - loss: 0.1620 - accuracy: 0.4920 - val_loss: 1.0672 - val_accuracy: 0.5952\n",
      "Epoch 12/40\n",
      "1537/1537 [==============================] - 35s 23ms/step - loss: 0.1612 - accuracy: 0.4997 - val_loss: 1.0296 - val_accuracy: 0.6147\n",
      "Epoch 13/40\n",
      "1537/1537 [==============================] - 35s 23ms/step - loss: 0.1598 - accuracy: 0.5025 - val_loss: 1.0491 - val_accuracy: 0.6071\n",
      "Epoch 14/40\n",
      "1537/1537 [==============================] - 35s 23ms/step - loss: 0.1590 - accuracy: 0.5045 - val_loss: 1.0386 - val_accuracy: 0.6063\n",
      "Epoch 15/40\n",
      "1537/1537 [==============================] - 35s 23ms/step - loss: 0.1580 - accuracy: 0.5082 - val_loss: 1.0376 - val_accuracy: 0.6066\n",
      "Epoch 16/40\n",
      "1537/1537 [==============================] - 34s 22ms/step - loss: 0.1563 - accuracy: 0.5131 - val_loss: 1.0260 - val_accuracy: 0.6130\n",
      "Epoch 17/40\n",
      "1537/1537 [==============================] - 34s 22ms/step - loss: 0.1562 - accuracy: 0.5169 - val_loss: 1.0274 - val_accuracy: 0.6121\n",
      "Epoch 18/40\n",
      "1537/1537 [==============================] - 34s 22ms/step - loss: 0.1559 - accuracy: 0.5209 - val_loss: 1.0237 - val_accuracy: 0.6069\n",
      "Epoch 19/40\n",
      "1537/1537 [==============================] - 34s 22ms/step - loss: 0.1548 - accuracy: 0.5215 - val_loss: 1.0104 - val_accuracy: 0.6216\n",
      "Epoch 20/40\n",
      "1537/1537 [==============================] - 34s 22ms/step - loss: 0.1530 - accuracy: 0.5271 - val_loss: 1.0025 - val_accuracy: 0.6314\n",
      "Epoch 21/40\n",
      "1537/1537 [==============================] - 34s 22ms/step - loss: 0.1527 - accuracy: 0.5290 - val_loss: 1.0082 - val_accuracy: 0.6244\n",
      "Epoch 22/40\n",
      "1537/1537 [==============================] - 34s 22ms/step - loss: 0.1532 - accuracy: 0.5274 - val_loss: 0.9920 - val_accuracy: 0.6227\n",
      "Epoch 23/40\n",
      "1537/1537 [==============================] - 34s 22ms/step - loss: 0.1522 - accuracy: 0.5301 - val_loss: 1.0107 - val_accuracy: 0.6141\n",
      "Epoch 24/40\n",
      "1537/1537 [==============================] - 33s 22ms/step - loss: 0.1513 - accuracy: 0.5333 - val_loss: 1.0029 - val_accuracy: 0.6280\n",
      "Epoch 25/40\n",
      "1537/1537 [==============================] - 34s 22ms/step - loss: 0.1505 - accuracy: 0.5344 - val_loss: 0.9839 - val_accuracy: 0.6297\n",
      "Epoch 26/40\n",
      "1537/1537 [==============================] - 34s 22ms/step - loss: 0.1499 - accuracy: 0.5404 - val_loss: 1.0025 - val_accuracy: 0.6172\n",
      "Epoch 27/40\n",
      "1537/1537 [==============================] - 34s 22ms/step - loss: 0.1491 - accuracy: 0.5438 - val_loss: 0.9868 - val_accuracy: 0.6333\n",
      "Epoch 28/40\n",
      "1537/1537 [==============================] - 34s 22ms/step - loss: 0.1488 - accuracy: 0.5439 - val_loss: 0.9871 - val_accuracy: 0.6258\n",
      "Epoch 29/40\n",
      "1537/1537 [==============================] - 34s 22ms/step - loss: 0.1480 - accuracy: 0.5462 - val_loss: 0.9760 - val_accuracy: 0.6386\n",
      "Epoch 30/40\n",
      "1537/1537 [==============================] - 34s 22ms/step - loss: 0.1472 - accuracy: 0.5480 - val_loss: 0.9803 - val_accuracy: 0.6233\n",
      "Epoch 31/40\n",
      "1537/1537 [==============================] - 34s 22ms/step - loss: 0.1478 - accuracy: 0.5467 - val_loss: 0.9846 - val_accuracy: 0.6330\n",
      "Epoch 32/40\n",
      "1537/1537 [==============================] - 34s 22ms/step - loss: 0.1476 - accuracy: 0.5479 - val_loss: 0.9972 - val_accuracy: 0.6294\n",
      "Epoch 33/40\n",
      "1537/1537 [==============================] - 34s 22ms/step - loss: 0.1464 - accuracy: 0.5500 - val_loss: 0.9890 - val_accuracy: 0.6397\n",
      "Epoch 34/40\n",
      "1537/1537 [==============================] - 34s 22ms/step - loss: 0.1462 - accuracy: 0.5524 - val_loss: 0.9699 - val_accuracy: 0.6395\n",
      "Epoch 35/40\n",
      "1537/1537 [==============================] - 34s 22ms/step - loss: 0.1455 - accuracy: 0.5564 - val_loss: 0.9666 - val_accuracy: 0.6339\n",
      "Epoch 36/40\n",
      "1537/1537 [==============================] - 35s 23ms/step - loss: 0.1444 - accuracy: 0.5594 - val_loss: 0.9730 - val_accuracy: 0.6403\n",
      "Epoch 37/40\n",
      "1537/1537 [==============================] - 36s 24ms/step - loss: 0.1439 - accuracy: 0.5615 - val_loss: 0.9760 - val_accuracy: 0.6297\n",
      "Epoch 38/40\n",
      "1537/1537 [==============================] - 36s 23ms/step - loss: 0.1451 - accuracy: 0.5591 - val_loss: 0.9579 - val_accuracy: 0.6420\n",
      "Epoch 39/40\n",
      "1537/1537 [==============================] - 36s 23ms/step - loss: 0.1431 - accuracy: 0.5633 - val_loss: 0.9814 - val_accuracy: 0.6303\n",
      "Epoch 40/40\n",
      "1537/1537 [==============================] - 36s 23ms/step - loss: 0.1435 - accuracy: 0.5627 - val_loss: 0.9652 - val_accuracy: 0.6369\n"
     ]
    }
   ],
   "source": [
    "%time \n",
    "\n",
    "h1 = model.fit(datagen.flow(train_images, train_labels),\n",
    "                    validation_data=datagen.flow(val_images, val_labels),\n",
    "                    class_weight = class_weight,\n",
    "                    epochs=40,\n",
    "                    batch_size=64)"
   ]
  },
  {
   "cell_type": "code",
   "execution_count": 23,
   "id": "8cb0a494",
   "metadata": {
    "execution": {
     "iopub.execute_input": "2023-12-18T03:37:28.797296Z",
     "iopub.status.busy": "2023-12-18T03:37:28.796581Z",
     "iopub.status.idle": "2023-12-18T03:37:28.802263Z",
     "shell.execute_reply": "2023-12-18T03:37:28.801335Z"
    },
    "papermill": {
     "duration": 2.892216,
     "end_time": "2023-12-18T03:37:28.804191",
     "exception": false,
     "start_time": "2023-12-18T03:37:25.911975",
     "status": "completed"
    },
    "tags": []
   },
   "outputs": [],
   "source": [
    "history = h1.history\n",
    "tf.keras.backend.set_value(model.optimizer.learning_rate, 0.0001)"
   ]
  },
  {
   "cell_type": "code",
   "execution_count": 24,
   "id": "61f0d145",
   "metadata": {
    "execution": {
     "iopub.execute_input": "2023-12-18T03:37:34.516112Z",
     "iopub.status.busy": "2023-12-18T03:37:34.515732Z",
     "iopub.status.idle": "2023-12-18T04:00:54.907571Z",
     "shell.execute_reply": "2023-12-18T04:00:54.906520Z"
    },
    "papermill": {
     "duration": 1403.252092,
     "end_time": "2023-12-18T04:00:54.909874",
     "exception": false,
     "start_time": "2023-12-18T03:37:31.657782",
     "status": "completed"
    },
    "tags": []
   },
   "outputs": [
    {
     "name": "stdout",
     "output_type": "stream",
     "text": [
      "CPU times: user 5 µs, sys: 1e+03 ns, total: 6 µs\n",
      "Wall time: 8.82 µs\n",
      "Epoch 1/40\n",
      "1537/1537 [==============================] - 36s 24ms/step - loss: 0.1411 - accuracy: 0.5713 - val_loss: 0.9447 - val_accuracy: 0.6456\n",
      "Epoch 2/40\n",
      "1537/1537 [==============================] - 35s 23ms/step - loss: 0.1396 - accuracy: 0.5730 - val_loss: 0.9433 - val_accuracy: 0.6486\n",
      "Epoch 3/40\n",
      "1537/1537 [==============================] - 33s 22ms/step - loss: 0.1389 - accuracy: 0.5766 - val_loss: 0.9390 - val_accuracy: 0.6523\n",
      "Epoch 4/40\n",
      "1537/1537 [==============================] - 33s 22ms/step - loss: 0.1386 - accuracy: 0.5786 - val_loss: 0.9330 - val_accuracy: 0.6570\n",
      "Epoch 5/40\n",
      "1537/1537 [==============================] - 34s 22ms/step - loss: 0.1380 - accuracy: 0.5806 - val_loss: 0.9282 - val_accuracy: 0.6584\n",
      "Epoch 6/40\n",
      "1537/1537 [==============================] - 34s 22ms/step - loss: 0.1377 - accuracy: 0.5819 - val_loss: 0.9376 - val_accuracy: 0.6475\n",
      "Epoch 7/40\n",
      "1537/1537 [==============================] - 34s 22ms/step - loss: 0.1377 - accuracy: 0.5853 - val_loss: 0.9289 - val_accuracy: 0.6542\n",
      "Epoch 8/40\n",
      "1537/1537 [==============================] - 35s 23ms/step - loss: 0.1368 - accuracy: 0.5857 - val_loss: 0.9378 - val_accuracy: 0.6473\n",
      "Epoch 9/40\n",
      "1537/1537 [==============================] - 35s 23ms/step - loss: 0.1371 - accuracy: 0.5864 - val_loss: 0.9323 - val_accuracy: 0.6581\n",
      "Epoch 10/40\n",
      "1537/1537 [==============================] - 34s 22ms/step - loss: 0.1366 - accuracy: 0.5875 - val_loss: 0.9350 - val_accuracy: 0.6498\n",
      "Epoch 11/40\n",
      "1537/1537 [==============================] - 34s 22ms/step - loss: 0.1365 - accuracy: 0.5870 - val_loss: 0.9369 - val_accuracy: 0.6525\n",
      "Epoch 12/40\n",
      "1537/1537 [==============================] - 36s 23ms/step - loss: 0.1365 - accuracy: 0.5873 - val_loss: 0.9246 - val_accuracy: 0.6542\n",
      "Epoch 13/40\n",
      "1537/1537 [==============================] - 36s 24ms/step - loss: 0.1361 - accuracy: 0.5875 - val_loss: 0.9305 - val_accuracy: 0.6573\n",
      "Epoch 14/40\n",
      "1537/1537 [==============================] - 36s 24ms/step - loss: 0.1364 - accuracy: 0.5891 - val_loss: 0.9311 - val_accuracy: 0.6542\n",
      "Epoch 15/40\n",
      "1537/1537 [==============================] - 36s 24ms/step - loss: 0.1361 - accuracy: 0.5879 - val_loss: 0.9268 - val_accuracy: 0.6553\n",
      "Epoch 16/40\n",
      "1537/1537 [==============================] - 36s 23ms/step - loss: 0.1365 - accuracy: 0.5876 - val_loss: 0.9229 - val_accuracy: 0.6528\n",
      "Epoch 17/40\n",
      "1537/1537 [==============================] - 36s 23ms/step - loss: 0.1352 - accuracy: 0.5900 - val_loss: 0.9297 - val_accuracy: 0.6528\n",
      "Epoch 18/40\n",
      "1537/1537 [==============================] - 36s 24ms/step - loss: 0.1359 - accuracy: 0.5915 - val_loss: 0.9324 - val_accuracy: 0.6548\n",
      "Epoch 19/40\n",
      "1537/1537 [==============================] - 36s 24ms/step - loss: 0.1349 - accuracy: 0.5931 - val_loss: 0.9279 - val_accuracy: 0.6556\n",
      "Epoch 20/40\n",
      "1537/1537 [==============================] - 37s 24ms/step - loss: 0.1356 - accuracy: 0.5892 - val_loss: 0.9223 - val_accuracy: 0.6640\n",
      "Epoch 21/40\n",
      "1537/1537 [==============================] - 34s 22ms/step - loss: 0.1357 - accuracy: 0.5898 - val_loss: 0.9277 - val_accuracy: 0.6567\n",
      "Epoch 22/40\n",
      "1537/1537 [==============================] - 33s 22ms/step - loss: 0.1357 - accuracy: 0.5887 - val_loss: 0.9250 - val_accuracy: 0.6503\n",
      "Epoch 23/40\n",
      "1537/1537 [==============================] - 33s 22ms/step - loss: 0.1353 - accuracy: 0.5897 - val_loss: 0.9109 - val_accuracy: 0.6531\n",
      "Epoch 24/40\n",
      "1537/1537 [==============================] - 33s 21ms/step - loss: 0.1356 - accuracy: 0.5908 - val_loss: 0.9389 - val_accuracy: 0.6539\n",
      "Epoch 25/40\n",
      "1537/1537 [==============================] - 33s 22ms/step - loss: 0.1350 - accuracy: 0.5929 - val_loss: 0.9350 - val_accuracy: 0.6559\n",
      "Epoch 26/40\n",
      "1537/1537 [==============================] - 34s 22ms/step - loss: 0.1353 - accuracy: 0.5930 - val_loss: 0.9329 - val_accuracy: 0.6601\n",
      "Epoch 27/40\n",
      "1537/1537 [==============================] - 33s 22ms/step - loss: 0.1351 - accuracy: 0.5933 - val_loss: 0.9192 - val_accuracy: 0.6587\n",
      "Epoch 28/40\n",
      "1537/1537 [==============================] - 34s 22ms/step - loss: 0.1349 - accuracy: 0.5951 - val_loss: 0.9217 - val_accuracy: 0.6537\n",
      "Epoch 29/40\n",
      "1537/1537 [==============================] - 34s 22ms/step - loss: 0.1345 - accuracy: 0.5963 - val_loss: 0.9222 - val_accuracy: 0.6595\n",
      "Epoch 30/40\n",
      "1537/1537 [==============================] - 33s 21ms/step - loss: 0.1343 - accuracy: 0.5951 - val_loss: 0.9252 - val_accuracy: 0.6626\n",
      "Epoch 31/40\n",
      "1537/1537 [==============================] - 33s 21ms/step - loss: 0.1348 - accuracy: 0.5939 - val_loss: 0.9153 - val_accuracy: 0.6553\n",
      "Epoch 32/40\n",
      "1537/1537 [==============================] - 33s 21ms/step - loss: 0.1343 - accuracy: 0.5952 - val_loss: 0.9257 - val_accuracy: 0.6609\n",
      "Epoch 33/40\n",
      "1537/1537 [==============================] - 35s 23ms/step - loss: 0.1342 - accuracy: 0.5915 - val_loss: 0.9235 - val_accuracy: 0.6620\n",
      "Epoch 34/40\n",
      "1537/1537 [==============================] - 35s 23ms/step - loss: 0.1348 - accuracy: 0.5953 - val_loss: 0.9233 - val_accuracy: 0.6492\n",
      "Epoch 35/40\n",
      "1537/1537 [==============================] - 33s 22ms/step - loss: 0.1337 - accuracy: 0.5974 - val_loss: 0.9204 - val_accuracy: 0.6525\n",
      "Epoch 36/40\n",
      "1537/1537 [==============================] - 34s 22ms/step - loss: 0.1332 - accuracy: 0.5984 - val_loss: 0.9279 - val_accuracy: 0.6447\n",
      "Epoch 37/40\n",
      "1537/1537 [==============================] - 34s 22ms/step - loss: 0.1341 - accuracy: 0.5952 - val_loss: 0.9372 - val_accuracy: 0.6528\n",
      "Epoch 38/40\n",
      "1537/1537 [==============================] - 34s 22ms/step - loss: 0.1342 - accuracy: 0.5962 - val_loss: 0.9231 - val_accuracy: 0.6576\n",
      "Epoch 39/40\n",
      "1537/1537 [==============================] - 34s 22ms/step - loss: 0.1328 - accuracy: 0.5989 - val_loss: 0.9245 - val_accuracy: 0.6528\n",
      "Epoch 40/40\n",
      "1537/1537 [==============================] - 33s 22ms/step - loss: 0.1329 - accuracy: 0.5997 - val_loss: 0.9075 - val_accuracy: 0.6656\n"
     ]
    }
   ],
   "source": [
    "%time \n",
    "\n",
    "h2 = model.fit(datagen.flow(train_images, train_labels),\n",
    "                    validation_data=datagen.flow(val_images, val_labels),\n",
    "                    class_weight = class_weight,\n",
    "                    epochs=40,\n",
    "                    batch_size=64)"
   ]
  },
  {
   "cell_type": "code",
   "execution_count": 25,
   "id": "b353a190",
   "metadata": {
    "execution": {
     "iopub.execute_input": "2023-12-18T04:01:04.043056Z",
     "iopub.status.busy": "2023-12-18T04:01:04.042653Z",
     "iopub.status.idle": "2023-12-18T04:01:04.047382Z",
     "shell.execute_reply": "2023-12-18T04:01:04.046412Z"
    },
    "papermill": {
     "duration": 4.630752,
     "end_time": "2023-12-18T04:01:04.049242",
     "exception": false,
     "start_time": "2023-12-18T04:00:59.418490",
     "status": "completed"
    },
    "tags": []
   },
   "outputs": [],
   "source": [
    "for k in history.keys():\n",
    "    history[k] += h2.history[k]"
   ]
  },
  {
   "cell_type": "code",
   "execution_count": 26,
   "id": "d7e28a7a",
   "metadata": {
    "execution": {
     "iopub.execute_input": "2023-12-18T04:01:13.189860Z",
     "iopub.status.busy": "2023-12-18T04:01:13.189526Z",
     "iopub.status.idle": "2023-12-18T04:01:13.794807Z",
     "shell.execute_reply": "2023-12-18T04:01:13.793769Z"
    },
    "papermill": {
     "duration": 5.09095,
     "end_time": "2023-12-18T04:01:13.796694",
     "exception": false,
     "start_time": "2023-12-18T04:01:08.705744",
     "status": "completed"
    },
    "tags": []
   },
   "outputs": [
    {
     "name": "stdout",
     "output_type": "stream",
     "text": [
      "113/113 [==============================] - 1s 4ms/step - loss: 30.0287 - accuracy: 0.2703\n",
      "test accuracy: 0.2702702581882477\n"
     ]
    }
   ],
   "source": [
    "test_loss, test_acc = model.evaluate(test_images, test_labels)\n",
    "print('test accuracy:', test_acc)"
   ]
  },
  {
   "cell_type": "markdown",
   "id": "0163e61d",
   "metadata": {
    "papermill": {
     "duration": 4.555277,
     "end_time": "2023-12-18T04:01:23.012558",
     "exception": false,
     "start_time": "2023-12-18T04:01:18.457281",
     "status": "completed"
    },
    "tags": []
   },
   "source": [
    "### Model 2 Results "
   ]
  },
  {
   "cell_type": "code",
   "execution_count": 27,
   "id": "33a93231",
   "metadata": {
    "execution": {
     "iopub.execute_input": "2023-12-18T04:01:32.088520Z",
     "iopub.status.busy": "2023-12-18T04:01:32.088158Z",
     "iopub.status.idle": "2023-12-18T04:01:32.395712Z",
     "shell.execute_reply": "2023-12-18T04:01:32.394797Z"
    },
    "papermill": {
     "duration": 4.860041,
     "end_time": "2023-12-18T04:01:32.397778",
     "exception": false,
     "start_time": "2023-12-18T04:01:27.537737",
     "status": "completed"
    },
    "tags": []
   },
   "outputs": [
    {
     "data": {
      "image/png": "[encoded data removed]",
      "text/plain": [
       "<Figure size 640x480 with 1 Axes>"
      ]
     },
     "metadata": {},
     "output_type": "display_data"
    }
   ],
   "source": [
    "loss = history['loss']\n",
    "loss_val = history['val_loss']\n",
    "epochs = range(1, len(loss)+1)\n",
    "plt.plot(epochs, loss, 'bo', label='loss_train')\n",
    "plt.plot(epochs, loss_val, 'b', label='loss_val')\n",
    "plt.title('value of the loss function')\n",
    "plt.xlabel('epochs')\n",
    "plt.ylabel('value of the loss function')\n",
    "plt.legend()\n",
    "plt.grid()\n",
    "plt.show()"
   ]
  },
  {
   "cell_type": "code",
   "execution_count": 28,
   "id": "08bc04b9",
   "metadata": {
    "execution": {
     "iopub.execute_input": "2023-12-18T04:01:41.455472Z",
     "iopub.status.busy": "2023-12-18T04:01:41.455115Z",
     "iopub.status.idle": "2023-12-18T04:01:41.770285Z",
     "shell.execute_reply": "2023-12-18T04:01:41.769457Z"
    },
    "papermill": {
     "duration": 4.79502,
     "end_time": "2023-12-18T04:01:41.772299",
     "exception": false,
     "start_time": "2023-12-18T04:01:36.977279",
     "status": "completed"
    },
    "tags": []
   },
   "outputs": [
    {
     "data": {
      "image/png": "[encoded data removed]",
      "text/plain": [
       "<Figure size 640x480 with 1 Axes>"
      ]
     },
     "metadata": {},
     "output_type": "display_data"
    }
   ],
   "source": [
    "acc = history['accuracy']\n",
    "acc_val = history['val_accuracy']\n",
    "epochs = range(1, len(loss)+1)\n",
    "plt.plot(epochs, acc, 'bo', label='accuracy_train')\n",
    "plt.plot(epochs, acc_val, 'b', label='accuracy_val')\n",
    "plt.title('accuracy')\n",
    "plt.xlabel('epochs')\n",
    "plt.ylabel('value of accuracy')\n",
    "plt.legend()\n",
    "plt.grid()\n",
    "plt.show()"
   ]
  },
  {
   "cell_type": "markdown",
   "id": "d2ebe623",
   "metadata": {
    "papermill": {
     "duration": 4.551452,
     "end_time": "2023-12-18T04:01:50.885756",
     "exception": false,
     "start_time": "2023-12-18T04:01:46.334304",
     "status": "completed"
    },
    "tags": []
   },
   "source": [
    "# 5) Results"
   ]
  },
  {
   "cell_type": "markdown",
   "id": "4d224b24",
   "metadata": {
    "papermill": {
     "duration": 4.484479,
     "end_time": "2023-12-18T04:01:59.973256",
     "exception": false,
     "start_time": "2023-12-18T04:01:55.488777",
     "status": "completed"
    },
    "tags": []
   },
   "source": [
    "1st Model Score: Test Accuracy of .62%\n",
    "2nd Model Score: Test Accuracy of .53%\n",
    "\n",
    "The first model using CNN produces a better accuracy and that is our leading model\n",
    "\n"
   ]
  },
  {
   "cell_type": "markdown",
   "id": "6016c3f0",
   "metadata": {
    "papermill": {
     "duration": 4.485834,
     "end_time": "2023-12-18T04:02:09.069194",
     "exception": false,
     "start_time": "2023-12-18T04:02:04.583360",
     "status": "completed"
    },
    "tags": []
   },
   "source": [
    "### Model 3 - Transfer Learning"
   ]
  },
  {
   "cell_type": "markdown",
   "id": "6a0b6039",
   "metadata": {
    "papermill": {
     "duration": 4.566777,
     "end_time": "2023-12-18T04:02:18.176915",
     "exception": false,
     "start_time": "2023-12-18T04:02:13.610138",
     "status": "completed"
    },
    "tags": []
   },
   "source": [
    "We will be using the pretrained VGG16 model for feature extraction in our CNN."
   ]
  },
  {
   "cell_type": "code",
   "execution_count": 29,
   "id": "1d523aa7",
   "metadata": {
    "execution": {
     "iopub.execute_input": "2023-12-18T04:02:27.248226Z",
     "iopub.status.busy": "2023-12-18T04:02:27.247837Z",
     "iopub.status.idle": "2023-12-18T04:02:30.916443Z",
     "shell.execute_reply": "2023-12-18T04:02:30.915654Z"
    },
    "papermill": {
     "duration": 8.187585,
     "end_time": "2023-12-18T04:02:30.918702",
     "exception": false,
     "start_time": "2023-12-18T04:02:22.731117",
     "status": "completed"
    },
    "tags": []
   },
   "outputs": [],
   "source": [
    "def expand_greyscale_image_channels(grey_pil_image):\n",
    "    grey_image_arr = np.array(grey_pil_image)\n",
    "    grey_image_arr_3_channel = grey_image_arr.repeat(3, axis=-1)\n",
    "    return grey_image_arr_3_channel\n",
    "\n",
    "train_images_rgb = np.zeros(shape=(49182, 48, 48, 3), dtype=int)\n",
    "for i in range (len(train_images)):\n",
    "    train_images_rgb[i] = expand_greyscale_image_channels(train_images[i])\n",
    "    \n",
    "val_images_rgb = np.zeros(shape=(3589, 48, 48, 3), dtype=int)\n",
    "for i in range (len(val_images)):\n",
    "    val_images_rgb[i] = expand_greyscale_image_channels(val_images[i])\n",
    "    \n",
    "test_images_rgb = np.zeros(shape=(3589, 48, 48, 3), dtype=int)\n",
    "for i in range (len(test_images)):\n",
    "    test_images_rgb[i] = expand_greyscale_image_channels(test_images[i])"
   ]
  },
  {
   "cell_type": "code",
   "execution_count": 30,
   "id": "6d21dec2",
   "metadata": {
    "execution": {
     "iopub.execute_input": "2023-12-18T04:02:39.923382Z",
     "iopub.status.busy": "2023-12-18T04:02:39.922709Z",
     "iopub.status.idle": "2023-12-18T04:02:40.730333Z",
     "shell.execute_reply": "2023-12-18T04:02:40.729418Z"
    },
    "papermill": {
     "duration": 5.281327,
     "end_time": "2023-12-18T04:02:40.744177",
     "exception": false,
     "start_time": "2023-12-18T04:02:35.462850",
     "status": "completed"
    },
    "tags": []
   },
   "outputs": [
    {
     "name": "stdout",
     "output_type": "stream",
     "text": [
      "Downloading data from https://storage.googleapis.com/tensorflow/keras-applications/vgg16/vgg16_weights_tf_dim_ordering_tf_kernels_notop.h5\n",
      "58889256/58889256 [==============================] - 0s 0us/step\n",
      "Model: \"vgg16\"\n",
      "_________________________________________________________________\n",
      " Layer (type)                Output Shape              Param #   \n",
      "=================================================================\n",
      " input_1 (InputLayer)        [(None, 48, 48, 3)]       0         \n",
      "                                                                 \n",
      " block1_conv1 (Conv2D)       (None, 48, 48, 64)        1792      \n",
      "                                                                 \n",
      " block1_conv2 (Conv2D)       (None, 48, 48, 64)        36928     \n",
      "                                                                 \n",
      " block1_pool (MaxPooling2D)  (None, 24, 24, 64)        0         \n",
      "                                                                 \n",
      " block2_conv1 (Conv2D)       (None, 24, 24, 128)       73856     \n",
      "                                                                 \n",
      " block2_conv2 (Conv2D)       (None, 24, 24, 128)       147584    \n",
      "                                                                 \n",
      " block2_pool (MaxPooling2D)  (None, 12, 12, 128)       0         \n",
      "                                                                 \n",
      " block3_conv1 (Conv2D)       (None, 12, 12, 256)       295168    \n",
      "                                                                 \n",
      " block3_conv2 (Conv2D)       (None, 12, 12, 256)       590080    \n",
      "                                                                 \n",
      " block3_conv3 (Conv2D)       (None, 12, 12, 256)       590080    \n",
      "                                                                 \n",
      " block3_pool (MaxPooling2D)  (None, 6, 6, 256)         0         \n",
      "                                                                 \n",
      " block4_conv1 (Conv2D)       (None, 6, 6, 512)         1180160   \n",
      "                                                                 \n",
      " block4_conv2 (Conv2D)       (None, 6, 6, 512)         2359808   \n",
      "                                                                 \n",
      " block4_conv3 (Conv2D)       (None, 6, 6, 512)         2359808   \n",
      "                                                                 \n",
      " block4_pool (MaxPooling2D)  (None, 3, 3, 512)         0         \n",
      "                                                                 \n",
      " block5_conv1 (Conv2D)       (None, 3, 3, 512)         2359808   \n",
      "                                                                 \n",
      " block5_conv2 (Conv2D)       (None, 3, 3, 512)         2359808   \n",
      "                                                                 \n",
      " block5_conv3 (Conv2D)       (None, 3, 3, 512)         2359808   \n",
      "                                                                 \n",
      " block5_pool (MaxPooling2D)  (None, 1, 1, 512)         0         \n",
      "                                                                 \n",
      "=================================================================\n",
      "Total params: 14714688 (56.13 MB)\n",
      "Trainable params: 0 (0.00 Byte)\n",
      "Non-trainable params: 14714688 (56.13 MB)\n",
      "_________________________________________________________________\n"
     ]
    }
   ],
   "source": [
    "base_model = tf.keras.applications.VGG16(\n",
    "    input_shape=(48,48,3), \n",
    "    include_top=False, \n",
    "    weights='imagenet'\n",
    ")\n",
    "\n",
    "base_model.trainable = False\n",
    "\n",
    "base_model.summary()"
   ]
  },
  {
   "cell_type": "markdown",
   "id": "d15d9018",
   "metadata": {
    "papermill": {
     "duration": 4.55352,
     "end_time": "2023-12-18T04:02:49.868140",
     "exception": false,
     "start_time": "2023-12-18T04:02:45.314620",
     "status": "completed"
    },
    "tags": []
   },
   "source": [
    "#### Building the Model"
   ]
  },
  {
   "cell_type": "code",
   "execution_count": 31,
   "id": "4a2700ac",
   "metadata": {
    "execution": {
     "iopub.execute_input": "2023-12-18T04:02:59.034206Z",
     "iopub.status.busy": "2023-12-18T04:02:59.033057Z",
     "iopub.status.idle": "2023-12-18T04:02:59.284451Z",
     "shell.execute_reply": "2023-12-18T04:02:59.283562Z"
    },
    "papermill": {
     "duration": 4.816714,
     "end_time": "2023-12-18T04:02:59.291895",
     "exception": false,
     "start_time": "2023-12-18T04:02:54.475181",
     "status": "completed"
    },
    "tags": []
   },
   "outputs": [
    {
     "name": "stdout",
     "output_type": "stream",
     "text": [
      "Model: \"sequential_1\"\n",
      "_________________________________________________________________\n",
      " Layer (type)                Output Shape              Param #   \n",
      "=================================================================\n",
      " vgg16 (Functional)          (None, 1, 1, 512)         14714688  \n",
      "                                                                 \n",
      " batch_normalization_4 (Bat  (None, 1, 1, 512)         2048      \n",
      " chNormalization)                                                \n",
      "                                                                 \n",
      " flatten_1 (Flatten)         (None, 512)               0         \n",
      "                                                                 \n",
      " dense_3 (Dense)             (None, 256)               131328    \n",
      "                                                                 \n",
      " dropout_5 (Dropout)         (None, 256)               0         \n",
      "                                                                 \n",
      " dense_4 (Dense)             (None, 128)               32896     \n",
      "                                                                 \n",
      " dropout_6 (Dropout)         (None, 128)               0         \n",
      "                                                                 \n",
      " dense_5 (Dense)             (None, 64)                8256      \n",
      "                                                                 \n",
      " dropout_7 (Dropout)         (None, 64)                0         \n",
      "                                                                 \n",
      " dense_6 (Dense)             (None, 32)                2080      \n",
      "                                                                 \n",
      " dropout_8 (Dropout)         (None, 32)                0         \n",
      "                                                                 \n",
      " batch_normalization_5 (Bat  (None, 32)                128       \n",
      " chNormalization)                                                \n",
      "                                                                 \n",
      " dense_7 (Dense)             (None, 7)                 231       \n",
      "                                                                 \n",
      "=================================================================\n",
      "Total params: 14891655 (56.81 MB)\n",
      "Trainable params: 175879 (687.03 KB)\n",
      "Non-trainable params: 14715776 (56.14 MB)\n",
      "_________________________________________________________________\n"
     ]
    }
   ],
   "source": [
    "np.random.seed(1)\n",
    "tf.random.set_seed(1)\n",
    "\n",
    "model3 = Sequential([\n",
    "    base_model,\n",
    "    BatchNormalization(),\n",
    "\n",
    "    Flatten(),\n",
    "    \n",
    "    Dense(256, activation='relu'),\n",
    "    Dropout(0.25),\n",
    "    Dense(128, activation='relu'),\n",
    "    Dropout(0.25),\n",
    "    Dense(64, activation='relu'),\n",
    "    Dropout(0.25),\n",
    "    Dense(32, activation='relu'),\n",
    "    Dropout(0.25),\n",
    "    BatchNormalization(),\n",
    "    Dense(7, activation='softmax')\n",
    "])\n",
    "\n",
    "model3.summary()"
   ]
  },
  {
   "cell_type": "code",
   "execution_count": 32,
   "id": "771e6d94",
   "metadata": {
    "execution": {
     "iopub.execute_input": "2023-12-18T04:03:08.393498Z",
     "iopub.status.busy": "2023-12-18T04:03:08.392618Z",
     "iopub.status.idle": "2023-12-18T04:03:08.407504Z",
     "shell.execute_reply": "2023-12-18T04:03:08.406605Z"
    },
    "papermill": {
     "duration": 4.625906,
     "end_time": "2023-12-18T04:03:08.409550",
     "exception": false,
     "start_time": "2023-12-18T04:03:03.783644",
     "status": "completed"
    },
    "tags": []
   },
   "outputs": [],
   "source": [
    "opt = tf.keras.optimizers.Adam(0.0001)\n",
    "model3.compile(loss='categorical_crossentropy', optimizer=opt, metrics=['accuracy'])"
   ]
  },
  {
   "cell_type": "markdown",
   "id": "16d69431",
   "metadata": {
    "papermill": {
     "duration": 4.518907,
     "end_time": "2023-12-18T04:03:17.406228",
     "exception": false,
     "start_time": "2023-12-18T04:03:12.887321",
     "status": "completed"
    },
    "tags": []
   },
   "source": [
    "Training the Model"
   ]
  },
  {
   "cell_type": "code",
   "execution_count": 33,
   "id": "baf660d0",
   "metadata": {
    "execution": {
     "iopub.execute_input": "2023-12-18T04:03:26.675272Z",
     "iopub.status.busy": "2023-12-18T04:03:26.674893Z",
     "iopub.status.idle": "2023-12-18T04:45:46.581501Z",
     "shell.execute_reply": "2023-12-18T04:45:46.580618Z"
    },
    "papermill": {
     "duration": 2544.561473,
     "end_time": "2023-12-18T04:45:46.583451",
     "exception": false,
     "start_time": "2023-12-18T04:03:22.021978",
     "status": "completed"
    },
    "tags": []
   },
   "outputs": [
    {
     "name": "stdout",
     "output_type": "stream",
     "text": [
      "CPU times: user 4 µs, sys: 0 ns, total: 4 µs\n",
      "Wall time: 8.34 µs\n",
      "Epoch 1/40\n",
      "1537/1537 [==============================] - 62s 38ms/step - loss: 0.3106 - accuracy: 0.1702 - val_loss: 1.7871 - val_accuracy: 0.2992\n",
      "Epoch 2/40\n",
      "1537/1537 [==============================] - 59s 38ms/step - loss: 0.2725 - accuracy: 0.2037 - val_loss: 1.7125 - val_accuracy: 0.3232\n",
      "Epoch 3/40\n",
      "1537/1537 [==============================] - 59s 38ms/step - loss: 0.2580 - accuracy: 0.2202 - val_loss: 1.6736 - val_accuracy: 0.3405\n",
      "Epoch 4/40\n",
      "1537/1537 [==============================] - 58s 38ms/step - loss: 0.2499 - accuracy: 0.2336 - val_loss: 1.6561 - val_accuracy: 0.3391\n",
      "Epoch 5/40\n",
      "1537/1537 [==============================] - 59s 38ms/step - loss: 0.2440 - accuracy: 0.2485 - val_loss: 1.6178 - val_accuracy: 0.3600\n",
      "Epoch 6/40\n",
      "1537/1537 [==============================] - 59s 38ms/step - loss: 0.2408 - accuracy: 0.2569 - val_loss: 1.6122 - val_accuracy: 0.3689\n",
      "Epoch 7/40\n",
      "1537/1537 [==============================] - 61s 40ms/step - loss: 0.2379 - accuracy: 0.2676 - val_loss: 1.6121 - val_accuracy: 0.3731\n",
      "Epoch 8/40\n",
      "1537/1537 [==============================] - 59s 39ms/step - loss: 0.2367 - accuracy: 0.2672 - val_loss: 1.6030 - val_accuracy: 0.3650\n",
      "Epoch 9/40\n",
      "1537/1537 [==============================] - 60s 39ms/step - loss: 0.2347 - accuracy: 0.2751 - val_loss: 1.5896 - val_accuracy: 0.3745\n",
      "Epoch 10/40\n",
      "1537/1537 [==============================] - 58s 38ms/step - loss: 0.2339 - accuracy: 0.2773 - val_loss: 1.5784 - val_accuracy: 0.3845\n",
      "Epoch 11/40\n",
      "1537/1537 [==============================] - 59s 38ms/step - loss: 0.2327 - accuracy: 0.2834 - val_loss: 1.5885 - val_accuracy: 0.3736\n",
      "Epoch 12/40\n",
      "1537/1537 [==============================] - 59s 38ms/step - loss: 0.2310 - accuracy: 0.2877 - val_loss: 1.5748 - val_accuracy: 0.3904\n",
      "Epoch 13/40\n",
      "1537/1537 [==============================] - 59s 38ms/step - loss: 0.2315 - accuracy: 0.2870 - val_loss: 1.5760 - val_accuracy: 0.3968\n",
      "Epoch 14/40\n",
      "1537/1537 [==============================] - 59s 38ms/step - loss: 0.2300 - accuracy: 0.2897 - val_loss: 1.5623 - val_accuracy: 0.3993\n",
      "Epoch 15/40\n",
      "1537/1537 [==============================] - 59s 39ms/step - loss: 0.2292 - accuracy: 0.2967 - val_loss: 1.5664 - val_accuracy: 0.3895\n",
      "Epoch 16/40\n",
      "1537/1537 [==============================] - 58s 38ms/step - loss: 0.2294 - accuracy: 0.2950 - val_loss: 1.5644 - val_accuracy: 0.3951\n",
      "Epoch 17/40\n",
      "1537/1537 [==============================] - 60s 39ms/step - loss: 0.2285 - accuracy: 0.2974 - val_loss: 1.5583 - val_accuracy: 0.3943\n",
      "Epoch 18/40\n",
      "1537/1537 [==============================] - 59s 38ms/step - loss: 0.2281 - accuracy: 0.3003 - val_loss: 1.5578 - val_accuracy: 0.3973\n",
      "Epoch 19/40\n",
      "1537/1537 [==============================] - 60s 39ms/step - loss: 0.2277 - accuracy: 0.3026 - val_loss: 1.5475 - val_accuracy: 0.4076\n",
      "Epoch 20/40\n",
      "1537/1537 [==============================] - 60s 39ms/step - loss: 0.2274 - accuracy: 0.2998 - val_loss: 1.5458 - val_accuracy: 0.4004\n",
      "Epoch 21/40\n",
      "1537/1537 [==============================] - 58s 38ms/step - loss: 0.2273 - accuracy: 0.3043 - val_loss: 1.5546 - val_accuracy: 0.3929\n",
      "Epoch 22/40\n",
      "1537/1537 [==============================] - 59s 38ms/step - loss: 0.2271 - accuracy: 0.3050 - val_loss: 1.5568 - val_accuracy: 0.3984\n",
      "Epoch 23/40\n",
      "1537/1537 [==============================] - 58s 38ms/step - loss: 0.2264 - accuracy: 0.3097 - val_loss: 1.5462 - val_accuracy: 0.4001\n",
      "Epoch 24/40\n",
      "1537/1537 [==============================] - 57s 37ms/step - loss: 0.2255 - accuracy: 0.3084 - val_loss: 1.5531 - val_accuracy: 0.4009\n",
      "Epoch 25/40\n",
      "1537/1537 [==============================] - 59s 38ms/step - loss: 0.2254 - accuracy: 0.3106 - val_loss: 1.5350 - val_accuracy: 0.4074\n",
      "Epoch 26/40\n",
      "1537/1537 [==============================] - 58s 38ms/step - loss: 0.2254 - accuracy: 0.3116 - val_loss: 1.5399 - val_accuracy: 0.4062\n",
      "Epoch 27/40\n",
      "1537/1537 [==============================] - 58s 38ms/step - loss: 0.2250 - accuracy: 0.3133 - val_loss: 1.5382 - val_accuracy: 0.4023\n",
      "Epoch 28/40\n",
      "1537/1537 [==============================] - 58s 38ms/step - loss: 0.2248 - accuracy: 0.3147 - val_loss: 1.5420 - val_accuracy: 0.4004\n",
      "Epoch 29/40\n",
      "1537/1537 [==============================] - 57s 37ms/step - loss: 0.2240 - accuracy: 0.3183 - val_loss: 1.5294 - val_accuracy: 0.4071\n",
      "Epoch 30/40\n",
      "1537/1537 [==============================] - 58s 38ms/step - loss: 0.2239 - accuracy: 0.3155 - val_loss: 1.5283 - val_accuracy: 0.4046\n",
      "Epoch 31/40\n",
      "1537/1537 [==============================] - 58s 38ms/step - loss: 0.2239 - accuracy: 0.3180 - val_loss: 1.5376 - val_accuracy: 0.4068\n",
      "Epoch 32/40\n",
      "1537/1537 [==============================] - 58s 38ms/step - loss: 0.2236 - accuracy: 0.3171 - val_loss: 1.5370 - val_accuracy: 0.4115\n",
      "Epoch 33/40\n",
      "1537/1537 [==============================] - 58s 38ms/step - loss: 0.2236 - accuracy: 0.3161 - val_loss: 1.5242 - val_accuracy: 0.4074\n",
      "Epoch 34/40\n",
      "1537/1537 [==============================] - 58s 38ms/step - loss: 0.2236 - accuracy: 0.3177 - val_loss: 1.5357 - val_accuracy: 0.4107\n",
      "Epoch 35/40\n",
      "1537/1537 [==============================] - 59s 38ms/step - loss: 0.2228 - accuracy: 0.3196 - val_loss: 1.5334 - val_accuracy: 0.4060\n",
      "Epoch 36/40\n",
      "1537/1537 [==============================] - 59s 38ms/step - loss: 0.2224 - accuracy: 0.3225 - val_loss: 1.5330 - val_accuracy: 0.4074\n",
      "Epoch 37/40\n",
      "1537/1537 [==============================] - 59s 38ms/step - loss: 0.2219 - accuracy: 0.3242 - val_loss: 1.5188 - val_accuracy: 0.4090\n",
      "Epoch 38/40\n",
      "1537/1537 [==============================] - 58s 38ms/step - loss: 0.2212 - accuracy: 0.3273 - val_loss: 1.5108 - val_accuracy: 0.4143\n",
      "Epoch 39/40\n",
      "1537/1537 [==============================] - 58s 38ms/step - loss: 0.2213 - accuracy: 0.3265 - val_loss: 1.5257 - val_accuracy: 0.4110\n",
      "Epoch 40/40\n",
      "1537/1537 [==============================] - 59s 38ms/step - loss: 0.2215 - accuracy: 0.3263 - val_loss: 1.5203 - val_accuracy: 0.4093\n"
     ]
    }
   ],
   "source": [
    "%time \n",
    "\n",
    "h3 = model3.fit(datagen.flow(train_images_rgb, train_labels),\n",
    "                    validation_data=datagen.flow(val_images_rgb, val_labels),\n",
    "                    class_weight = class_weight,\n",
    "                    epochs=40,\n",
    "                    batch_size=64)"
   ]
  },
  {
   "cell_type": "code",
   "execution_count": 34,
   "id": "b88152e5",
   "metadata": {
    "execution": {
     "iopub.execute_input": "2023-12-18T04:46:01.002708Z",
     "iopub.status.busy": "2023-12-18T04:46:01.001867Z",
     "iopub.status.idle": "2023-12-18T04:46:01.006704Z",
     "shell.execute_reply": "2023-12-18T04:46:01.005963Z"
    },
    "papermill": {
     "duration": 7.291526,
     "end_time": "2023-12-18T04:46:01.008628",
     "exception": false,
     "start_time": "2023-12-18T04:45:53.717102",
     "status": "completed"
    },
    "tags": []
   },
   "outputs": [],
   "source": [
    "history3 = h3.history"
   ]
  },
  {
   "cell_type": "code",
   "execution_count": 35,
   "id": "838df61a",
   "metadata": {
    "execution": {
     "iopub.execute_input": "2023-12-18T04:46:15.332894Z",
     "iopub.status.busy": "2023-12-18T04:46:15.332516Z",
     "iopub.status.idle": "2023-12-18T04:46:15.657795Z",
     "shell.execute_reply": "2023-12-18T04:46:15.656898Z"
    },
    "papermill": {
     "duration": 7.501717,
     "end_time": "2023-12-18T04:46:15.659760",
     "exception": false,
     "start_time": "2023-12-18T04:46:08.158043",
     "status": "completed"
    },
    "tags": []
   },
   "outputs": [
    {
     "data": {
      "image/png": "[encoded data removed]",
      "text/plain": [
       "<Figure size 640x480 with 1 Axes>"
      ]
     },
     "metadata": {},
     "output_type": "display_data"
    }
   ],
   "source": [
    "loss = history3['loss']\n",
    "loss_val = history3['val_loss']\n",
    "epochs = range(1, len(loss)+1)\n",
    "plt.plot(epochs, loss, 'bo', label='loss_train')\n",
    "plt.plot(epochs, loss_val, 'b', label='loss_val')\n",
    "plt.title('value of the loss function')\n",
    "plt.xlabel('epochs')\n",
    "plt.ylabel('value of the loss function')\n",
    "plt.legend()\n",
    "plt.grid()\n",
    "plt.show()"
   ]
  },
  {
   "cell_type": "code",
   "execution_count": 36,
   "id": "8558eade",
   "metadata": {
    "execution": {
     "iopub.execute_input": "2023-12-18T04:46:29.936262Z",
     "iopub.status.busy": "2023-12-18T04:46:29.935329Z",
     "iopub.status.idle": "2023-12-18T04:46:30.240616Z",
     "shell.execute_reply": "2023-12-18T04:46:30.239649Z"
    },
    "papermill": {
     "duration": 7.457454,
     "end_time": "2023-12-18T04:46:30.242613",
     "exception": false,
     "start_time": "2023-12-18T04:46:22.785159",
     "status": "completed"
    },
    "tags": []
   },
   "outputs": [
    {
     "data": {
      "image/png": "[encoded data removed]",
      "text/plain": [
       "<Figure size 640x480 with 1 Axes>"
      ]
     },
     "metadata": {},
     "output_type": "display_data"
    }
   ],
   "source": [
    "acc = history3['accuracy']\n",
    "acc_val = history3['val_accuracy']\n",
    "epochs = range(1, len(loss)+1)\n",
    "plt.plot(epochs, acc, 'bo', label='accuracy_train')\n",
    "plt.plot(epochs, acc_val, 'b', label='accuracy_val')\n",
    "plt.title('accuracy')\n",
    "plt.xlabel('epochs')\n",
    "plt.ylabel('value of accuracy')\n",
    "plt.legend()\n",
    "plt.grid()\n",
    "plt.show()"
   ]
  },
  {
   "cell_type": "markdown",
   "id": "cff6a0fe",
   "metadata": {
    "papermill": {
     "duration": 7.090963,
     "end_time": "2023-12-18T04:46:44.456118",
     "exception": false,
     "start_time": "2023-12-18T04:46:37.365155",
     "status": "completed"
    },
    "tags": []
   },
   "source": [
    "### Fine Tuning"
   ]
  },
  {
   "cell_type": "code",
   "execution_count": 37,
   "id": "77a8b187",
   "metadata": {
    "execution": {
     "iopub.execute_input": "2023-12-18T04:46:58.762286Z",
     "iopub.status.busy": "2023-12-18T04:46:58.761883Z",
     "iopub.status.idle": "2023-12-18T04:46:58.776620Z",
     "shell.execute_reply": "2023-12-18T04:46:58.775690Z"
    },
    "papermill": {
     "duration": 7.165083,
     "end_time": "2023-12-18T04:46:58.778510",
     "exception": false,
     "start_time": "2023-12-18T04:46:51.613427",
     "status": "completed"
    },
    "tags": []
   },
   "outputs": [],
   "source": [
    "base_model.trainable = True\n",
    "opt = tf.keras.optimizers.legacy.Adam(learning_rate=0.00001)\n",
    "model3.compile(loss='categorical_crossentropy', optimizer=opt, metrics=['accuracy'])"
   ]
  },
  {
   "cell_type": "code",
   "execution_count": 38,
   "id": "59d3262c",
   "metadata": {
    "execution": {
     "iopub.execute_input": "2023-12-18T04:47:13.053962Z",
     "iopub.status.busy": "2023-12-18T04:47:13.053123Z",
     "iopub.status.idle": "2023-12-18T05:31:05.097970Z",
     "shell.execute_reply": "2023-12-18T05:31:05.096990Z"
    },
    "papermill": {
     "duration": 2639.164633,
     "end_time": "2023-12-18T05:31:05.100195",
     "exception": false,
     "start_time": "2023-12-18T04:47:05.935562",
     "status": "completed"
    },
    "tags": []
   },
   "outputs": [
    {
     "name": "stdout",
     "output_type": "stream",
     "text": [
      "CPU times: user 4 µs, sys: 0 ns, total: 4 µs\n",
      "Wall time: 19.8 µs\n",
      "Epoch 1/40\n",
      "1537/1537 [==============================] - 66s 42ms/step - loss: 0.2051 - accuracy: 0.3688 - val_loss: 1.3383 - val_accuracy: 0.4826\n",
      "Epoch 2/40\n",
      "1537/1537 [==============================] - 64s 41ms/step - loss: 0.1907 - accuracy: 0.4144 - val_loss: 1.2930 - val_accuracy: 0.5280\n",
      "Epoch 3/40\n",
      "1537/1537 [==============================] - 63s 41ms/step - loss: 0.1830 - accuracy: 0.4411 - val_loss: 1.3133 - val_accuracy: 0.5043\n",
      "Epoch 4/40\n",
      "1537/1537 [==============================] - 63s 41ms/step - loss: 0.1771 - accuracy: 0.4613 - val_loss: 1.1899 - val_accuracy: 0.5667\n",
      "Epoch 5/40\n",
      "1537/1537 [==============================] - 64s 41ms/step - loss: 0.1718 - accuracy: 0.4773 - val_loss: 1.1559 - val_accuracy: 0.5818\n",
      "Epoch 6/40\n",
      "1537/1537 [==============================] - 63s 41ms/step - loss: 0.1674 - accuracy: 0.4929 - val_loss: 1.1493 - val_accuracy: 0.5871\n",
      "Epoch 7/40\n",
      "1537/1537 [==============================] - 64s 41ms/step - loss: 0.1630 - accuracy: 0.5046 - val_loss: 1.1366 - val_accuracy: 0.5938\n",
      "Epoch 8/40\n",
      "1537/1537 [==============================] - 63s 41ms/step - loss: 0.1590 - accuracy: 0.5184 - val_loss: 1.1122 - val_accuracy: 0.5971\n",
      "Epoch 9/40\n",
      "1537/1537 [==============================] - 64s 42ms/step - loss: 0.1551 - accuracy: 0.5284 - val_loss: 1.0955 - val_accuracy: 0.6046\n",
      "Epoch 10/40\n",
      "1537/1537 [==============================] - 64s 42ms/step - loss: 0.1522 - accuracy: 0.5375 - val_loss: 1.0976 - val_accuracy: 0.5977\n",
      "Epoch 11/40\n",
      "1537/1537 [==============================] - 64s 42ms/step - loss: 0.1475 - accuracy: 0.5500 - val_loss: 1.0603 - val_accuracy: 0.6194\n",
      "Epoch 12/40\n",
      "1537/1537 [==============================] - 64s 41ms/step - loss: 0.1450 - accuracy: 0.5583 - val_loss: 1.0616 - val_accuracy: 0.6188\n",
      "Epoch 13/40\n",
      "1537/1537 [==============================] - 64s 42ms/step - loss: 0.1414 - accuracy: 0.5669 - val_loss: 1.0415 - val_accuracy: 0.6303\n",
      "Epoch 14/40\n",
      "1537/1537 [==============================] - 64s 42ms/step - loss: 0.1375 - accuracy: 0.5790 - val_loss: 1.0545 - val_accuracy: 0.6194\n",
      "Epoch 15/40\n",
      "1537/1537 [==============================] - 64s 42ms/step - loss: 0.1345 - accuracy: 0.5878 - val_loss: 1.0437 - val_accuracy: 0.6227\n",
      "Epoch 16/40\n",
      "1537/1537 [==============================] - 64s 42ms/step - loss: 0.1309 - accuracy: 0.5958 - val_loss: 1.0601 - val_accuracy: 0.6166\n",
      "Epoch 17/40\n",
      "1537/1537 [==============================] - 64s 42ms/step - loss: 0.1285 - accuracy: 0.6034 - val_loss: 1.0359 - val_accuracy: 0.6367\n",
      "Epoch 18/40\n",
      "1537/1537 [==============================] - 63s 41ms/step - loss: 0.1245 - accuracy: 0.6126 - val_loss: 1.0315 - val_accuracy: 0.6283\n",
      "Epoch 19/40\n",
      "1537/1537 [==============================] - 64s 41ms/step - loss: 0.1220 - accuracy: 0.6189 - val_loss: 1.0414 - val_accuracy: 0.6291\n",
      "Epoch 20/40\n",
      "1537/1537 [==============================] - 64s 42ms/step - loss: 0.1183 - accuracy: 0.6286 - val_loss: 1.0155 - val_accuracy: 0.6375\n",
      "Epoch 21/40\n",
      "1537/1537 [==============================] - 64s 42ms/step - loss: 0.1156 - accuracy: 0.6384 - val_loss: 1.0505 - val_accuracy: 0.6317\n",
      "Epoch 22/40\n",
      "1537/1537 [==============================] - 64s 42ms/step - loss: 0.1123 - accuracy: 0.6453 - val_loss: 1.0229 - val_accuracy: 0.6442\n",
      "Epoch 23/40\n",
      "1537/1537 [==============================] - 64s 42ms/step - loss: 0.1093 - accuracy: 0.6507 - val_loss: 1.0318 - val_accuracy: 0.6339\n",
      "Epoch 24/40\n",
      "1537/1537 [==============================] - 64s 42ms/step - loss: 0.1068 - accuracy: 0.6563 - val_loss: 1.0192 - val_accuracy: 0.6464\n",
      "Epoch 25/40\n",
      "1537/1537 [==============================] - 64s 42ms/step - loss: 0.1039 - accuracy: 0.6652 - val_loss: 1.0496 - val_accuracy: 0.6361\n",
      "Epoch 26/40\n",
      "1537/1537 [==============================] - 64s 42ms/step - loss: 0.1012 - accuracy: 0.6719 - val_loss: 1.0618 - val_accuracy: 0.6344\n",
      "Epoch 27/40\n",
      "1537/1537 [==============================] - 64s 42ms/step - loss: 0.0976 - accuracy: 0.6804 - val_loss: 1.0779 - val_accuracy: 0.6308\n",
      "Epoch 28/40\n",
      "1537/1537 [==============================] - 65s 42ms/step - loss: 0.0960 - accuracy: 0.6840 - val_loss: 1.0411 - val_accuracy: 0.6473\n",
      "Epoch 29/40\n",
      "1537/1537 [==============================] - 63s 41ms/step - loss: 0.0938 - accuracy: 0.6888 - val_loss: 1.0817 - val_accuracy: 0.6369\n",
      "Epoch 30/40\n",
      "1537/1537 [==============================] - 64s 42ms/step - loss: 0.0907 - accuracy: 0.6965 - val_loss: 1.0715 - val_accuracy: 0.6447\n",
      "Epoch 31/40\n",
      "1537/1537 [==============================] - 64s 41ms/step - loss: 0.0887 - accuracy: 0.7005 - val_loss: 1.0847 - val_accuracy: 0.6344\n",
      "Epoch 32/40\n",
      "1537/1537 [==============================] - 64s 42ms/step - loss: 0.0862 - accuracy: 0.7050 - val_loss: 1.0703 - val_accuracy: 0.6459\n",
      "Epoch 33/40\n",
      "1537/1537 [==============================] - 64s 42ms/step - loss: 0.0839 - accuracy: 0.7087 - val_loss: 1.1181 - val_accuracy: 0.6358\n",
      "Epoch 34/40\n",
      "1537/1537 [==============================] - 64s 42ms/step - loss: 0.0819 - accuracy: 0.7153 - val_loss: 1.1003 - val_accuracy: 0.6425\n",
      "Epoch 35/40\n",
      "1537/1537 [==============================] - 64s 41ms/step - loss: 0.0803 - accuracy: 0.7189 - val_loss: 1.0985 - val_accuracy: 0.6397\n",
      "Epoch 36/40\n",
      "1537/1537 [==============================] - 64s 42ms/step - loss: 0.0782 - accuracy: 0.7241 - val_loss: 1.1399 - val_accuracy: 0.6364\n",
      "Epoch 37/40\n",
      "1537/1537 [==============================] - 63s 41ms/step - loss: 0.0761 - accuracy: 0.7278 - val_loss: 1.1175 - val_accuracy: 0.6367\n",
      "Epoch 38/40\n",
      "1537/1537 [==============================] - 64s 42ms/step - loss: 0.0735 - accuracy: 0.7336 - val_loss: 1.1201 - val_accuracy: 0.6417\n",
      "Epoch 39/40\n",
      "1537/1537 [==============================] - 64s 41ms/step - loss: 0.0719 - accuracy: 0.7351 - val_loss: 1.1236 - val_accuracy: 0.6492\n",
      "Epoch 40/40\n",
      "1537/1537 [==============================] - 65s 42ms/step - loss: 0.0697 - accuracy: 0.7409 - val_loss: 1.1543 - val_accuracy: 0.6358\n"
     ]
    }
   ],
   "source": [
    "%time \n",
    "\n",
    "h4 = model3.fit(datagen.flow(train_images_rgb, train_labels),\n",
    "                    validation_data=datagen.flow(val_images_rgb, val_labels),\n",
    "                    class_weight = class_weight,\n",
    "                    epochs=40,\n",
    "                    batch_size=64)"
   ]
  },
  {
   "cell_type": "code",
   "execution_count": 39,
   "id": "93611006",
   "metadata": {
    "execution": {
     "iopub.execute_input": "2023-12-18T05:31:24.613631Z",
     "iopub.status.busy": "2023-12-18T05:31:24.613258Z",
     "iopub.status.idle": "2023-12-18T05:31:26.661049Z",
     "shell.execute_reply": "2023-12-18T05:31:26.660062Z"
    },
    "papermill": {
     "duration": 11.943887,
     "end_time": "2023-12-18T05:31:26.663430",
     "exception": false,
     "start_time": "2023-12-18T05:31:14.719543",
     "status": "completed"
    },
    "tags": []
   },
   "outputs": [
    {
     "name": "stdout",
     "output_type": "stream",
     "text": [
      "113/113 [==============================] - 1s 11ms/step\n"
     ]
    }
   ],
   "source": [
    "pred_test_labels = model3.predict(test_images_rgb)\n",
    "\n",
    "df_compare = pd.DataFrame()\n",
    "df_compare['real'] = test_labels.argmax(axis=1)\n",
    "df_compare['pred'] = pred_test_labels.argmax(axis=1)\n",
    "df_compare['wrong'] = np.where(df_compare['real']!=df_compare['pred'], 1, 0)"
   ]
  },
  {
   "cell_type": "code",
   "execution_count": 40,
   "id": "3615836b",
   "metadata": {
    "execution": {
     "iopub.execute_input": "2023-12-18T05:31:46.175389Z",
     "iopub.status.busy": "2023-12-18T05:31:46.175024Z",
     "iopub.status.idle": "2023-12-18T05:31:46.580804Z",
     "shell.execute_reply": "2023-12-18T05:31:46.579922Z"
    },
    "papermill": {
     "duration": 10.134169,
     "end_time": "2023-12-18T05:31:46.582715",
     "exception": false,
     "start_time": "2023-12-18T05:31:36.448546",
     "status": "completed"
    },
    "tags": []
   },
   "outputs": [
    {
     "data": {
      "image/png": "[encoded data removed]",
      "text/plain": [
       "<Figure size 800x800 with 1 Axes>"
      ]
     },
     "metadata": {},
     "output_type": "display_data"
    }
   ],
   "source": [
    "conf_mat = confusion_matrix(test_labels.argmax(axis=1), pred_test_labels.argmax(axis=1))\n",
    "\n",
    "fig, ax = plot_confusion_matrix(conf_mat=conf_mat,\n",
    "                                show_normed=True,\n",
    "                                show_absolute=False,\n",
    "                                class_names=emotions.values(),\n",
    "                                figsize=(8, 8))\n",
    "fig.show()"
   ]
  },
  {
   "cell_type": "code",
   "execution_count": 41,
   "id": "15f2ba95",
   "metadata": {
    "execution": {
     "iopub.execute_input": "2023-12-18T05:32:06.147791Z",
     "iopub.status.busy": "2023-12-18T05:32:06.147415Z",
     "iopub.status.idle": "2023-12-18T05:32:08.315865Z",
     "shell.execute_reply": "2023-12-18T05:32:08.314873Z"
    },
    "papermill": {
     "duration": 11.993329,
     "end_time": "2023-12-18T05:32:08.318062",
     "exception": false,
     "start_time": "2023-12-18T05:31:56.324733",
     "status": "completed"
    },
    "tags": []
   },
   "outputs": [
    {
     "name": "stdout",
     "output_type": "stream",
     "text": [
      "113/113 [==============================] - 2s 12ms/step - loss: 13.5703 - accuracy: 0.3096\n",
      "test accuracy: 0.3095569908618927\n"
     ]
    }
   ],
   "source": [
    "test_loss, test_acc = model3.evaluate(test_images_rgb, test_labels)\n",
    "print('test accuracy:', test_acc)"
   ]
  }
 ],
 "metadata": {
  "kaggle": {
   "accelerator": "nvidiaTeslaT4",
   "dataSources": [
    {
     "databundleVersionId": 31151,
     "sourceId": 3364,
     "sourceType": "competition"
    }
   ],
   "dockerImageVersionId": 30579,
   "isGpuEnabled": true,
   "isInternetEnabled": true,
   "language": "python",
   "sourceType": "notebook"
  },
  "kernelspec": {
   "display_name": "Python 3",
   "language": "python",
   "name": "python3"
  },
  "language_info": {
   "codemirror_mode": {
    "name": "ipython",
    "version": 3
   },
   "file_extension": ".py",
   "mimetype": "text/x-python",
   "name": "python",
   "nbconvert_exporter": "python",
   "pygments_lexer": "ipython3",
   "version": "3.10.12"
  },
  "papermill": {
   "default_parameters": {},
   "duration": 9103.480643,
   "end_time": "2023-12-18T05:32:21.609905",
   "environment_variables": {},
   "exception": null,
   "input_path": "__notebook__.ipynb",
   "output_path": "__notebook__.ipynb",
   "parameters": {},
   "start_time": "2023-12-18T03:00:38.129262",
   "version": "2.4.0"
  }
 },
 "nbformat": 4,
 "nbformat_minor": 5
}

{
 "cells": [
  {
   "cell_type": "code",
   "execution_count": null,
   "metadata": {},
   "outputs": [],
   "source": [
    "import numpy as np\n",
    "from sklearn.model_selection import train_test_split\n",
    "from sklearn.metrics import accuracy_score, confusion_matrix, classification_report\n",
    "\n",
    "import matplotlib.pyplot as plt\n",
    "\n",
    "import os\n",
    "\n",
    "from tqdm import tqdm\n",
    "from sklearn.decomposition import PCA\n",
    "import cv2\n",
    "from sklearn.ensemble import RandomForestClassifier"
   ]
  },
  {
   "cell_type": "code",
   "execution_count": null,
   "metadata": {},
   "outputs": [],
   "source": [
    "def load_images_from_folder_fer_2013(folder):\n",
    "    images = []\n",
    "    labels = []\n",
    "    for label_folder in os.listdir(folder):\n",
    "        label_folder_path = os.path.join(folder, label_folder)\n",
    "        if os.path.isdir(label_folder_path):\n",
    "            for image_file in os.listdir(label_folder_path):\n",
    "                image_path = os.path.join(label_folder_path, image_file)\n",
    "                img = cv2.imread(image_path)\n",
    "                img = cv2.cvtColor(img, cv2.COLOR_BGR2GRAY)\n",
    "                img = cv2.resize(img, (48, 48))\n",
    "                images.append(img.flatten())\n",
    "                labels.append(label_folder)\n",
    "    return np.array(images), np.array(labels)"
   ]
  },
  {
   "cell_type": "code",
   "execution_count": null,
   "metadata": {},
   "outputs": [],
   "source": [
    "train_folder = '../../../../Data/fer2013/train'\n",
    "test_folder = '../../../../Data/fer2013/validation'\n",
    "X_train, y_train = load_images_from_folder_fer_2013(train_folder)\n",
    "X_test, y_test = load_images_from_folder_fer_2013(test_folder)"
   ]
  },
  {
   "cell_type": "code",
   "execution_count": null,
   "metadata": {},
   "outputs": [],
   "source": [
    "images_directory = '../../../../Data/images/train'"
   ]
  },
  {
   "cell_type": "code",
   "execution_count": null,
   "metadata": {},
   "outputs": [],
   "source": [
    "def prepare_data_and_apply_pca(directory, n_components=10):\n",
    "    all_images = []\n",
    "    labels = []\n",
    "    for emotion_folder in os.listdir(directory):\n",
    "        emotion_folder_path = os.path.join(directory, emotion_folder)\n",
    "        if os.path.isdir(emotion_folder_path):\n",
    "            for image_file in os.listdir(emotion_folder_path):\n",
    "                image_path = os.path.join(emotion_folder_path, image_file)\n",
    "                img = cv2.imread(image_path)\n",
    "                img_gray = cv2.cvtColor(cv2.resize(img, (48, 48)), cv2.COLOR_BGR2GRAY).flatten()\n",
    "                all_images.append(img_gray)\n",
    "                labels.append(emotion_folder)\n",
    "    \n",
    "    all_images = np.array(all_images)\n",
    "    \n",
    "    # PCA modelini eğitin ve veri setini dönüştürün\n",
    "    pca = PCA(n_components=n_components)\n",
    "    features_pca = pca.fit_transform(all_images)\n",
    "    \n",
    "    return features_pca, labels\n"
   ]
  },
  {
   "cell_type": "code",
   "execution_count": null,
   "metadata": {},
   "outputs": [],
   "source": [
    "import numpy as np\n",
    "\n",
    "def euclidean_distance(a, b):\n",
    "    return np.sqrt(np.sum((a - b) ** 2))\n"
   ]
  },
  {
   "cell_type": "code",
   "execution_count": null,
   "metadata": {},
   "outputs": [],
   "source": [
    "def predict_with_euclidean_distance(X_train, y_train, X_test):\n",
    "    predictions = []\n",
    "    for test_sample in X_test:\n",
    "        # Test örneği ile tüm eğitim örnekleri arasındaki mesafeleri hesapla\n",
    "        distances = [euclidean_distance(test_sample, train_sample) for train_sample in X_train]\n",
    "        # En küçük mesafeye sahip eğitim örneğinin indeksini bul\n",
    "        min_index = np.argmin(distances)\n",
    "        # Bu eğitim örneğinin etiketini tahmin olarak kullan\n",
    "        predictions.append(y_train[min_index])\n",
    "    return predictions\n"
   ]
  },
  {
   "cell_type": "code",
   "execution_count": null,
   "metadata": {},
   "outputs": [],
   "source": [
    "def find_best_pca(X_train, y_train, X_test, y_test):\n",
    "    component_accuracy = []\n",
    "\n",
    "    for n_components in tqdm(range(1, 100)):\n",
    "        pca = PCA(n_components=n_components)\n",
    "        X_train_pca = pca.fit_transform(X_train)\n",
    "        X_test_pca = pca.transform(X_test)\n",
    "        \n",
    "        # Modeli tanımla ve eğit\n",
    "        model = RandomForestClassifier(n_estimators=100, random_state=42)\n",
    "        model.fit(X_train_pca, y_train)\n",
    "\n",
    "        # Eğitim seti üzerinde tahmin yap ve doğruluk oranını hesapla\n",
    "        y_pred_train = model.predict(X_train_pca)\n",
    "        train_accuracy = accuracy_score(y_train, y_pred_train)\n",
    "        #print(f\"Component: {n_components} --  Eğitim Doğruluğu: {train_accuracy}\")\n",
    "\n",
    "        # Test seti üzerinde tahmin yap ve doğruluk oranını hesapla\n",
    "        y_pred_test = model.predict(X_test_pca)\n",
    "        test_accuracy = accuracy_score(y_test, y_pred_test)\n",
    "        #print(f\"Component: {n_components} -- Test Doğruluğu: {test_accuracy}\")\n",
    "\n",
    "        component_accuracy.append({'component':  n_components, 'train_accuracy': train_accuracy, 'test_accuracy': test_accuracy})\n",
    "\n",
    "        if len(component_accuracy) > 5:\n",
    "            # Early stopping, if 3 times decreases\n",
    "            if all(current['test_accuracy'] <= prev['test_accuracy'] for current, prev in zip(component_accuracy[-3:], component_accuracy[-4:-1])):\n",
    "                print(\"Erken durdurma: Son 3 test doğruluğunda azalma trendi.\")\n",
    "                break\n",
    "            threshold = 0.01\n",
    "            # Early stopping, if acc dif less than threshold:0.01 times decreases\n",
    "            recent_accuracies = [acc['test_accuracy'] for acc in component_accuracy[-5:]]\n",
    "            if max(recent_accuracies) - min(recent_accuracies) < threshold:\n",
    "                print(\"Erken durdurma: Son 5 test doğruluğundaki fark 0.01'den az.\")\n",
    "                break\n",
    "        \n",
    "    return component_accuracy\n",
    "\n",
    "def best_accuracy_component(component_accuracy):\n",
    "    best_accuracy = max(component_accuracy, key=lambda x:x['test_accuracy'])\n",
    "    return best_accuracy"
   ]
  },
  {
   "cell_type": "code",
   "execution_count": null,
   "metadata": {},
   "outputs": [],
   "source": [
    "def plot_accuracy_by_components(results):\n",
    "    # Component değerlerini ve karşılık gelen accuracy değerlerini çıkar\n",
    "    components = [result['component'] for result in results]\n",
    "    train_accuracies = [result['train_accuracy'] for result in results]\n",
    "    test_accuracies = [result['test_accuracy'] for result in results]\n",
    "\n",
    "    # Çizgi grafikleri çiz\n",
    "    plt.figure(figsize=(10, 6))\n",
    "    plt.plot(components, train_accuracies, label='Eğitim Doğruluğu', marker='o')\n",
    "    plt.plot(components, test_accuracies, label='Test Doğruluğu', marker='x')\n",
    "\n",
    "\n",
    "    plt.xticks(np.arange(components[0], components[-1]+1, 3))\n",
    "    plt.title('PCA Bileşen Sayısına Göre Eğitim ve Test Doğruluğu')\n",
    "    plt.xlabel('PCA Bileşen Sayısı')\n",
    "    plt.ylabel('Doğruluk Oranı')\n",
    "    plt.legend()\n",
    "\n",
    "    # Göster\n",
    "    plt.grid(True)\n",
    "    plt.show()"
   ]
  },
  {
   "cell_type": "code",
   "execution_count": null,
   "metadata": {},
   "outputs": [],
   "source": [
    "train_folder = '../../../../Data/fer2013/train'\n",
    "test_folder = '../../../../Data/fer2013/validation'\n",
    "X_train, y_train = load_images_from_folder_fer_2013(train_folder)\n",
    "X_test, y_test = load_images_from_folder_fer_2013(test_folder)"
   ]
  },
  {
   "cell_type": "code",
   "execution_count": null,
   "metadata": {},
   "outputs": [],
   "source": [
    "component_accuracy = find_best_pca(X_train, y_train, X_test, y_test)"
   ]
  },
  {
   "cell_type": "code",
   "execution_count": null,
   "metadata": {},
   "outputs": [],
   "source": [
    "plot_accuracy_by_components(component_accuracy)\n",
    "print(f\"Best accuracy component: {best_accuracy_component(component_accuracy)}\")"
   ]
  },
  {
   "cell_type": "code",
   "execution_count": null,
   "metadata": {},
   "outputs": [],
   "source": [
    "import joblib\n",
    "\n",
    "def export_pca(pca, filename):\n",
    "    joblib.dump(pca, filename)\n",
    "    print(f\"PCA modeli '{filename}' olarak kaydedildi.\")\n",
    "def export_classifier(classifier, filename):\n",
    "    joblib.dump(classifier, filename)\n",
    "    print(f\"Model '{filename}' olarak kaydedildi.\")"
   ]
  },
  {
   "cell_type": "code",
   "execution_count": null,
   "metadata": {},
   "outputs": [],
   "source": [
    "component_count = best_accuracy_component(component_accuracy)['component']\n",
    "pca = PCA(n_components=component_count)\n",
    "X_train_pca = pca.fit_transform(X_train)\n",
    "X_test_pca = pca.transform(X_test)\n",
    "\n",
    "# Sınıflandırıcıyı eğit\n",
    "model = RandomForestClassifier(n_estimators=100, random_state=42)\n",
    "model.fit(X_train_pca, y_train)\n",
    "\n",
    "export_pca(pca, f'pca_model{component_count}.pkl')\n",
    "export_classifier(model, f'classifier_model{component_count}.pkl')\n"
   ]
  }
 ],
 "metadata": {
  "language_info": {
   "name": "python"
  }
 },
 "nbformat": 4,
 "nbformat_minor": 2
}

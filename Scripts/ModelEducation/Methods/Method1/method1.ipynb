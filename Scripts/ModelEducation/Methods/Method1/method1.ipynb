{
 "cells": [
  {
   "cell_type": "code",
   "execution_count": 76,
   "metadata": {},
   "outputs": [],
   "source": [
    "import numpy as np\n",
    "from sklearn.model_selection import train_test_split\n",
    "from sklearn.metrics import accuracy_score, confusion_matrix, classification_report\n",
    "\n",
    "import matplotlib.pyplot as plt\n",
    "\n",
    "import os\n",
    "\n",
    "from tqdm import tqdm\n",
    "from sklearn.decomposition import PCA\n",
    "import cv2\n",
    "from sklearn.ensemble import RandomForestClassifier"
   ]
  },
  {
   "cell_type": "code",
   "execution_count": 77,
   "metadata": {},
   "outputs": [],
   "source": [
    "def load_images_from_folder_fer_2013(folder):\n",
    "    images = []\n",
    "    labels = []\n",
    "    for label_folder in os.listdir(folder):\n",
    "        label_folder_path = os.path.join(folder, label_folder)\n",
    "        if os.path.isdir(label_folder_path):\n",
    "            for image_file in os.listdir(label_folder_path):\n",
    "                image_path = os.path.join(label_folder_path, image_file)\n",
    "                img = cv2.imread(image_path)\n",
    "                img = cv2.cvtColor(img, cv2.COLOR_BGR2GRAY)\n",
    "                img = cv2.resize(img, (48, 48))\n",
    "                images.append(img.flatten())\n",
    "                labels.append(label_folder)\n",
    "    return np.array(images), np.array(labels)"
   ]
  },
  {
   "cell_type": "code",
   "execution_count": 78,
   "metadata": {},
   "outputs": [],
   "source": [
    "train_folder = '../../../../Data/fer2013/train'\n",
    "test_folder = '../../../../Data/fer2013/validation'\n",
    "X_train, y_train = load_images_from_folder_fer_2013(train_folder)\n",
    "X_test, y_test = load_images_from_folder_fer_2013(test_folder)"
   ]
  },
  {
   "cell_type": "code",
   "execution_count": 79,
   "metadata": {},
   "outputs": [],
   "source": [
    "images_directory = '../../../../Data/images/train'"
   ]
  },
  {
   "cell_type": "code",
   "execution_count": 80,
   "metadata": {},
   "outputs": [],
   "source": [
    "def prepare_data_and_apply_pca(directory, n_components=10):\n",
    "    all_images = []\n",
    "    labels = []\n",
    "    for emotion_folder in os.listdir(directory):\n",
    "        emotion_folder_path = os.path.join(directory, emotion_folder)\n",
    "        if os.path.isdir(emotion_folder_path):\n",
    "            for image_file in os.listdir(emotion_folder_path):\n",
    "                image_path = os.path.join(emotion_folder_path, image_file)\n",
    "                img = cv2.imread(image_path)\n",
    "                img_gray = cv2.cvtColor(cv2.resize(img, (48, 48)), cv2.COLOR_BGR2GRAY).flatten()\n",
    "                all_images.append(img_gray)\n",
    "                labels.append(emotion_folder)\n",
    "    \n",
    "    all_images = np.array(all_images)\n",
    "    \n",
    "    # PCA modelini eğitin ve veri setini dönüştürün\n",
    "    pca = PCA(n_components=n_components)\n",
    "    features_pca = pca.fit_transform(all_images)\n",
    "    \n",
    "    return features_pca, labels\n"
   ]
  },
  {
   "cell_type": "code",
   "execution_count": 81,
   "metadata": {},
   "outputs": [],
   "source": [
    "import numpy as np\n",
    "\n",
    "def euclidean_distance(a, b):\n",
    "    return np.sqrt(np.sum((a - b) ** 2))\n"
   ]
  },
  {
   "cell_type": "code",
   "execution_count": 82,
   "metadata": {},
   "outputs": [],
   "source": [
    "def predict_with_euclidean_distance(X_train, y_train, X_test):\n",
    "    predictions = []\n",
    "    for test_sample in X_test:\n",
    "        # Test örneği ile tüm eğitim örnekleri arasındaki mesafeleri hesapla\n",
    "        distances = [euclidean_distance(test_sample, train_sample) for train_sample in X_train]\n",
    "        # En küçük mesafeye sahip eğitim örneğinin indeksini bul\n",
    "        min_index = np.argmin(distances)\n",
    "        # Bu eğitim örneğinin etiketini tahmin olarak kullan\n",
    "        predictions.append(y_train[min_index])\n",
    "    return predictions\n"
   ]
  },
  {
   "cell_type": "markdown",
   "metadata": {},
   "source": [
    "PCA METHOD UYGULAMA"
   ]
  },
  {
   "cell_type": "code",
   "execution_count": 83,
   "metadata": {},
   "outputs": [],
   "source": [
    "def find_best_pca(X_train, y_train, X_test, y_test):\n",
    "    component_accuracy = []\n",
    "\n",
    "    for n_components in tqdm(range(1, 100)):\n",
    "        pca = PCA(n_components=n_components)\n",
    "        X_train_pca = pca.fit_transform(X_train)\n",
    "        X_test_pca = pca.transform(X_test)\n",
    "        \n",
    "        # Modeli tanımla ve eğit\n",
    "        model = RandomForestClassifier(n_estimators=100, random_state=42)\n",
    "        model.fit(X_train_pca, y_train)\n",
    "\n",
    "        # Eğitim seti üzerinde tahmin yap ve doğruluk oranını hesapla\n",
    "        y_pred_train = model.predict(X_train_pca)\n",
    "        train_accuracy = accuracy_score(y_train, y_pred_train)\n",
    "        #print(f\"Component: {n_components} --  Eğitim Doğruluğu: {train_accuracy}\")\n",
    "\n",
    "        # Test seti üzerinde tahmin yap ve doğruluk oranını hesapla\n",
    "        y_pred_test = model.predict(X_test_pca)\n",
    "        test_accuracy = accuracy_score(y_test, y_pred_test)\n",
    "        #print(f\"Component: {n_components} -- Test Doğruluğu: {test_accuracy}\")\n",
    "\n",
    "        component_accuracy.append({'component':  n_components, 'train_accuracy': train_accuracy, 'test_accuracy': test_accuracy})\n",
    "\n",
    "        if len(component_accuracy) > 5:\n",
    "            # Early stopping, if 3 times decreases\n",
    "            if all(current['test_accuracy'] <= prev['test_accuracy'] for current, prev in zip(component_accuracy[-3:], component_accuracy[-4:-1])):\n",
    "                print(\"Erken durdurma: Son 3 test doğruluğunda azalma trendi.\")\n",
    "                break\n",
    "            threshold = 0.01\n",
    "            # Early stopping, if acc dif less than threshold:0.01 times decreases\n",
    "            recent_accuracies = [acc['test_accuracy'] for acc in component_accuracy[-5:]]\n",
    "            if max(recent_accuracies) - min(recent_accuracies) < threshold:\n",
    "                print(\"Erken durdurma: Son 5 test doğruluğundaki fark 0.01'den az.\")\n",
    "                break\n",
    "        \n",
    "    return component_accuracy\n",
    "\n",
    "def best_accuracy_component(component_accuracy):\n",
    "    best_accuracy = max(component_accuracy, key=lambda x:x['test_accuracy'])\n",
    "    return best_accuracy"
   ]
  },
  {
   "cell_type": "code",
   "execution_count": 84,
   "metadata": {},
   "outputs": [],
   "source": [
    "def plot_accuracy_by_components(results):\n",
    "    # Component değerlerini ve karşılık gelen accuracy değerlerini çıkar\n",
    "    components = [result['component'] for result in results]\n",
    "    train_accuracies = [result['train_accuracy'] for result in results]\n",
    "    test_accuracies = [result['test_accuracy'] for result in results]\n",
    "\n",
    "    # Çizgi grafikleri çiz\n",
    "    plt.figure(figsize=(10, 6))\n",
    "    plt.plot(components, train_accuracies, label='Eğitim Doğruluğu', marker='o')\n",
    "    plt.plot(components, test_accuracies, label='Test Doğruluğu', marker='x')\n",
    "\n",
    "\n",
    "    plt.xticks(np.arange(components[0], components[-1]+1, 3))\n",
    "    plt.title('PCA Bileşen Sayısına Göre Eğitim ve Test Doğruluğu')\n",
    "    plt.xlabel('PCA Bileşen Sayısı')\n",
    "    plt.ylabel('Doğruluk Oranı')\n",
    "    plt.legend()\n",
    "\n",
    "    # Göster\n",
    "    plt.grid(True)\n",
    "    plt.show()"
   ]
  },
  {
   "cell_type": "code",
   "execution_count": 85,
   "metadata": {},
   "outputs": [],
   "source": [
    "train_folder = '../../../../Data/fer2013/train'\n",
    "test_folder = '../../../../Data/fer2013/validation'\n",
    "X_train, y_train = load_images_from_folder_fer_2013(train_folder)\n",
    "X_test, y_test = load_images_from_folder_fer_2013(test_folder)"
   ]
  },
  {
   "cell_type": "code",
   "execution_count": 86,
   "metadata": {},
   "outputs": [
    {
     "name": "stderr",
     "output_type": "stream",
     "text": [
      "  0%|          | 0/99 [00:00<?, ?it/s]"
     ]
    },
    {
     "name": "stdout",
     "output_type": "stream",
     "text": [
      "Eğitim seti özellikleri: (28821, 1)\n",
      "Test seti özellikleri: (7066, 1)\n"
     ]
    },
    {
     "name": "stderr",
     "output_type": "stream",
     "text": [
      "  1%|          | 1/99 [00:07<11:51,  7.26s/it]"
     ]
    },
    {
     "name": "stdout",
     "output_type": "stream",
     "text": [
      "Component: 1 --  Eğitim Doğruluğu: 0.9980916692689359\n",
      "Component: 1 -- Test Doğruluğu: 0.2346447778092273\n",
      "Eğitim seti özellikleri: (28821, 2)\n",
      "Test seti özellikleri: (7066, 2)\n"
     ]
    },
    {
     "name": "stderr",
     "output_type": "stream",
     "text": [
      "  2%|▏         | 2/99 [00:16<13:38,  8.44s/it]"
     ]
    },
    {
     "name": "stdout",
     "output_type": "stream",
     "text": [
      "Component: 2 --  Eğitim Doğruluğu: 0.9982651538808508\n",
      "Component: 2 -- Test Doğruluğu: 0.2649306538352675\n",
      "Eğitim seti özellikleri: (28821, 3)\n",
      "Test seti özellikleri: (7066, 3)\n"
     ]
    },
    {
     "name": "stderr",
     "output_type": "stream",
     "text": [
      "  3%|▎         | 3/99 [00:25<14:04,  8.80s/it]"
     ]
    },
    {
     "name": "stdout",
     "output_type": "stream",
     "text": [
      "Component: 3 --  Eğitim Doğruluğu: 0.9982651538808508\n",
      "Component: 3 -- Test Doğruluğu: 0.2959241437871497\n",
      "Eğitim seti özellikleri: (28821, 4)\n",
      "Test seti özellikleri: (7066, 4)\n"
     ]
    },
    {
     "name": "stderr",
     "output_type": "stream",
     "text": [
      "  4%|▍         | 4/99 [00:37<15:33,  9.83s/it]"
     ]
    },
    {
     "name": "stdout",
     "output_type": "stream",
     "text": [
      "Component: 4 --  Eğitim Doğruluğu: 0.9982651538808508\n",
      "Component: 4 -- Test Doğruluğu: 0.3223889046136428\n",
      "Eğitim seti özellikleri: (28821, 5)\n",
      "Test seti özellikleri: (7066, 5)\n"
     ]
    },
    {
     "name": "stderr",
     "output_type": "stream",
     "text": [
      "  5%|▌         | 5/99 [00:48<16:24, 10.47s/it]"
     ]
    },
    {
     "name": "stdout",
     "output_type": "stream",
     "text": [
      "Component: 5 --  Eğitim Doğruluğu: 0.9982651538808508\n",
      "Component: 5 -- Test Doğruluğu: 0.3457401641664308\n",
      "Eğitim seti özellikleri: (28821, 6)\n",
      "Test seti özellikleri: (7066, 6)\n"
     ]
    },
    {
     "name": "stderr",
     "output_type": "stream",
     "text": [
      "  6%|▌         | 6/99 [01:00<16:54, 10.91s/it]"
     ]
    },
    {
     "name": "stdout",
     "output_type": "stream",
     "text": [
      "Component: 6 --  Eğitim Doğruluğu: 0.9982651538808508\n",
      "Component: 6 -- Test Doğruluğu: 0.3600339654684404\n",
      "Eğitim seti özellikleri: (28821, 7)\n",
      "Test seti özellikleri: (7066, 7)\n"
     ]
    },
    {
     "name": "stderr",
     "output_type": "stream",
     "text": [
      "  7%|▋         | 7/99 [01:12<17:12, 11.22s/it]"
     ]
    },
    {
     "name": "stdout",
     "output_type": "stream",
     "text": [
      "Component: 7 --  Eğitim Doğruluğu: 0.9982651538808508\n",
      "Component: 7 -- Test Doğruluğu: 0.3731955844891027\n",
      "Eğitim seti özellikleri: (28821, 8)\n",
      "Test seti özellikleri: (7066, 8)\n"
     ]
    },
    {
     "name": "stderr",
     "output_type": "stream",
     "text": [
      "  8%|▊         | 8/99 [01:24<17:29, 11.53s/it]"
     ]
    },
    {
     "name": "stdout",
     "output_type": "stream",
     "text": [
      "Component: 8 --  Eğitim Doğruluğu: 0.9982651538808508\n",
      "Component: 8 -- Test Doğruluğu: 0.37928106425134445\n",
      "Eğitim seti özellikleri: (28821, 9)\n",
      "Test seti özellikleri: (7066, 9)\n"
     ]
    },
    {
     "name": "stderr",
     "output_type": "stream",
     "text": [
      "  9%|▉         | 9/99 [01:38<18:36, 12.41s/it]"
     ]
    },
    {
     "name": "stdout",
     "output_type": "stream",
     "text": [
      "Component: 9 --  Eğitim Doğruluğu: 0.9982651538808508\n",
      "Component: 9 -- Test Doğruluğu: 0.3971129351825644\n",
      "Eğitim seti özellikleri: (28821, 10)\n",
      "Test seti özellikleri: (7066, 10)\n"
     ]
    },
    {
     "name": "stderr",
     "output_type": "stream",
     "text": [
      " 10%|█         | 10/99 [01:53<19:14, 12.98s/it]"
     ]
    },
    {
     "name": "stdout",
     "output_type": "stream",
     "text": [
      "Component: 10 --  Eğitim Doğruluğu: 0.9982651538808508\n",
      "Component: 10 -- Test Doğruluğu: 0.40348146051514294\n",
      "Eğitim seti özellikleri: (28821, 11)\n",
      "Test seti özellikleri: (7066, 11)\n"
     ]
    },
    {
     "name": "stderr",
     "output_type": "stream",
     "text": [
      " 11%|█         | 11/99 [02:07<19:40, 13.41s/it]"
     ]
    },
    {
     "name": "stdout",
     "output_type": "stream",
     "text": [
      "Component: 11 --  Eğitim Doğruluğu: 0.9982651538808508\n",
      "Component: 11 -- Test Doğruluğu: 0.40716105292952165\n",
      "Eğitim seti özellikleri: (28821, 12)\n",
      "Test seti özellikleri: (7066, 12)\n"
     ]
    },
    {
     "name": "stderr",
     "output_type": "stream",
     "text": [
      " 12%|█▏        | 12/99 [02:21<19:46, 13.63s/it]"
     ]
    },
    {
     "name": "stdout",
     "output_type": "stream",
     "text": [
      "Component: 12 --  Eğitim Doğruluğu: 0.9982651538808508\n",
      "Component: 12 -- Test Doğruluğu: 0.4078686668553637\n",
      "Eğitim seti özellikleri: (28821, 13)\n",
      "Test seti özellikleri: (7066, 13)\n"
     ]
    },
    {
     "name": "stderr",
     "output_type": "stream",
     "text": [
      " 13%|█▎        | 13/99 [02:36<19:52, 13.87s/it]"
     ]
    },
    {
     "name": "stdout",
     "output_type": "stream",
     "text": [
      "Component: 13 --  Eğitim Doğruluğu: 0.9982651538808508\n",
      "Component: 13 -- Test Doğruluğu: 0.4162185111803\n",
      "Eğitim seti özellikleri: (28821, 14)\n",
      "Test seti özellikleri: (7066, 14)\n"
     ]
    },
    {
     "name": "stderr",
     "output_type": "stream",
     "text": [
      " 14%|█▍        | 14/99 [02:51<20:23, 14.39s/it]"
     ]
    },
    {
     "name": "stdout",
     "output_type": "stream",
     "text": [
      "Component: 14 --  Eğitim Doğruluğu: 0.9982651538808508\n",
      "Component: 14 -- Test Doğruluğu: 0.42584206057175206\n",
      "Eğitim seti özellikleri: (28821, 15)\n",
      "Test seti özellikleri: (7066, 15)\n"
     ]
    },
    {
     "name": "stderr",
     "output_type": "stream",
     "text": [
      " 15%|█▌        | 15/99 [03:07<20:42, 14.79s/it]"
     ]
    },
    {
     "name": "stdout",
     "output_type": "stream",
     "text": [
      "Component: 15 --  Eğitim Doğruluğu: 0.9982651538808508\n",
      "Component: 15 -- Test Doğruluğu: 0.4319275403339938\n",
      "Eğitim seti özellikleri: (28821, 16)\n",
      "Test seti özellikleri: (7066, 16)\n"
     ]
    },
    {
     "name": "stderr",
     "output_type": "stream",
     "text": [
      " 16%|█▌        | 16/99 [03:24<21:14, 15.35s/it]"
     ]
    },
    {
     "name": "stdout",
     "output_type": "stream",
     "text": [
      "Component: 16 --  Eğitim Doğruluğu: 0.9982651538808508\n",
      "Component: 16 -- Test Doğruluğu: 0.4319275403339938\n",
      "Eğitim seti özellikleri: (28821, 17)\n",
      "Test seti özellikleri: (7066, 17)\n"
     ]
    },
    {
     "name": "stderr",
     "output_type": "stream",
     "text": [
      " 17%|█▋        | 17/99 [03:41<21:51, 16.00s/it]"
     ]
    },
    {
     "name": "stdout",
     "output_type": "stream",
     "text": [
      "Component: 17 --  Eğitim Doğruluğu: 0.9982651538808508\n",
      "Component: 17 -- Test Doğruluğu: 0.4416926125106142\n",
      "Eğitim seti özellikleri: (28821, 18)\n",
      "Test seti özellikleri: (7066, 18)\n"
     ]
    },
    {
     "name": "stderr",
     "output_type": "stream",
     "text": [
      " 18%|█▊        | 18/99 [03:59<22:20, 16.54s/it]"
     ]
    },
    {
     "name": "stdout",
     "output_type": "stream",
     "text": [
      "Component: 18 --  Eğitim Doğruluğu: 0.9982651538808508\n",
      "Component: 18 -- Test Doğruluğu: 0.4439569770733088\n",
      "Eğitim seti özellikleri: (28821, 19)\n",
      "Test seti özellikleri: (7066, 19)\n"
     ]
    },
    {
     "name": "stderr",
     "output_type": "stream",
     "text": [
      " 19%|█▉        | 19/99 [04:17<22:42, 17.03s/it]"
     ]
    },
    {
     "name": "stdout",
     "output_type": "stream",
     "text": [
      "Component: 19 --  Eğitim Doğruluğu: 0.9982651538808508\n",
      "Component: 19 -- Test Doğruluğu: 0.43730540617039343\n",
      "Eğitim seti özellikleri: (28821, 20)\n",
      "Test seti özellikleri: (7066, 20)\n"
     ]
    },
    {
     "name": "stderr",
     "output_type": "stream",
     "text": [
      " 20%|██        | 20/99 [04:35<22:41, 17.23s/it]"
     ]
    },
    {
     "name": "stdout",
     "output_type": "stream",
     "text": [
      "Component: 20 --  Eğitim Doğruluğu: 0.9982651538808508\n",
      "Component: 20 -- Test Doğruluğu: 0.437163883385225\n",
      "Eğitim seti özellikleri: (28821, 21)\n",
      "Test seti özellikleri: (7066, 21)\n"
     ]
    },
    {
     "name": "stderr",
     "output_type": "stream",
     "text": [
      " 20%|██        | 20/99 [04:52<19:14, 14.61s/it]"
     ]
    },
    {
     "name": "stdout",
     "output_type": "stream",
     "text": [
      "Component: 21 --  Eğitim Doğruluğu: 0.9982651538808508\n",
      "Component: 21 -- Test Doğruluğu: 0.4358901783187093\n",
      "Erken durdurma: Son 3 test doğruluğunda azalma trendi.\n"
     ]
    },
    {
     "name": "stderr",
     "output_type": "stream",
     "text": [
      "\n"
     ]
    }
   ],
   "source": [
    "component_accuracy = find_best_pca(X_train, y_train, X_test, y_test)"
   ]
  },
  {
   "cell_type": "code",
   "execution_count": 89,
   "metadata": {},
   "outputs": [
    {
     "data": {
      "image/png": "[encoded data removed]",
      "text/plain": [
       "<Figure size 1000x600 with 1 Axes>"
      ]
     },
     "metadata": {},
     "output_type": "display_data"
    },
    {
     "name": "stdout",
     "output_type": "stream",
     "text": [
      "Best accuracy component: {'component': 18, 'train_accuracy': 0.9982651538808508, 'test_accuracy': 0.4439569770733088}\n"
     ]
    }
   ],
   "source": [
    "plot_accuracy_by_components(component_accuracy)\n",
    "print(f\"Best accuracy component: {best_accuracy_component(component_accuracy)}\")"
   ]
  },
  {
   "cell_type": "code",
   "execution_count": 90,
   "metadata": {},
   "outputs": [],
   "source": [
    "import joblib\n",
    "\n",
    "def export_pca(pca, filename):\n",
    "    joblib.dump(pca, filename)\n",
    "    print(f\"PCA modeli '{filename}' olarak kaydedildi.\")\n",
    "def export_classifier(classifier, filename):\n",
    "    joblib.dump(classifier, filename)\n",
    "    print(f\"Model '{filename}' olarak kaydedildi.\")"
   ]
  },
  {
   "cell_type": "code",
   "execution_count": 92,
   "metadata": {},
   "outputs": [
    {
     "name": "stdout",
     "output_type": "stream",
     "text": [
      "PCA modeli 'pca_model18.pkl' olarak kaydedildi.\n",
      "Model 'classifier_model18.pkl' olarak kaydedildi.\n"
     ]
    }
   ],
   "source": [
    "component_count = best_accuracy_component(component_accuracy)['component']\n",
    "pca = PCA(n_components=component_count)\n",
    "X_train_pca = pca.fit_transform(X_train)\n",
    "X_test_pca = pca.transform(X_test)\n",
    "\n",
    "# Sınıflandırıcıyı eğit\n",
    "model = RandomForestClassifier(n_estimators=100, random_state=42)\n",
    "model.fit(X_train_pca, y_train)\n",
    "\n",
    "export_pca(pca, f'pca_model{component_count}.pkl')\n",
    "export_classifier(model, f'classifier_model{component_count}.pkl')\n"
   ]
  },
  {
   "cell_type": "code",
   "execution_count": null,
   "metadata": {},
   "outputs": [],
   "source": []
  }
 ],
 "metadata": {
  "kernelspec": {
   "display_name": "Python 3",
   "language": "python",
   "name": "python3"
  },
  "language_info": {
   "codemirror_mode": {
    "name": "ipython",
    "version": 3
   },
   "file_extension": ".py",
   "mimetype": "text/x-python",
   "name": "python",
   "nbconvert_exporter": "python",
   "pygments_lexer": "ipython3",
   "version": "3.11.6"
  }
 },
 "nbformat": 4,
 "nbformat_minor": 2
}

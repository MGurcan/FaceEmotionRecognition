{
 "cells": [
  {
   "cell_type": "code",
   "execution_count": 139,
   "metadata": {},
   "outputs": [],
   "source": [
    "#https://www.geeksforgeeks.org/ml-face-recognition-using-pca-implementation/\n",
    "# En iyi parametreler: {'iterated_power': 3, 'n_components': 20, 'random_state': 42, 'svd_solver': 'auto'} ile elde edilen en yüksek doğruluk: 0.4377299745258987"
   ]
  },
  {
   "cell_type": "code",
   "execution_count": 124,
   "metadata": {},
   "outputs": [],
   "source": [
    "import numpy as np\n",
    "from sklearn.model_selection import train_test_split\n",
    "from sklearn.metrics import accuracy_score, confusion_matrix, classification_report\n",
    "\n",
    "import matplotlib.pyplot as plt\n",
    "\n",
    "import os\n",
    "\n",
    "from tqdm import tqdm\n",
    "from sklearn.decomposition import PCA\n",
    "import cv2\n",
    "from sklearn.ensemble import RandomForestClassifier"
   ]
  },
  {
   "cell_type": "code",
   "execution_count": 125,
   "metadata": {},
   "outputs": [],
   "source": [
    "def load_images_from_folder_fer_2013(folder):\n",
    "    images = []\n",
    "    labels = []\n",
    "    for label_folder in os.listdir(folder):\n",
    "        label_folder_path = os.path.join(folder, label_folder)\n",
    "        if os.path.isdir(label_folder_path):\n",
    "            for image_file in os.listdir(label_folder_path):\n",
    "                image_path = os.path.join(label_folder_path, image_file)\n",
    "                img = cv2.imread(image_path)\n",
    "                img = cv2.cvtColor(img, cv2.COLOR_BGR2GRAY)\n",
    "                img = cv2.resize(img, (48, 48))\n",
    "                images.append(img.flatten())\n",
    "                labels.append(label_folder)\n",
    "    return np.array(images), np.array(labels)"
   ]
  },
  {
   "cell_type": "code",
   "execution_count": 126,
   "metadata": {},
   "outputs": [],
   "source": [
    "train_folder = '../../../../Data/fer2013/train'\n",
    "test_folder = '../../../../Data/fer2013/validation'\n",
    "X_train, y_train = load_images_from_folder_fer_2013(train_folder)\n",
    "X_test, y_test = load_images_from_folder_fer_2013(test_folder)"
   ]
  },
  {
   "cell_type": "code",
   "execution_count": 127,
   "metadata": {},
   "outputs": [],
   "source": [
    "import numpy as np\n",
    "\n",
    "def euclidean_distance(a, b):\n",
    "    return np.sqrt(np.sum((a - b) ** 2))\n"
   ]
  },
  {
   "cell_type": "code",
   "execution_count": 128,
   "metadata": {},
   "outputs": [],
   "source": [
    "def predict_with_euclidean_distance(X_train, y_train, X_test):\n",
    "    predictions = []\n",
    "    for test_sample in X_test:\n",
    "        # Test örneği ile tüm eğitim örnekleri arasındaki mesafeleri hesapla\n",
    "        distances = [euclidean_distance(test_sample, train_sample) for train_sample in X_train]\n",
    "        # En küçük mesafeye sahip eğitim örneğinin indeksini bul\n",
    "        min_index = np.argmin(distances)\n",
    "        # Bu eğitim örneğinin etiketini tahmin olarak kullan\n",
    "        predictions.append(y_train[min_index])\n",
    "    return predictions\n"
   ]
  },
  {
   "cell_type": "code",
   "execution_count": 131,
   "metadata": {},
   "outputs": [],
   "source": [
    "def pca_specific_component_euclidian_distance(X_train, y_train, X_test, y_test, n_components=15, pca=None):\n",
    "    X_train_pca = pca.fit_transform(X_train)\n",
    "    X_test_pca = pca.transform(X_test)\n",
    "    \n",
    "    # Eğitim seti üzerinde tahmin yap ve doğruluk oranını hesapla\n",
    "    y_pred_test = predict_with_euclidean_distance(X_train_pca, y_train, X_test_pca)\n",
    "    test_accuracy = accuracy_score(y_test, y_pred_test)\n",
    "    #print(f\"Component: {n_components} -- Test Doğruluğu: {test_accuracy}\")\n",
    "\n",
    "    component_accuracy = {'component':  n_components, 'test_accuracy': test_accuracy}\n",
    "    \n",
    "    return component_accuracy\n",
    "\n",
    "def pca_specific_component(X_train, y_train, X_test, y_test, n_components=15, pca=None):\n",
    "    # pca = PCA(n_components=n_components)\n",
    "    X_train_pca = pca.fit_transform(X_train)\n",
    "    X_test_pca = pca.transform(X_test)\n",
    "    \n",
    "    # Modeli tanımla ve eğit\n",
    "    model = RandomForestClassifier(n_estimators=100, random_state=42)\n",
    "    model.fit(X_train_pca, y_train)\n",
    "\n",
    "    # Eğitim seti üzerinde tahmin yap ve doğruluk oranını hesapla\n",
    "    y_pred_train = model.predict(X_train_pca)\n",
    "    train_accuracy = accuracy_score(y_train, y_pred_train)\n",
    "    #print(f\"Component: {n_components} --  Eğitim Doğruluğu: {train_accuracy}\")\n",
    "\n",
    "    # Test seti üzerinde tahmin yap ve doğruluk oranını hesapla\n",
    "    y_pred_test = model.predict(X_test_pca)\n",
    "    test_accuracy = accuracy_score(y_test, y_pred_test)\n",
    "    #print(f\"Component: {n_components} -- Test Doğruluğu: {test_accuracy}\")\n",
    "\n",
    "    component_accuracy = {'component':  n_components, 'train_accuracy': train_accuracy, 'test_accuracy': test_accuracy}\n",
    "    \n",
    "    return component_accuracy\n",
    "\n",
    "def find_best_pca(X_train, y_train, X_test, y_test):\n",
    "    component_accuracy = []\n",
    "\n",
    "    for n_components in tqdm(range(1, 100)):\n",
    "        pca = PCA(n_components=n_components)\n",
    "        X_train_pca = pca.fit_transform(X_train)\n",
    "        X_test_pca = pca.transform(X_test)\n",
    "        \n",
    "        # Modeli tanımla ve eğit\n",
    "        model = RandomForestClassifier(n_estimators=100, random_state=42)\n",
    "        model.fit(X_train_pca, y_train)\n",
    "\n",
    "        # Eğitim seti üzerinde tahmin yap ve doğruluk oranını hesapla\n",
    "        y_pred_train = model.predict(X_train_pca)\n",
    "        train_accuracy = accuracy_score(y_train, y_pred_train)\n",
    "        #print(f\"Component: {n_components} --  Eğitim Doğruluğu: {train_accuracy}\")\n",
    "\n",
    "        # Test seti üzerinde tahmin yap ve doğruluk oranını hesapla\n",
    "        y_pred_test = model.predict(X_test_pca)\n",
    "        test_accuracy = accuracy_score(y_test, y_pred_test)\n",
    "        #print(f\"Component: {n_components} -- Test Doğruluğu: {test_accuracy}\")\n",
    "\n",
    "        component_accuracy.append({'component':  n_components, 'train_accuracy': train_accuracy, 'test_accuracy': test_accuracy})\n",
    "\n",
    "        if len(component_accuracy) > 5:\n",
    "            # Early stopping, if 3 times decreases\n",
    "            if all(current['test_accuracy'] <= prev['test_accuracy'] for current, prev in zip(component_accuracy[-3:], component_accuracy[-4:-1])):\n",
    "                print(\"Erken durdurma: Son 3 test doğruluğunda azalma trendi.\")\n",
    "                break\n",
    "            threshold = 0.01\n",
    "            # Early stopping, if acc dif less than threshold:0.01 times decreases\n",
    "            recent_accuracies = [acc['test_accuracy'] for acc in component_accuracy[-5:]]\n",
    "            if max(recent_accuracies) - min(recent_accuracies) < threshold:\n",
    "                print(\"Erken durdurma: Son 5 test doğruluğundaki fark 0.01'den az.\")\n",
    "                break\n",
    "        \n",
    "    return component_accuracy\n",
    "\n",
    "def best_accuracy_component(component_accuracy):\n",
    "    best_accuracy = max(component_accuracy, key=lambda x:x['test_accuracy'])\n",
    "    return best_accuracy"
   ]
  },
  {
   "cell_type": "code",
   "execution_count": 137,
   "metadata": {},
   "outputs": [
    {
     "name": "stderr",
     "output_type": "stream",
     "text": [
      "  4%|▍         | 1/24 [00:15<05:57, 15.55s/it]"
     ]
    },
    {
     "name": "stdout",
     "output_type": "stream",
     "text": [
      "Params: {'iterated_power': 'auto', 'n_components': 15, 'random_state': 42, 'svd_solver': 'auto'} -- Accuracy: 0.43263515425983584\n"
     ]
    },
    {
     "name": "stderr",
     "output_type": "stream",
     "text": [
      "  8%|▊         | 2/24 [00:41<08:02, 21.92s/it]"
     ]
    },
    {
     "name": "stdout",
     "output_type": "stream",
     "text": [
      "Params: {'iterated_power': 'auto', 'n_components': 15, 'random_state': 42, 'svd_solver': 'full'} -- Accuracy: 0.4336258137560147\n"
     ]
    },
    {
     "name": "stderr",
     "output_type": "stream",
     "text": [
      " 12%|█▎        | 3/24 [01:01<07:16, 20.77s/it]"
     ]
    },
    {
     "name": "stdout",
     "output_type": "stream",
     "text": [
      "Params: {'iterated_power': 'auto', 'n_components': 15, 'random_state': 42, 'svd_solver': 'arpack'} -- Accuracy: 0.4336258137560147\n"
     ]
    },
    {
     "name": "stderr",
     "output_type": "stream",
     "text": [
      " 17%|█▋        | 4/24 [01:16<06:13, 18.68s/it]"
     ]
    },
    {
     "name": "stdout",
     "output_type": "stream",
     "text": [
      "Params: {'iterated_power': 'auto', 'n_components': 15, 'random_state': 42, 'svd_solver': 'randomized'} -- Accuracy: 0.43263515425983584\n"
     ]
    },
    {
     "name": "stderr",
     "output_type": "stream",
     "text": [
      " 21%|██        | 5/24 [01:34<05:50, 18.46s/it]"
     ]
    },
    {
     "name": "stdout",
     "output_type": "stream",
     "text": [
      "Params: {'iterated_power': 'auto', 'n_components': 20, 'random_state': 42, 'svd_solver': 'auto'} -- Accuracy: 0.4354656099632041\n"
     ]
    },
    {
     "name": "stderr",
     "output_type": "stream",
     "text": [
      " 25%|██▌       | 6/24 [02:03<06:35, 21.96s/it]"
     ]
    },
    {
     "name": "stdout",
     "output_type": "stream",
     "text": [
      "Params: {'iterated_power': 'auto', 'n_components': 20, 'random_state': 42, 'svd_solver': 'full'} -- Accuracy: 0.43631474667421455\n"
     ]
    },
    {
     "name": "stderr",
     "output_type": "stream",
     "text": [
      " 29%|██▉       | 7/24 [02:26<06:19, 22.35s/it]"
     ]
    },
    {
     "name": "stdout",
     "output_type": "stream",
     "text": [
      "Params: {'iterated_power': 'auto', 'n_components': 20, 'random_state': 42, 'svd_solver': 'arpack'} -- Accuracy: 0.43631474667421455\n"
     ]
    },
    {
     "name": "stderr",
     "output_type": "stream",
     "text": [
      " 33%|███▎      | 8/24 [02:45<05:37, 21.11s/it]"
     ]
    },
    {
     "name": "stdout",
     "output_type": "stream",
     "text": [
      "Params: {'iterated_power': 'auto', 'n_components': 20, 'random_state': 42, 'svd_solver': 'randomized'} -- Accuracy: 0.4354656099632041\n"
     ]
    },
    {
     "name": "stderr",
     "output_type": "stream",
     "text": [
      " 38%|███▊      | 9/24 [02:57<04:33, 18.22s/it]"
     ]
    },
    {
     "name": "stdout",
     "output_type": "stream",
     "text": [
      "Params: {'iterated_power': 3, 'n_components': 15, 'random_state': 42, 'svd_solver': 'auto'} -- Accuracy: 0.43164449476365696\n"
     ]
    },
    {
     "name": "stderr",
     "output_type": "stream",
     "text": [
      " 42%|████▏     | 10/24 [03:23<04:49, 20.66s/it]"
     ]
    },
    {
     "name": "stdout",
     "output_type": "stream",
     "text": [
      "Params: {'iterated_power': 3, 'n_components': 15, 'random_state': 42, 'svd_solver': 'full'} -- Accuracy: 0.4336258137560147\n"
     ]
    },
    {
     "name": "stderr",
     "output_type": "stream",
     "text": [
      " 46%|████▌     | 11/24 [03:42<04:21, 20.09s/it]"
     ]
    },
    {
     "name": "stdout",
     "output_type": "stream",
     "text": [
      "Params: {'iterated_power': 3, 'n_components': 15, 'random_state': 42, 'svd_solver': 'arpack'} -- Accuracy: 0.4336258137560147\n"
     ]
    },
    {
     "name": "stderr",
     "output_type": "stream",
     "text": [
      " 50%|█████     | 12/24 [03:53<03:29, 17.46s/it]"
     ]
    },
    {
     "name": "stdout",
     "output_type": "stream",
     "text": [
      "Params: {'iterated_power': 3, 'n_components': 15, 'random_state': 42, 'svd_solver': 'randomized'} -- Accuracy: 0.43164449476365696\n"
     ]
    },
    {
     "name": "stderr",
     "output_type": "stream",
     "text": [
      " 54%|█████▍    | 13/24 [04:07<03:01, 16.52s/it]"
     ]
    },
    {
     "name": "stdout",
     "output_type": "stream",
     "text": [
      "Params: {'iterated_power': 3, 'n_components': 20, 'random_state': 42, 'svd_solver': 'auto'} -- Accuracy: 0.4377299745258987\n"
     ]
    },
    {
     "name": "stderr",
     "output_type": "stream",
     "text": [
      " 58%|█████▊    | 14/24 [04:33<03:14, 19.40s/it]"
     ]
    },
    {
     "name": "stdout",
     "output_type": "stream",
     "text": [
      "Params: {'iterated_power': 3, 'n_components': 20, 'random_state': 42, 'svd_solver': 'full'} -- Accuracy: 0.43631474667421455\n"
     ]
    },
    {
     "name": "stderr",
     "output_type": "stream",
     "text": [
      " 62%|██████▎   | 15/24 [04:59<03:11, 21.26s/it]"
     ]
    },
    {
     "name": "stdout",
     "output_type": "stream",
     "text": [
      "Params: {'iterated_power': 3, 'n_components': 20, 'random_state': 42, 'svd_solver': 'arpack'} -- Accuracy: 0.43631474667421455\n"
     ]
    },
    {
     "name": "stderr",
     "output_type": "stream",
     "text": [
      " 67%|██████▋   | 16/24 [05:13<02:33, 19.13s/it]"
     ]
    },
    {
     "name": "stdout",
     "output_type": "stream",
     "text": [
      "Params: {'iterated_power': 3, 'n_components': 20, 'random_state': 42, 'svd_solver': 'randomized'} -- Accuracy: 0.4377299745258987\n"
     ]
    },
    {
     "name": "stderr",
     "output_type": "stream",
     "text": [
      " 71%|███████   | 17/24 [05:30<02:08, 18.30s/it]"
     ]
    },
    {
     "name": "stdout",
     "output_type": "stream",
     "text": [
      "Params: {'iterated_power': 7, 'n_components': 15, 'random_state': 42, 'svd_solver': 'auto'} -- Accuracy: 0.43263515425983584\n"
     ]
    },
    {
     "name": "stderr",
     "output_type": "stream",
     "text": [
      " 75%|███████▌  | 18/24 [05:57<02:07, 21.20s/it]"
     ]
    },
    {
     "name": "stdout",
     "output_type": "stream",
     "text": [
      "Params: {'iterated_power': 7, 'n_components': 15, 'random_state': 42, 'svd_solver': 'full'} -- Accuracy: 0.4336258137560147\n"
     ]
    },
    {
     "name": "stderr",
     "output_type": "stream",
     "text": [
      " 79%|███████▉  | 19/24 [06:16<01:42, 20.54s/it]"
     ]
    },
    {
     "name": "stdout",
     "output_type": "stream",
     "text": [
      "Params: {'iterated_power': 7, 'n_components': 15, 'random_state': 42, 'svd_solver': 'arpack'} -- Accuracy: 0.4336258137560147\n"
     ]
    },
    {
     "name": "stderr",
     "output_type": "stream",
     "text": [
      " 83%|████████▎ | 20/24 [06:33<01:17, 19.31s/it]"
     ]
    },
    {
     "name": "stdout",
     "output_type": "stream",
     "text": [
      "Params: {'iterated_power': 7, 'n_components': 15, 'random_state': 42, 'svd_solver': 'randomized'} -- Accuracy: 0.43263515425983584\n"
     ]
    },
    {
     "name": "stderr",
     "output_type": "stream",
     "text": [
      " 88%|████████▊ | 21/24 [06:51<00:56, 18.83s/it]"
     ]
    },
    {
     "name": "stdout",
     "output_type": "stream",
     "text": [
      "Params: {'iterated_power': 7, 'n_components': 20, 'random_state': 42, 'svd_solver': 'auto'} -- Accuracy: 0.4354656099632041\n"
     ]
    },
    {
     "name": "stderr",
     "output_type": "stream",
     "text": [
      " 92%|█████████▏| 22/24 [07:20<00:43, 21.92s/it]"
     ]
    },
    {
     "name": "stdout",
     "output_type": "stream",
     "text": [
      "Params: {'iterated_power': 7, 'n_components': 20, 'random_state': 42, 'svd_solver': 'full'} -- Accuracy: 0.43631474667421455\n"
     ]
    },
    {
     "name": "stderr",
     "output_type": "stream",
     "text": [
      " 96%|█████████▌| 23/24 [07:43<00:22, 22.41s/it]"
     ]
    },
    {
     "name": "stdout",
     "output_type": "stream",
     "text": [
      "Params: {'iterated_power': 7, 'n_components': 20, 'random_state': 42, 'svd_solver': 'arpack'} -- Accuracy: 0.43631474667421455\n"
     ]
    },
    {
     "name": "stderr",
     "output_type": "stream",
     "text": [
      "100%|██████████| 24/24 [08:01<00:00, 20.07s/it]"
     ]
    },
    {
     "name": "stdout",
     "output_type": "stream",
     "text": [
      "Params: {'iterated_power': 7, 'n_components': 20, 'random_state': 42, 'svd_solver': 'randomized'} -- Accuracy: 0.4354656099632041\n",
      "En iyi parametreler: {'iterated_power': 3, 'n_components': 20, 'random_state': 42, 'svd_solver': 'auto'} ile elde edilen en yüksek doğruluk: 0.4377299745258987\n"
     ]
    },
    {
     "name": "stderr",
     "output_type": "stream",
     "text": [
      "\n"
     ]
    }
   ],
   "source": [
    "from sklearn.model_selection import ParameterGrid\n",
    "\n",
    "def pca_with_parameters(X_train, y_train, X_test, y_test, params):\n",
    "    # Parametre kombinasyonları için bir ızgara oluştur\n",
    "    param_grid = ParameterGrid(params)\n",
    "    \n",
    "    best_accuracy = 0\n",
    "    best_params = None\n",
    "    \n",
    "    for param in tqdm(list(param_grid)):\n",
    "        pca = PCA(n_components=param['n_components'],\n",
    "                  svd_solver=param['svd_solver'],\n",
    "                  iterated_power=param['iterated_power'],\n",
    "                  random_state=param['random_state'])\n",
    "        X_train_pca = pca.fit_transform(X_train)\n",
    "        X_test_pca = pca.transform(X_test)\n",
    "\n",
    "        model = RandomForestClassifier(n_estimators=100, random_state=42)\n",
    "        model.fit(X_train_pca, y_train)\n",
    "        \n",
    "        y_pred = model.predict(X_test_pca)\n",
    "        accuracy = accuracy_score(y_test, y_pred)\n",
    "        \n",
    "        if accuracy > best_accuracy:\n",
    "            best_accuracy = accuracy\n",
    "            best_params = param\n",
    "            \n",
    "        print(f\"Params: {param} -- Accuracy: {accuracy}\")\n",
    "\n",
    "    print(f\"En iyi parametreler: {best_params} ile elde edilen en yüksek doğruluk: {best_accuracy}\")\n",
    "    return best_params, best_accuracy\n",
    "\n",
    "# PCA parametrelerinin farklı kombinasyonlarını deneme\n",
    "params = {\n",
    "    'n_components': [15, 20],\n",
    "    'svd_solver': ['auto', 'full', 'arpack', 'randomized'],\n",
    "    'iterated_power': ['auto', 3, 7],\n",
    "    'random_state': [42]\n",
    "}\n",
    "\n",
    "# Fonksiyonu çağırma\n",
    "best_params, best_accuracy = pca_with_parameters(X_train, y_train, X_test, y_test, params)\n"
   ]
  },
  {
   "cell_type": "code",
   "execution_count": 141,
   "metadata": {},
   "outputs": [
    {
     "name": "stderr",
     "output_type": "stream",
     "text": [
      "  8%|▊         | 1/12 [13:08<2:24:35, 788.70s/it]"
     ]
    },
    {
     "name": "stdout",
     "output_type": "stream",
     "text": [
      "Params: {'coef0': 0, 'degree': 3, 'gamma': 0.1, 'kernel': 'rbf', 'n_components': 20, 'random_state': 42} -- Accuracy: 0.2676195867534673\n"
     ]
    }
   ],
   "source": [
    "from sklearn.decomposition import KernelPCA\n",
    "from sklearn.ensemble import RandomForestClassifier\n",
    "from sklearn.metrics import accuracy_score\n",
    "from sklearn.model_selection import ParameterGrid\n",
    "from tqdm import tqdm\n",
    "\n",
    "def kernel_pca_with_parameters(X_train, y_train, X_test, y_test, params):\n",
    "    # Parametre kombinasyonları için bir ızgara oluştur\n",
    "    param_grid = ParameterGrid(params)\n",
    "    \n",
    "    best_accuracy = 0\n",
    "    best_params = None\n",
    "    \n",
    "    for param in tqdm(list(param_grid)):\n",
    "        kpca = KernelPCA(kernel=param['kernel'],\n",
    "                         n_components=param['n_components'],\n",
    "                         gamma=param['gamma'],\n",
    "                         degree=param['degree'],\n",
    "                         coef0=param['coef0'],\n",
    "                         random_state=param['random_state'])\n",
    "        \n",
    "        # Eğitim seti üzerinde Kernel PCA uygula\n",
    "        X_train_kpca = kpca.fit_transform(X_train)\n",
    "        # Test seti üzerinde Kernel PCA uygula\n",
    "        X_test_kpca = kpca.transform(X_test)\n",
    "\n",
    "        # Sınıflandırıcı modelini oluştur ve eğit\n",
    "        model = RandomForestClassifier(n_estimators=100, random_state=42)\n",
    "        model.fit(X_train_kpca, y_train)\n",
    "        \n",
    "        # Test seti üzerinde tahmin yap ve doğruluk oranını hesapla\n",
    "        y_pred = model.predict(X_test_kpca)\n",
    "        accuracy = accuracy_score(y_test, y_pred)\n",
    "        \n",
    "        if accuracy > best_accuracy:\n",
    "            best_accuracy = accuracy\n",
    "            best_params = param\n",
    "        \n",
    "        print(f\"Params: {param} -- Accuracy: {accuracy}\")\n",
    "\n",
    "    print(f\"En iyi parametreler: {best_params} ile elde edilen en yüksek doğruluk: {best_accuracy}\")\n",
    "    return best_params, best_accuracy\n",
    "\n",
    "# Kernel PCA parametrelerinin farklı kombinasyonlarını deneme\n",
    "params = {\n",
    "    'n_components': [20],  # Bileşen sayısı\n",
    "    'kernel': ['rbf', 'poly', 'sigmoid'],  # Kullanılacak çekirdek fonksiyonu\n",
    "    'gamma': [0.1],  # Kernel katsayısı (rbf, poly ve sigmoid için)\n",
    "    'degree': [3, 5],  # 'poly' kerneli için derece\n",
    "    'coef0': [0, 1],  # 'poly' ve 'sigmoid' kerneli için bağımsız terim\n",
    "    'random_state': [42]  # Rastgelelik durumu\n",
    "}\n",
    "\n",
    "best_params, best_accuracy = kernel_pca_with_parameters(X_train, y_train, X_test, y_test, params)\n"
   ]
  },
  {
   "cell_type": "code",
   "execution_count": null,
   "metadata": {},
   "outputs": [],
   "source": [
    "def plot_accuracy_by_components(results):\n",
    "    # Component değerlerini ve karşılık gelen accuracy değerlerini çıkar\n",
    "    components = [result['component'] for result in results]\n",
    "    train_accuracies = [result['train_accuracy'] for result in results]\n",
    "    test_accuracies = [result['test_accuracy'] for result in results]\n",
    "\n",
    "    # Çizgi grafikleri çiz\n",
    "    plt.figure(figsize=(10, 6))\n",
    "    plt.plot(components, train_accuracies, label='Eğitim Doğruluğu', marker='o')\n",
    "    plt.plot(components, test_accuracies, label='Test Doğruluğu', marker='x')\n",
    "\n",
    "\n",
    "    plt.xticks(np.arange(components[0], components[-1]+1, 3))\n",
    "    plt.title('PCA Bileşen Sayısına Göre Eğitim ve Test Doğruluğu')\n",
    "    plt.xlabel('PCA Bileşen Sayısı')\n",
    "    plt.ylabel('Doğruluk Oranı')\n",
    "    plt.legend()\n",
    "\n",
    "    # Göster\n",
    "    plt.grid(True)\n",
    "    plt.show()"
   ]
  },
  {
   "cell_type": "code",
   "execution_count": null,
   "metadata": {},
   "outputs": [],
   "source": [
    "train_folder = '../../../../Data/fer2013/train'\n",
    "test_folder = '../../../../Data/fer2013/validation'\n",
    "X_train, y_train = load_images_from_folder_fer_2013(train_folder)\n",
    "X_test, y_test = load_images_from_folder_fer_2013(test_folder)"
   ]
  },
  {
   "cell_type": "code",
   "execution_count": null,
   "metadata": {},
   "outputs": [],
   "source": [
    "component_accuracy = find_best_pca(X_train, y_train, X_test, y_test)"
   ]
  },
  {
   "cell_type": "code",
   "execution_count": null,
   "metadata": {},
   "outputs": [],
   "source": [
    "plot_accuracy_by_components(component_accuracy)\n",
    "print(f\"Best accuracy component: {best_accuracy_component(component_accuracy)}\")"
   ]
  },
  {
   "cell_type": "code",
   "execution_count": null,
   "metadata": {},
   "outputs": [],
   "source": [
    "import joblib\n",
    "\n",
    "def export_pca(pca, filename):\n",
    "    joblib.dump(pca, filename)\n",
    "    print(f\"PCA modeli '{filename}' olarak kaydedildi.\")\n",
    "def export_classifier(classifier, filename):\n",
    "    joblib.dump(classifier, filename)\n",
    "    print(f\"Model '{filename}' olarak kaydedildi.\")"
   ]
  },
  {
   "cell_type": "code",
   "execution_count": null,
   "metadata": {},
   "outputs": [],
   "source": [
    "component_count = best_accuracy_component(component_accuracy)['component']\n",
    "pca = PCA(n_components=component_count)\n",
    "X_train_pca = pca.fit_transform(X_train)\n",
    "X_test_pca = pca.transform(X_test)\n",
    "\n",
    "# Sınıflandırıcıyı eğit\n",
    "model = RandomForestClassifier(n_estimators=100, random_state=42)\n",
    "model.fit(X_train_pca, y_train)\n",
    "\n",
    "export_pca(pca, f'pca_model{component_count}.pkl')\n",
    "export_classifier(model, f'classifier_model{component_count}.pkl')\n"
   ]
  }
 ],
 "metadata": {
  "language_info": {
   "name": "python"
  }
 },
 "nbformat": 4,
 "nbformat_minor": 2
}

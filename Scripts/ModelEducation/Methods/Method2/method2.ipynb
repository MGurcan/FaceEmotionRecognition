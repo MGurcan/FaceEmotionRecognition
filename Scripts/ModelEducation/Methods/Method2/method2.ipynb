{
 "cells": [
  {
   "cell_type": "markdown",
   "metadata": {},
   "source": [
    "## Loading Libraries"
   ]
  },
  {
   "cell_type": "code",
   "execution_count": 1,
   "metadata": {},
   "outputs": [],
   "source": [
    "from skimage.filters import gabor\n",
    "import numpy as np\n",
    "from sklearn.model_selection import train_test_split"
   ]
  },
  {
   "cell_type": "code",
   "execution_count": 2,
   "metadata": {},
   "outputs": [],
   "source": [
    "from utils.DatasetHelper import *\n",
    "from utils.ModelHelper import *\n",
    "from utils.PlotHelper import *"
   ]
  },
  {
   "cell_type": "markdown",
   "metadata": {},
   "source": [
    "## Dataset Paths"
   ]
  },
  {
   "cell_type": "code",
   "execution_count": 3,
   "metadata": {},
   "outputs": [],
   "source": [
    "def prepare_X_y_histogran_equalized():\n",
    "    train_folder = '../../../../Data/fer2013/train'\n",
    "    test_folder = '../../../../Data/fer2013/validation'\n",
    "    images_train, labels_train = load_images_from_folder_fer_2013_histogram_equilazed(train_folder)\n",
    "    images_test, labels_test = load_images_from_folder_fer_2013_histogram_equilazed(test_folder)\n",
    "    X = np.concatenate((images_train, images_test), axis=0)\n",
    "    y = np.concatenate((labels_train, labels_test), axis=0)\n",
    "    return X, y\n",
    "\n",
    "def prepare_X_y_edge_boosted():\n",
    "    train_folder = '../../../../Data/fer2013/train'\n",
    "    test_folder = '../../../../Data/fer2013/validation'\n",
    "    images_train, labels_train = load_images_from_folder_fer_2013_edge_boosted(train_folder)\n",
    "    images_test, labels_test = load_images_from_folder_fer_2013_edge_boosted(test_folder)\n",
    "    X = np.concatenate((images_train, images_test), axis=0)\n",
    "    y = np.concatenate((labels_train, labels_test), axis=0)\n",
    "    return X, y\n",
    "\n",
    "def prepare_X_y_edge_boosted_histogram_equalized():\n",
    "    train_folder = '../../../../Data/fer2013/train'\n",
    "    test_folder = '../../../../Data/fer2013/validation'\n",
    "    images_train, labels_train = load_images_from_folder_fer_2013_edge_boosted_histogram_equilazed(train_folder)\n",
    "    images_test, labels_test = load_images_from_folder_fer_2013_edge_boosted_histogram_equilazed(test_folder)\n",
    "    X = np.concatenate((images_train, images_test), axis=0)\n",
    "    y = np.concatenate((labels_train, labels_test), axis=0)\n",
    "    return X, y\n",
    "\n",
    "def prepare_X_y_blurred():\n",
    "    train_folder = '../../../../Data/merged/train'\n",
    "    test_folder = '../../../../Data/merged/validation'\n",
    "    images_train, labels_train = load_images_from_folder_fer_2013_blurred(train_folder)\n",
    "    images_test, labels_test = load_images_from_folder_fer_2013_blurred(test_folder)\n",
    "    X = np.concatenate((images_train, images_test), axis=0)\n",
    "    y = np.concatenate((labels_train, labels_test), axis=0)\n",
    "    return X, y\n",
    "\n",
    "def prepare_X_y(max_images_per_class=None):\n",
    "    train_folder = '../../../../Data/merged/train'\n",
    "    test_folder = '../../../../Data/merged/validation'\n",
    "    images_train, labels_train = load_images_from_folder_fer_2013(train_folder, max_images_per_class)\n",
    "    images_test, labels_test = load_images_from_folder_fer_2013(test_folder, max_images_per_class)\n",
    "    X = np.concatenate((images_train, images_test), axis=0)\n",
    "    y = np.concatenate((labels_train, labels_test), axis=0)\n",
    "    return X, y\n",
    "\n",
    "def prepare_X_y_Expw(max_images_per_class=None):\n",
    "    train_folder = '../../../../Data/Expw-F-Preprocessed_100x100'\n",
    "    # test_folder = '../../../../Data/Expw/validation'\n",
    "    X, y = load_images_from_folder_expW(train_folder, max_images_per_class = max_images_per_class)\n",
    "    # images_test, labels_test = load_images_from_folder_expw(test_folder, max_images_per_class)\n",
    "    return X, y"
   ]
  },
  {
   "cell_type": "code",
   "execution_count": 12,
   "metadata": {},
   "outputs": [
    {
     "name": "stdout",
     "output_type": "stream",
     "text": [
      "label_folder_path:  ../../../../Data/Expw-F-Preprocessed_100x100/happy\n",
      "Reached maximum number of images for class happy. Skipping the rest.\n",
      "label_folder_path:  ../../../../Data/Expw-F-Preprocessed_100x100/sad\n",
      "Reached maximum number of images for class sad. Skipping the rest.\n",
      "label_folder_path:  ../../../../Data/Expw-F-Preprocessed_100x100/fear\n",
      "label_folder_path:  ../../../../Data/Expw-F-Preprocessed_100x100/surprise\n",
      "Reached maximum number of images for class surprise. Skipping the rest.\n",
      "label_folder_path:  ../../../../Data/Expw-F-Preprocessed_100x100/neutral\n",
      "Reached maximum number of images for class neutral. Skipping the rest.\n",
      "label_folder_path:  ../../../../Data/Expw-F-Preprocessed_100x100/angry\n",
      "label_folder_path:  ../../../../Data/Expw-F-Preprocessed_100x100/disgust\n"
     ]
    }
   ],
   "source": [
    "# X_h_e,y_h_e = prepare_X_y_histogran_equalized()\n",
    "# X_e_b,y_e_b = prepare_X_y_edge_boosted()\n",
    "# X_e_b_h_e,y_e_b_h_e = prepare_X_y_edge_boosted_histogram_equalized()\n",
    "# X,y = prepare_X_y()\n",
    "# X_blurred, y_blurred = prepare_X_y_blurred()\n",
    "\n",
    "X, y = prepare_X_y_Expw(max_images_per_class=7000)\n"
   ]
  },
  {
   "cell_type": "code",
   "execution_count": null,
   "metadata": {},
   "outputs": [],
   "source": [
    "for i in range(9):\n",
    "    # define subplot\n",
    "    plt.subplot(330 + 1 + i)\n",
    "    # plot raw pixel data\n",
    "    plt.suptitle('normal images')\n",
    "    plt.imshow(X[i].reshape(100, 100), cmap=plt.get_cmap('gray'))"
   ]
  },
  {
   "cell_type": "code",
   "execution_count": null,
   "metadata": {},
   "outputs": [],
   "source": [
    "for i in range(9):\n",
    "    # define subplot\n",
    "    plt.subplot(330 + 1 + i)\n",
    "    # plot raw pixel data\n",
    "    plt.suptitle('histogram equalized images')\n",
    "    plt.imshow(X_h_e[i].reshape(48, 48), cmap=plt.get_cmap('gray'))\n"
   ]
  },
  {
   "cell_type": "code",
   "execution_count": null,
   "metadata": {},
   "outputs": [],
   "source": [
    "for i in range(9):\n",
    "    # define subplot\n",
    "    plt.subplot(330 + 1 + i)\n",
    "    # plot raw pixel data\n",
    "    plt.suptitle('edge boosted images')\n",
    "    plt.imshow(X_e_b[i].reshape(48, 48), cmap=plt.get_cmap('gray'))\n"
   ]
  },
  {
   "cell_type": "code",
   "execution_count": null,
   "metadata": {},
   "outputs": [],
   "source": [
    "for i in range(9):\n",
    "    # define subplot\n",
    "    plt.subplot(330 + 1 + i)\n",
    "    # plot raw pixel data\n",
    "    plt.suptitle('histogram equalized & edge boosted images')\n",
    "    plt.imshow(X_e_b_h_e[i].reshape(48, 48), cmap=plt.get_cmap('gray'))\n"
   ]
  },
  {
   "cell_type": "markdown",
   "metadata": {},
   "source": []
  },
  {
   "cell_type": "markdown",
   "metadata": {},
   "source": [
    "## HOG"
   ]
  },
  {
   "cell_type": "code",
   "execution_count": 13,
   "metadata": {},
   "outputs": [],
   "source": [
    "X_train, X_test, y_train, y_test = train_test_split(X, y, test_size=0.2, random_state=42)"
   ]
  },
  {
   "cell_type": "code",
   "execution_count": 19,
   "metadata": {},
   "outputs": [
    {
     "name": "stdout",
     "output_type": "stream",
     "text": [
      "Test seti üzerindeki doğruluk: 0.28\n"
     ]
    }
   ],
   "source": [
    "X_train_hogged, X_test_hogged = apply_hog_and_pca(X_train, X_test, y_train, y_test, shape=100)\n",
    "\n",
    "knn_preds = classify_with_knn(X_train_hogged, X_test_hogged, y_train, y_test, n_neighbors=30)"
   ]
  },
  {
   "cell_type": "code",
   "execution_count": 15,
   "metadata": {},
   "outputs": [
    {
     "data": {
      "image/png": "[encoded data removed]",
      "text/plain": [
       "<Figure size 1000x700 with 1 Axes>"
      ]
     },
     "metadata": {},
     "output_type": "display_data"
    },
    {
     "name": "stdout",
     "output_type": "stream",
     "text": [
      "f1 score:  0.25883749286041724\n"
     ]
    }
   ],
   "source": [
    "from sklearn.metrics import f1_score\n",
    "\n",
    "\n",
    "plot_label_accuracies(y_test, knn_preds, 'Knn-30 hog-pca')\n",
    "\n",
    "#f1 score\n",
    "f1 = f1_score(y_test, knn_preds, average='weighted')\n",
    "print('f1 score: ', f1)"
   ]
  },
  {
   "cell_type": "code",
   "execution_count": 25,
   "metadata": {},
   "outputs": [],
   "source": [
    "from sklearn.ensemble import RandomForestClassifier\n",
    "\n",
    "def classify_with_randomforest(X_train, X_test, y_train, y_test):\n",
    "    model = RandomForestClassifier(n_estimators=100, random_state=42)\n",
    "    X_train = np.array(X_train)\n",
    "    y_train = np.array(y_train)\n",
    "    model.fit(X_train, y_train)\n",
    "\n",
    "    y_pred = model.predict(X_test)\n",
    "    return y_pred\n",
    "xg_preds = classify_with_randomforest(X_train_hogged, X_test_hogged, y_train, y_test)"
   ]
  },
  {
   "cell_type": "code",
   "execution_count": 26,
   "metadata": {},
   "outputs": [
    {
     "data": {
      "image/png": "[encoded data removed]",
      "text/plain": [
       "<Figure size 1000x700 with 1 Axes>"
      ]
     },
     "metadata": {},
     "output_type": "display_data"
    }
   ],
   "source": [
    "plot_label_accuracies(y_test, xg_preds, 'RandomForest hog-pca')"
   ]
  },
  {
   "cell_type": "code",
   "execution_count": null,
   "metadata": {},
   "outputs": [],
   "source": [
    "X_train_hogged, X_test_hogged = apply_hog_and_pca(X_train, X_test, y_train, y_test)\n",
    "\n",
    "knn_preds_30 = classify_with_knn(X_train_hogged, X_test_hogged, y_train, y_test, n_neighbors=30)"
   ]
  },
  {
   "cell_type": "code",
   "execution_count": null,
   "metadata": {},
   "outputs": [],
   "source": [
    "plot_label_accuracies(y_test, knn_preds_30, 'SVM hog-pca')"
   ]
  },
  {
   "cell_type": "code",
   "execution_count": null,
   "metadata": {},
   "outputs": [],
   "source": [
    "X_train_hogged, X_test_hogged = apply_hog_and_pca(X_train, X_test, y_train, y_test)\n",
    "\n",
    "k_s = [3, 5, 10, 15, 20, 30, 50]\n",
    "knn_pred_list = []\n",
    "for k in k_s:\n",
    "    knn_preds = classify_with_knn(X_train_hogged, X_test_hogged, y_train, y_test, n_neighbors=k)\n",
    "    knn_pred_list.append({'k': k, 'knn_preds': knn_preds})\n",
    "    plot_label_accuracies(y_test, knn_preds, 'KNN hog-pca k={}'.format(k))"
   ]
  },
  {
   "cell_type": "markdown",
   "metadata": {},
   "source": [
    "----"
   ]
  },
  {
   "cell_type": "code",
   "execution_count": null,
   "metadata": {},
   "outputs": [],
   "source": [
    "X_gabor_lda_e_b = apply_gabor_and_pca(X_e_b,y_e_b)\n",
    "\n",
    "X_train, X_test, y_train, y_test = train_test_split(X_gabor_lda_e_b, y_e_b, test_size=0.2, random_state=42)\n",
    "\n",
    "y_pred_euclidian = predict_with_euclidean_distance(X_train, y_train, X_test)"
   ]
  },
  {
   "cell_type": "code",
   "execution_count": null,
   "metadata": {},
   "outputs": [],
   "source": [
    "plot_label_accuracies(y_test, y_pred_euclidian, \"Euclidian edge_boosted & gabor & pca\")"
   ]
  },
  {
   "cell_type": "markdown",
   "metadata": {},
   "source": [
    "## Try This Too"
   ]
  },
  {
   "cell_type": "markdown",
   "metadata": {},
   "source": [
    "------"
   ]
  },
  {
   "cell_type": "code",
   "execution_count": null,
   "metadata": {},
   "outputs": [],
   "source": [
    "import numpy as np\n",
    "from skimage import io\n",
    "from sklearn.feature_extraction import image\n",
    "\n",
    "def extract_patches(img, patch_size, max_patches=None):\n",
    "    \"\"\"\n",
    "    img: tek bir yüz görüntüsü, 48x48 piksel\n",
    "    patch_size: çıkarılacak patch'in boyutu, örneğin (24, 24)\n",
    "    max_patches: çıkarılacak maksimum patch sayısı, örneğin 100\n",
    "    \"\"\"\n",
    "    patches = image.extract_patches_2d(img, patch_size, max_patches=max_patches)\n",
    "    return patches\n",
    "\n",
    "def process_image_set(X, patch_size=(24, 24), max_patches=100):\n",
    "    \"\"\"\n",
    "    X: FER2013 görüntü seti, her bir görüntü 48x48 piksel\n",
    "    patch_size: çıkarılacak patch'in boyutu\n",
    "    max_patches: her görüntü için çıkarılacak maksimum patch sayısı\n",
    "    \"\"\"\n",
    "    # Tüm görüntüler için patch'leri çıkar\n",
    "    all_patches = [extract_patches(img.reshape(48, 48), patch_size, max_patches) for img in X]\n",
    "    return np.array(all_patches)\n",
    "\n",
    "# Örnek kullanım:\n",
    "# X burada FER2013 veri setinden yüklenen görüntüleri temsil ediyor.\n",
    "# X'i numpy array olarak yüklediğinizi varsayıyorum.\n",
    "# Örnek bir görüntü seti için patch çıkarma işlemi\n",
    "patches = process_image_set(X_train, patch_size=(24, 24), max_patches=100)\n",
    "\n",
    "# Sonraki adımlar: Bu patch'leri kullanarak özellik çıkarma, eğitim ve sınıflandırma yapabilirsiniz.\n"
   ]
  },
  {
   "cell_type": "code",
   "execution_count": null,
   "metadata": {},
   "outputs": [],
   "source": [
    "from sklearn.decomposition import PCA\n",
    "from sklearn.feature_extraction.image import extract_patches_2d\n",
    "from sklearn.cluster import KMeans\n",
    "from skimage.filters import gabor\n",
    "import numpy as np\n",
    "\n",
    "def extract_gabor_features(image, patch_size=(24, 24), max_patches=50):\n",
    "    # Gabor özniteliklerini çıkarmak için bir fonksiyon\n",
    "    patches = extract_patches_2d(image, patch_size, max_patches=max_patches)\n",
    "    features = []\n",
    "    for patch in patches:\n",
    "        filt_real, filt_imag = gabor(patch, frequency=0.6)\n",
    "        features.append(np.abs(filt_real).flatten())\n",
    "    return np.array(features)\n",
    "\n",
    "def find_important_patches(X, y, num_clusters=10):\n",
    "    # Her bir duygu için en önemli patch'leri bulmak için bir fonksiyon\n",
    "    unique_emotions = np.unique(y)\n",
    "    important_patches = {emotion: [] for emotion in unique_emotions}\n",
    "    \n",
    "    for emotion in unique_emotions:\n",
    "        # O duygu için tüm görüntüleri al\n",
    "        emotion_images = X[y == emotion]\n",
    "        \n",
    "        # Tüm görüntülerden patch'leri çıkar ve öznitelikleri hesapla\n",
    "        all_features = []\n",
    "        for img in emotion_images:\n",
    "            img = img.reshape(48, 48)  # Eğer gerekirse, img'i yeniden şekillendir\n",
    "            features = extract_gabor_features(img)\n",
    "            all_features.append(features)\n",
    "        \n",
    "        # Tüm öznitelikleri birleştir\n",
    "        all_features = np.vstack(all_features)\n",
    "        \n",
    "        # PCA ile boyut indirgeme\n",
    "        pca = PCA(n_components=0.95)  # Varyansın %95'ini koru\n",
    "        reduced_features = pca.fit_transform(all_features)\n",
    "        \n",
    "        # KMeans ile kümeleme\n",
    "        kmeans = KMeans(n_clusters=num_clusters)\n",
    "        kmeans.fit(reduced_features)\n",
    "        \n",
    "        # En önemli patch'leri bul\n",
    "        centers = kmeans.cluster_centers_\n",
    "        for center in centers:\n",
    "            distances = np.linalg.norm(reduced_features - center, axis=1)\n",
    "            important_patch_idx = np.argmin(distances)\n",
    "            important_patches[emotion].append(all_features[important_patch_idx])\n",
    "            \n",
    "    return important_patches\n",
    "\n",
    "# Veri seti yükleme ve ön işleme\n",
    "# X, y = load_dataset(...) # Veri setinizi yükleyin ve X, y şeklinde ayırın\n",
    "\n",
    "# Önemli\n",
    "\n",
    "important_patches = find_important_patches(X_train, y_train)"
   ]
  },
  {
   "cell_type": "code",
   "execution_count": null,
   "metadata": {},
   "outputs": [],
   "source": [
    "important_patches\n",
    "# Önemli patch'leri görselleştir\n",
    "fig, ax = plt.subplots(1, 10, figsize=(20, 20))\n",
    "for i, patch in enumerate(important_patches['happy']):\n",
    "    ax[i].imshow(patch.reshape(24, 24), cmap='gray')\n",
    "    ax[i].axis('off')\n",
    "plt.show()\n",
    "\n",
    "# Patchleri train datasetinden örnek birkaç görüntüde denk geldiği noktaya göre görselleştir\n",
    "fig, ax = plt.subplots(3, 10, figsize=(20, 20))"
   ]
  },
  {
   "cell_type": "code",
   "execution_count": null,
   "metadata": {},
   "outputs": [],
   "source": [
    "from sklearn.decomposition import PCA\n",
    "from sklearn.feature_extraction.image import extract_patches_2d\n",
    "from sklearn.cluster import KMeans\n",
    "from skimage.filters import gabor\n",
    "import numpy as np\n",
    "\n",
    "def extract_gabor_features(image, patch_size=(8, 8), max_patches=4):\n",
    "    # Gabor özniteliklerini çıkarmak için bir fonksiyon\n",
    "    patches = extract_patches_2d(image, patch_size, max_patches=max_patches)\n",
    "    \n",
    "    features = []\n",
    "    for patch in patches:\n",
    "\n",
    "        filt_real, filt_imag = gabor(patch, frequency=0.6)\n",
    "        # features.append(np.abs(patch).flatten())\n",
    "        features.append(np.abs(filt_real).flatten())\n",
    "    return np.array(features)\n",
    "\n",
    "def find_important_patches(X, y, num_clusters=10, patch_size = (8,8)):\n",
    "    # Her bir duygu için en önemli patch'leri bulmak için bir fonksiyon\n",
    "    unique_emotions = np.unique(y)\n",
    "    important_patches = {emotion: [] for emotion in unique_emotions}\n",
    "    all_patches = {emotion: [] for emotion in unique_emotions}\n",
    "    \n",
    "    for emotion in unique_emotions:\n",
    "        if emotion != 'angry' and emotion != 'happy':\n",
    "            continue\n",
    "        # O duygu için tüm görüntüleri al\n",
    "        emotion_images = X[y == emotion]\n",
    "\n",
    "        # Tüm görüntülerden patch'leri çıkar ve öznitelikleri hesapla\n",
    "        all_features = []\n",
    "        for img in emotion_images:\n",
    "            img = img.reshape(48, 48)  # Eğer gerekirse, img'i yeniden şekillendir\n",
    "            features = extract_gabor_features(img, patch_size=patch_size)\n",
    "            all_features.append(features)\n",
    "\n",
    "            # #plot the filtered images\n",
    "            # fig, ax = plt.subplots(1, 4, figsize=(20, 20))\n",
    "            # for i, patch in enumerate(features):\n",
    "            #     ax[i].imshow(patch.reshape(patch_size[0], patch_size[1]), cmap='gray')\n",
    "            #     ax[i].axis('off')\n",
    "            # plt.show()\n",
    "        \n",
    "        # Tüm öznitelikleri birleştir\n",
    "        all_features = np.vstack(all_features)\n",
    "        # print(all_features)\n",
    "        # PCA ile boyut indirgeme\n",
    "        pca = PCA(n_components=5)\n",
    "        reduced_features = pca.fit_transform(all_features)\n",
    "        \n",
    "        # KMeans ile kümeleme\n",
    "        kmeans = KMeans(n_clusters=num_clusters)\n",
    "        kmeans.fit(reduced_features)\n",
    "        \n",
    "        # En önemli patch'leri bul\n",
    "        centers = kmeans.cluster_centers_\n",
    "        for center in centers:\n",
    "            distances = np.linalg.norm(reduced_features - center, axis=1)\n",
    "            important_patch_idx = np.argmin(distances)\n",
    "            print(important_patch_idx)\n",
    "            important_patches[emotion].append(all_features[important_patch_idx])\n",
    "        all_patches[emotion] = all_features\n",
    "            \n",
    "    return all_patches, important_patches \n",
    "\n",
    "patch_size = (16,16)\n",
    "all_patches, important_patches = find_important_patches(X_train, y_train, patch_size=patch_size)\n",
    "\n",
    "\n",
    "\n"
   ]
  },
  {
   "cell_type": "code",
   "execution_count": null,
   "metadata": {},
   "outputs": [],
   "source": [
    "# Önemli patch'leri görselleştir\n",
    "fig, ax = plt.subplots(1, 10, figsize=(10, 10))\n",
    "for i, patch in enumerate(important_patches['happy']):\n",
    "    ax[i].imshow(patch.reshape(patch_size[0], patch_size[1]), cmap='gray')\n",
    "    ax[i].axis('off')\n",
    "plt.show()"
   ]
  },
  {
   "cell_type": "code",
   "execution_count": null,
   "metadata": {},
   "outputs": [],
   "source": [
    "from matplotlib import patches\n",
    "\n",
    "# def visualize_patches(image, patchess, patch_size=(24, 24)):\n",
    "#     \"\"\"\n",
    "#     image: Orijinal görüntü\n",
    "#     patches: Görselleştirmek istediğiniz patch'lerin listesi (patch'lerin konumları)\n",
    "#     patch_size: Her bir patch'in boyutu\n",
    "#     \"\"\"\n",
    "#     fig, ax = plt.subplots(1)\n",
    "#     ax.imshow(image, cmap='gray')\n",
    "\n",
    "#     for patch in patchess:\n",
    "#         # print(patch)\n",
    "#         y, x = divmod(image.shape[1], patch)\n",
    "#         # print(y,x)\n",
    "\n",
    "#     for i in range(len(x)):\n",
    "#         rect = patches.Rectangle((x[i], y[i]), patch_size[1], patch_size[0], linewidth=1, edgecolor='r', facecolor='none')\n",
    "#         ax.add_patch(rect)\n",
    "\n",
    "#     plt.show()\n",
    "\n",
    "X_train_angry = X_train[y_train == 'angry']\n",
    "X_train_happy = X_train[y_train == 'happy']\n",
    "\n",
    "\n",
    "def visualize_patches(image, patch_positions, patch_size=(24, 24)):\n",
    "    \"\"\"\n",
    "    image: Original image.\n",
    "    patch_positions: List of tuples indicating the top-left corner positions of patches to visualize.\n",
    "    patch_size: The size of each patch.\n",
    "    \"\"\"\n",
    "    fig, ax = plt.subplots(1)\n",
    "    ax.imshow(image, cmap='gray')\n",
    "\n",
    "    for position in patch_positions:\n",
    "        print(position)\n",
    "        (y, x) = position  # Assuming position is a tuple (y, x)\n",
    "        rect = patches.Rectangle((x, y), patch_size[1], patch_size[0], linewidth=1, edgecolor='r', facecolor='none')\n",
    "        ax.add_patch(rect)\n",
    "\n",
    "    plt.show()\n",
    "\n",
    "\n",
    "\n",
    "visualize_patches(X_train_angry[3].reshape(48, 48), important_patches['happy'], patch_size=patch_size)"
   ]
  },
  {
   "cell_type": "code",
   "execution_count": null,
   "metadata": {},
   "outputs": [],
   "source": []
  },
  {
   "cell_type": "markdown",
   "metadata": {},
   "source": [
    "MY OWN PATCH FUN\n"
   ]
  },
  {
   "cell_type": "code",
   "execution_count": null,
   "metadata": {},
   "outputs": [],
   "source": [
    "from sklearn.decomposition import PCA\n",
    "from sklearn.cluster import KMeans\n",
    "from skimage.filters import gabor\n",
    "import numpy as np\n",
    "\n",
    "def extract_patches_with_positions(image, patch_size=(8, 8), max_patches=None):\n",
    "    patches = []\n",
    "    positions = []\n",
    "    h, w = image.shape\n",
    "    for y in range(0, h - patch_size[0] + 1, patch_size[0]):\n",
    "        for x in range(0, w - patch_size[1] + 1, patch_size[1]):\n",
    "            patch = image[y:y+patch_size[0], x:x+patch_size[1]]\n",
    "            patches.append(patch)\n",
    "            positions.append((y, x))\n",
    "            if max_patches and len(patches) >= max_patches:\n",
    "                break\n",
    "        if max_patches and len(patches) >= max_patches:\n",
    "                break\n",
    "    return patches, positions\n",
    "\n",
    "def extract_gabor_features(patches):\n",
    "    features = []\n",
    "    for patch in patches:\n",
    "        filt_real, filt_imag = gabor(patch, frequency=0.6)\n",
    "        features.append(np.abs(filt_real).flatten())\n",
    "    return np.array(features)\n",
    "\n",
    "def find_important_patches(X, y, num_clusters=10, patch_size=(8,8)):\n",
    "    unique_emotions = np.unique(y)\n",
    "    important_patches = {emotion: [] for emotion in unique_emotions}\n",
    "    all_patches = {emotion: [] for emotion in unique_emotions}\n",
    "    \n",
    "    for emotion in unique_emotions:\n",
    "        if emotion != 'angry' and emotion != 'happy':\n",
    "            continue\n",
    "        emotion_images = X[y == emotion]\n",
    "\n",
    "        all_features = []\n",
    "        all_positions = []\n",
    "        for img in emotion_images:\n",
    "            img = img.reshape(48, 48)  # Eğer gerekirse, img'i yeniden şekillendir\n",
    "            patches, positions = extract_patches_with_positions(img, patch_size=patch_size)\n",
    "            features = extract_gabor_features(patches)\n",
    "            all_features.extend(features)\n",
    "            all_positions.extend(positions)\n",
    "\n",
    "        all_features = np.array(all_features)\n",
    "        \n",
    "        pca = PCA(n_components=10)\n",
    "        reduced_features = pca.fit_transform(all_features)\n",
    "        \n",
    "        kmeans = KMeans(n_clusters=num_clusters)\n",
    "        kmeans.fit(reduced_features)\n",
    "        \n",
    "        centers = kmeans.cluster_centers_\n",
    "        for center in centers:\n",
    "            distances = np.linalg.norm(reduced_features - center, axis=1)\n",
    "            important_patch_idx = np.argmin(distances)\n",
    "            important_patches[emotion].append(all_positions[important_patch_idx])\n",
    "            all_patches[emotion].append(all_features[important_patch_idx])\n",
    "\n",
    "    return all_patches, important_patches\n"
   ]
  },
  {
   "cell_type": "code",
   "execution_count": null,
   "metadata": {},
   "outputs": [],
   "source": [
    "X_train_angry = X_train[y_train == 'angry']\n",
    "X_train_happy = X_train[y_train == 'happy']\n",
    "\n",
    "def visualize_patches(image, patch_positions, patch_size=(24, 24)):\n",
    "    \"\"\"\n",
    "    image: Original image.\n",
    "    patch_positions: List of tuples indicating the top-left corner positions of patches to visualize.\n",
    "    patch_size: The size of each patch.\n",
    "    \"\"\"\n",
    "    fig, ax = plt.subplots(1)\n",
    "    ax.imshow(image, cmap='gray')\n",
    "\n",
    "    for position in patch_positions:\n",
    "        print(position)\n",
    "        (y, x) = position  # Assuming position is a tuple (y, x)\n",
    "        rect = patches.Rectangle((x, y), patch_size[1], patch_size[0], linewidth=1, edgecolor='r', facecolor='none')\n",
    "        ax.add_patch(rect)\n",
    "\n",
    "    plt.show()\n",
    "\n",
    "\n",
    "\n",
    "visualize_patches(X_train_angry[0].reshape(48, 48), important_patches['angry'], patch_size=patch_size)"
   ]
  },
  {
   "cell_type": "code",
   "execution_count": null,
   "metadata": {},
   "outputs": [],
   "source": [
    "important_patch_coordinates = [features for features in important_patches.values() if len(features) > 0]\n",
    "important_patch_labels = [emotion for emotion, features in important_patches.items() if len(features) > 0]\n",
    "\n",
    "def visualize_image_on_specific_patches(image, patch_positions, patch_size=(24, 24)):\n",
    "    # İlk olarak, beyaz bir arka plan oluştur\n",
    "    white_background = np.ones_like(image) * 255\n",
    "    \n",
    "    # Şimdi, her bir yama pozisyonu için, ilgili görüntü bölümünü beyaz arka plan üzerine kopyala\n",
    "    for position in patch_positions:\n",
    "        y, x = position\n",
    "        white_background[y:y+patch_size[1], x:x+patch_size[0]] = image[y:y+patch_size[1], x:x+patch_size[0]]\n",
    "    \n",
    "    # Sonuç görüntüyü göster\n",
    "    plt.imshow(white_background, cmap='gray')\n",
    "    plt.axis('off') # Eksenleri gizle\n",
    "    plt.show()\n",
    "    \n",
    "visualize_image_on_specific_patches(X_train_angry[0].reshape(48, 48), important_patch_coordinates[0], patch_size=patch_size)"
   ]
  },
  {
   "cell_type": "code",
   "execution_count": null,
   "metadata": {},
   "outputs": [],
   "source": [
    "def find_important_patches_without_gabor(X, y, patch_size=(8,8)):\n",
    "    unique_emotions = np.unique(y)\n",
    "    important_patches = {emotion: [] for emotion in unique_emotions}\n",
    "    all_patches = {emotion: [] for emotion in unique_emotions}\n",
    "    \n",
    "    for emotion in unique_emotions:\n",
    "        if emotion != 'angry' and emotion != 'happy':\n",
    "            continue\n",
    "        emotion_images = X[y == emotion]\n",
    "\n",
    "        all_features = []\n",
    "        all_positions = []\n",
    "        for img in emotion_images:\n",
    "            img = img.reshape(48, 48)  # Eğer gerekirse, img'i yeniden şekillendir\n",
    "            patches, positions = extract_patches_with_positions(img, patch_size=patch_size)\n",
    "            patches = np.array(patches)\n",
    "            patches = patches.reshape(patches.shape[0], -1)  # Reshape patches to 2D\n",
    "            all_features.extend(patches)\n",
    "            all_positions.extend(positions)\n",
    "\n",
    "        all_features = np.array(all_features)\n",
    "        \n",
    "        pca = PCA(n_components=10)\n",
    "        reduced_features = pca.fit_transform(all_features)\n",
    "        \n",
    "        kmeans = KMeans(n_clusters=10)\n",
    "        kmeans.fit(reduced_features)\n",
    "        \n",
    "        centers = kmeans.cluster_centers_\n",
    "        for center in centers:\n",
    "            distances = np.linalg.norm(reduced_features - center, axis=1)\n",
    "            important_patch_idx = np.argmin(distances)\n",
    "            important_patches[emotion].append(all_positions[important_patch_idx])\n",
    "            all_patches[emotion].append(all_features[important_patch_idx])\n",
    "\n",
    "    return all_patches, important_patches"
   ]
  },
  {
   "cell_type": "code",
   "execution_count": null,
   "metadata": {},
   "outputs": [],
   "source": [
    "patch_size = (4,4)\n",
    "# all_patches, important_patches = find_important_patches(X_train, y_train, patch_size=patch_size)\n",
    "\n",
    "all_patches_without_gabor, important_patches_without_gabor = find_important_patches_without_gabor(X_train, y_train, patch_size=patch_size)"
   ]
  },
  {
   "cell_type": "code",
   "execution_count": null,
   "metadata": {},
   "outputs": [],
   "source": [
    "important_patches_without_gabor['angry']\n",
    "\n",
    "visualize_image_on_specific_patches(X_train_angry[0].reshape(48, 48), important_patches_without_gabor['happy'], patch_size=patch_size)"
   ]
  },
  {
   "cell_type": "code",
   "execution_count": null,
   "metadata": {},
   "outputs": [],
   "source": [
    "import numpy as np\n",
    "from sklearn.feature_extraction.image import extract_patches_2d\n",
    "\n",
    "def calculate_average_patch(images, patch_size=(8, 8)):\n",
    "    \"\"\"Her koordinat için patch'lerin ortalamasını hesaplar.\"\"\"\n",
    "    # Görüntü boyutlarına ve patch boyutuna bağlı olarak tüm patch'lerin toplamını ve sayısını saklayacak yapı\n",
    "    patch_sums = np.zeros((images[0].shape[0] - patch_size[0] + 1, images[0].shape[1] - patch_size[1] + 1, patch_size[0], patch_size[1]))\n",
    "    patch_counts = np.zeros(patch_sums.shape[:2])\n",
    "    \n",
    "    # Tüm görüntüler için patch'leri çıkar ve topla\n",
    "    for image in images:\n",
    "        patches = extract_patches_2d(image, patch_size)\n",
    "        for i in range(patches.shape[0]):\n",
    "            y, x = i // patch_counts.shape[1], i % patch_counts.shape[1]  # Patch'in koordinatını hesapla\n",
    "            patch_sums[y, x] += patches[i]\n",
    "            patch_counts[y, x] += 1\n",
    "    \n",
    "    # Ortalama patch'leri hesapla\n",
    "    average_patches = patch_sums / patch_counts[:,:,None,None]\n",
    "    \n",
    "    return average_patches\n",
    "\n",
    "def find_most_similar_patches(images, average_patches, patch_size=(8, 8)):\n",
    "    \"\"\"Her koordinat için ortalama patch'e en çok benzeyen patch'i bulur.\"\"\"\n",
    "    similar_patches_coordinates = []\n",
    "    for y in range(average_patches.shape[0]):\n",
    "        for x in range(average_patches.shape[1]):\n",
    "            min_distance = np.inf\n",
    "            min_idx = None\n",
    "            for idx, image in enumerate(images):\n",
    "                patch = extract_patches_2d(image[y:y+patch_size[0], x:x+patch_size[1]], patch_size)\n",
    "                distance = np.linalg.norm(patch - average_patches[y, x])\n",
    "                if distance < min_distance:\n",
    "                    min_distance = distance\n",
    "                    min_idx = (idx, y, x)\n",
    "            similar_patches_coordinates.append(min_idx)\n",
    "    \n",
    "    return similar_patches_coordinates\n",
    "\n",
    "# Örnek kullanım\n",
    "images = X_train_angry[:10]  # Bu, numpy array'leri olan görüntü listesi olmalı\n",
    "patch_size = (8, 8)\n",
    "average_patches = calculate_average_patch(images, patch_size)\n",
    "similar_patches = find_most_similar_patches(images, average_patches=average_patches, patch_size=patch_size)\n"
   ]
  },
  {
   "cell_type": "code",
   "execution_count": null,
   "metadata": {},
   "outputs": [],
   "source": []
  }
 ],
 "metadata": {
  "kernelspec": {
   "display_name": "Python 3",
   "language": "python",
   "name": "python3"
  },
  "language_info": {
   "codemirror_mode": {
    "name": "ipython",
    "version": 3
   },
   "file_extension": ".py",
   "mimetype": "text/x-python",
   "name": "python",
   "nbconvert_exporter": "python",
   "pygments_lexer": "ipython3",
   "version": "3.11.6"
  }
 },
 "nbformat": 4,
 "nbformat_minor": 2
}
